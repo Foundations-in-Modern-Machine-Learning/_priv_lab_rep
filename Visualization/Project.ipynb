{
 "cells": [
  {
   "cell_type": "markdown",
   "metadata": {},
   "source": [
    "# MODULE 2: Appreciating, Interpreting and Visualizing Data\n",
    "#### Coordinator: Kushagra Agarwal\n",
    "\n",
    "---\n",
    "# Project\n",
    "\n",
    "---\n"
   ]
  },
  {
   "cell_type": "markdown",
   "metadata": {},
   "source": [
    "For the last 2 years we have been severely affected by the COVID-19 pandemic. And if you would know a little about it, you would have heard about **SARS-CoV-2** (Severe Acute Respiratory Syndrome Coronavirus 2) which is the virus responsible for the COVID-19 disease.\n",
    "\n",
    "A little biology might intrigue you further. This SARS-CoV-2 is a RNA virus and when this virus enters your body, it interacts with the ACE-2 receptor using its Spike protein. When this happens, it gets access to be able to multiply inside your body, ultimately resulting in you getting infected with the COVID-19 disease.\n",
    "\n",
    "Before I explain you the details of the project and what you will be doing, let me first introduce you to what a virus genome is. Every living organism in this world has someting called a Nucleus which produces its characteristic genome sequence. Even your body has a genome and it will be very different from that of lets say a cat. Now, this SARS-CoV-2 virus also has its characteristic genome sequence and it is roughly of the length 29000 bases. A little more Class 9 biology lesson: Each genome is built up with just 4 characters called bases (A, T, G and C).\n",
    "\n",
    "For this project, I will provide you with some SARS-CoV-2 genomes collected from infected people in India and you will use just the Visualization techniques you learnt in the module to analyze the genomes and infer the spread of the COVID-19 disease in the country."
   ]
  },
  {
   "cell_type": "markdown",
   "metadata": {},
   "source": [
    "685 genome sequences from India downloaded from GISAID (https://www.gisaid.org/) in early to mid 2020 have been provided to you in the _sequences.fasta_ file and some cleaned metadata regarding these sequences has been given in the _INDIA_685.csv_ file. "
   ]
  },
  {
   "cell_type": "code",
   "execution_count": 1,
   "metadata": {},
   "outputs": [],
   "source": [
    "import pandas as pd\n",
    "import numpy as np\n",
    "from Bio import SeqIO"
   ]
  },
  {
   "cell_type": "code",
   "execution_count": 2,
   "metadata": {},
   "outputs": [
    {
     "data": {
      "text/html": [
       "<div>\n",
       "<style scoped>\n",
       "    .dataframe tbody tr th:only-of-type {\n",
       "        vertical-align: middle;\n",
       "    }\n",
       "\n",
       "    .dataframe tbody tr th {\n",
       "        vertical-align: top;\n",
       "    }\n",
       "\n",
       "    .dataframe thead th {\n",
       "        text-align: right;\n",
       "    }\n",
       "</style>\n",
       "<table border=\"1\" class=\"dataframe\">\n",
       "  <thead>\n",
       "    <tr style=\"text-align: right;\">\n",
       "      <th></th>\n",
       "      <th>StrainID</th>\n",
       "      <th>Accession_ID</th>\n",
       "      <th>Location</th>\n",
       "      <th>State</th>\n",
       "      <th>Host</th>\n",
       "      <th>Gender</th>\n",
       "      <th>Patient age</th>\n",
       "      <th>Patient status</th>\n",
       "      <th>Collection_date</th>\n",
       "      <th>Originating lab</th>\n",
       "      <th>Authors</th>\n",
       "      <th>Nuc_muts</th>\n",
       "    </tr>\n",
       "  </thead>\n",
       "  <tbody>\n",
       "    <tr>\n",
       "      <th>680</th>\n",
       "      <td>hCoV-19/India/nimh-2873/2020|EPI_ISL_436137|20...</td>\n",
       "      <td>EPI_ISL_436137</td>\n",
       "      <td>Asia / India / Karnataka</td>\n",
       "      <td>Karnataka</td>\n",
       "      <td>Human</td>\n",
       "      <td>Female</td>\n",
       "      <td>28</td>\n",
       "      <td>Asymptomatic</td>\n",
       "      <td>2020-04-21</td>\n",
       "      <td>District Surveillance Unit</td>\n",
       "      <td>Chitra Pattabiraman, Vijayalakshmi Reddy, Hars...</td>\n",
       "      <td>['C1281T', 'C4158T', 'G11083T', 'C13730T', 'C2...</td>\n",
       "    </tr>\n",
       "    <tr>\n",
       "      <th>681</th>\n",
       "      <td>hCoV-19/India/nimh-3952/2020|EPI_ISL_436138|20...</td>\n",
       "      <td>EPI_ISL_436138</td>\n",
       "      <td>Asia / India / Karnataka</td>\n",
       "      <td>Karnataka</td>\n",
       "      <td>Human</td>\n",
       "      <td>Male</td>\n",
       "      <td>38</td>\n",
       "      <td>Asymptomatic</td>\n",
       "      <td>2020-04-23</td>\n",
       "      <td>District Surveillance Unit</td>\n",
       "      <td>Chitra Pattabiraman, Vijayalakshmi Reddy, Hars...</td>\n",
       "      <td>['C241T', 'C3037T', 'C3634T', 'A3742G', 'C1440...</td>\n",
       "    </tr>\n",
       "    <tr>\n",
       "      <th>682</th>\n",
       "      <td>hCoV-19/India/nimh-3970/2020|EPI_ISL_436139|20...</td>\n",
       "      <td>EPI_ISL_436139</td>\n",
       "      <td>Asia / India / Karnataka</td>\n",
       "      <td>Karnataka</td>\n",
       "      <td>Human</td>\n",
       "      <td>Male</td>\n",
       "      <td>20</td>\n",
       "      <td>Symptomatic</td>\n",
       "      <td>2020-04-23</td>\n",
       "      <td>District Surveillance Unit</td>\n",
       "      <td>Chitra Pattabiraman, Vijayalakshmi Reddy, Hars...</td>\n",
       "      <td>['C241T', 'C3037T', 'C3634T', 'A3742G', 'C1440...</td>\n",
       "    </tr>\n",
       "    <tr>\n",
       "      <th>683</th>\n",
       "      <td>hCoV-19/India/nimh-4376/2020|EPI_ISL_436140|20...</td>\n",
       "      <td>EPI_ISL_436140</td>\n",
       "      <td>Asia / India / Karnataka</td>\n",
       "      <td>Karnataka</td>\n",
       "      <td>Human</td>\n",
       "      <td>Female</td>\n",
       "      <td>52</td>\n",
       "      <td>Asymptomatic</td>\n",
       "      <td>2020-04-24</td>\n",
       "      <td>District Surveillance Unit</td>\n",
       "      <td>Chitra Pattabiraman, Vijayalakshmi Reddy, Hars...</td>\n",
       "      <td>['C241T', 'C3037T', 'C3634T', 'A3742G', 'C1440...</td>\n",
       "    </tr>\n",
       "    <tr>\n",
       "      <th>684</th>\n",
       "      <td>hCoV-19/India/nimh-4378/2020|EPI_ISL_436141|20...</td>\n",
       "      <td>EPI_ISL_436141</td>\n",
       "      <td>Asia / India / Karnataka</td>\n",
       "      <td>Karnataka</td>\n",
       "      <td>Human</td>\n",
       "      <td>Female</td>\n",
       "      <td>27</td>\n",
       "      <td>Asymptomatic</td>\n",
       "      <td>2020-04-24</td>\n",
       "      <td>District Surveillance Unit</td>\n",
       "      <td>Chitra Pattabiraman, Vijayalakshmi Reddy, Hars...</td>\n",
       "      <td>['C241T', 'C3037T', 'C3634T', 'A3742G', 'C1440...</td>\n",
       "    </tr>\n",
       "  </tbody>\n",
       "</table>\n",
       "</div>"
      ],
      "text/plain": [
       "                                              StrainID    Accession_ID  \\\n",
       "680  hCoV-19/India/nimh-2873/2020|EPI_ISL_436137|20...  EPI_ISL_436137   \n",
       "681  hCoV-19/India/nimh-3952/2020|EPI_ISL_436138|20...  EPI_ISL_436138   \n",
       "682  hCoV-19/India/nimh-3970/2020|EPI_ISL_436139|20...  EPI_ISL_436139   \n",
       "683  hCoV-19/India/nimh-4376/2020|EPI_ISL_436140|20...  EPI_ISL_436140   \n",
       "684  hCoV-19/India/nimh-4378/2020|EPI_ISL_436141|20...  EPI_ISL_436141   \n",
       "\n",
       "                     Location      State   Host  Gender Patient age  \\\n",
       "680  Asia / India / Karnataka  Karnataka  Human  Female          28   \n",
       "681  Asia / India / Karnataka  Karnataka  Human    Male          38   \n",
       "682  Asia / India / Karnataka  Karnataka  Human    Male          20   \n",
       "683  Asia / India / Karnataka  Karnataka  Human  Female          52   \n",
       "684  Asia / India / Karnataka  Karnataka  Human  Female          27   \n",
       "\n",
       "    Patient status Collection_date             Originating lab  \\\n",
       "680   Asymptomatic      2020-04-21  District Surveillance Unit   \n",
       "681   Asymptomatic      2020-04-23  District Surveillance Unit   \n",
       "682    Symptomatic      2020-04-23  District Surveillance Unit   \n",
       "683   Asymptomatic      2020-04-24  District Surveillance Unit   \n",
       "684   Asymptomatic      2020-04-24  District Surveillance Unit   \n",
       "\n",
       "                                               Authors  \\\n",
       "680  Chitra Pattabiraman, Vijayalakshmi Reddy, Hars...   \n",
       "681  Chitra Pattabiraman, Vijayalakshmi Reddy, Hars...   \n",
       "682  Chitra Pattabiraman, Vijayalakshmi Reddy, Hars...   \n",
       "683  Chitra Pattabiraman, Vijayalakshmi Reddy, Hars...   \n",
       "684  Chitra Pattabiraman, Vijayalakshmi Reddy, Hars...   \n",
       "\n",
       "                                              Nuc_muts  \n",
       "680  ['C1281T', 'C4158T', 'G11083T', 'C13730T', 'C2...  \n",
       "681  ['C241T', 'C3037T', 'C3634T', 'A3742G', 'C1440...  \n",
       "682  ['C241T', 'C3037T', 'C3634T', 'A3742G', 'C1440...  \n",
       "683  ['C241T', 'C3037T', 'C3634T', 'A3742G', 'C1440...  \n",
       "684  ['C241T', 'C3037T', 'C3634T', 'A3742G', 'C1440...  "
      ]
     },
     "execution_count": 2,
     "metadata": {},
     "output_type": "execute_result"
    }
   ],
   "source": [
    "data = pd.read_csv(\"data/INDIA_685.csv\")\n",
    "data.tail()"
   ]
  },
  {
   "cell_type": "code",
   "execution_count": 3,
   "metadata": {},
   "outputs": [
    {
     "name": "stdout",
     "output_type": "stream",
     "text": [
      "Number of sequences is: 685\n"
     ]
    }
   ],
   "source": [
    "fasta_sequences = SeqIO.parse(open(\"data/sequences.fasta\"),'fasta')\n",
    "\n",
    "counter = 0\n",
    "for fasta in fasta_sequences:\n",
    "    counter +=1\n",
    "    \n",
    "print(\"Number of sequences is:\", counter)    "
   ]
  },
  {
   "cell_type": "markdown",
   "metadata": {},
   "source": [
    "You might have heard in the news that the SARS-CoV-2 is mutating and might have heard the words Double Mutant, Delta Variant and so on. These are nothing but very slight differences in the genomes caused due to Mutations. Some of these mutations end up making the virus deadlier or more infectious.\n",
    "\n",
    "Our goal here is to analyze these genomes and find the ones closer to one another (similar mutations in both) or distant (different profile of mutations). These mutations in turn help us to understand the spread of the Virus and the Demographics of it. Imagine a sequence from Italy has the same set of 10 random mutations as a sequence in India. We can then infer that the source of infection for both the people could be the same. This sort of analysis helps us analyze hotspots and predict if a large outbreak is about to happen.\n",
    "\n",
    "We will try to look at these genome sequences and be able to cluster similar ones together and distant ones furhter away. In this project you will be using two methods to do this:\n",
    "\n",
    "**1. k-mer based methods** <br>\n",
    "**2. Mutation Profile based methods**"
   ]
  },
  {
   "cell_type": "markdown",
   "metadata": {},
   "source": [
    "# kmer based methods"
   ]
  },
  {
   "cell_type": "markdown",
   "metadata": {},
   "source": [
    "In bioinformatics, k-mers are substrings of length k contained within a biological sequence. A sequence of length L will have ```L-k+1 k-mers``` and ```4^k total possible k-mers```. Here we, will be using kmers of size 7. We will represent each genome in this kmer space. Basically a genome of size 30000 bases would have a total of 29994 7-mers. \n",
    "\n",
    "**Now how do you use this information to cluster genome sequences?** <br>\n",
    "We would be looking at the counts of different kmers in the genomes and the ones which have similar counts for different kmers should end up closer than the others.\n",
    "\n",
    "For **k=7**, there are **16384** possible kmers. We will represent each genome sequence as a vector of size 16384 with each position scoring the frequency of the kmer corresponding to that position.\n",
    "\n",
    "**But how do we find out the position in the array for a kmer?**<br>\n",
    "We will be using a hash function to map each kmer to a position in the array (0 to 16383). Whenever that kmer will be observed in a sequence, the value at the corresponding position in the array would be increased by 1."
   ]
  },
  {
   "cell_type": "markdown",
   "metadata": {},
   "source": [
    "#### Hash function:\n",
    "\n",
    "A: 0 <br>\n",
    "G: 1<br>\n",
    "T: 2<br>\n",
    "C: 3<br>\n",
    "\n",
    "Multiply the character value by ```4^(position of the character in the kmer)``` <br>\n",
    "therefore, TAG would equal = (4^0 * 2) + (4^1 * 0) + (4^2 * 1) = 2 + 0 + 16 = 18\n",
    "\n",
    "**Can you find out the hash value for CATCGAG?**"
   ]
  },
  {
   "cell_type": "code",
   "execution_count": 4,
   "metadata": {},
   "outputs": [
    {
     "data": {
      "text/plain": [
       "(0, 4680)"
      ]
     },
     "execution_count": 4,
     "metadata": {},
     "output_type": "execute_result"
    }
   ],
   "source": [
    "def calc_score(examplesequence):\n",
    "\n",
    "    position = 0\n",
    "    score = 0\n",
    "    value =0\n",
    "    flag = 0\n",
    "    \n",
    "    for base in examplesequence:\n",
    "\n",
    "        if(base == \"A\" or base == \"a\"):\n",
    "            value = 0\n",
    "        elif(base == \"G\" or base == \"g\"):\n",
    "            value = 1\n",
    "        elif(base == \"T\" or base == \"t\"):\n",
    "            value = 2\n",
    "        elif(base == \"C\" or base == \"c\"):\n",
    "            value = 3\n",
    "        else:\n",
    "            flag=1\n",
    "\n",
    "        score += (4 ** position)* value\n",
    "        position+=1\n",
    "\n",
    "    return (flag,score)\n",
    "    \n",
    "calc_score(\"ATAGTAG\")"
   ]
  },
  {
   "cell_type": "code",
   "execution_count": 5,
   "metadata": {},
   "outputs": [],
   "source": [
    "k=7\n",
    "big_matrix = []\n",
    "sequences_name = []\n",
    "\n",
    "fasta_sequences = SeqIO.parse(open(\"data/sequences.fasta\"),'fasta')\n",
    "\n",
    "for fasta in fasta_sequences:\n",
    "    \n",
    "    embedding = np.zeros(4**k, dtype=int)\n",
    "    sequence = str(fasta.seq)\n",
    "    sequence_name = fasta.id\n",
    "    sequences_name.append(sequence_name)\n",
    "\n",
    "    for j in range(len(sequence)-k+1):\n",
    "        kmer = sequence[j:j+k]\n",
    "        flag,score = calc_score(kmer)\n",
    "        if(flag!=1):\n",
    "            embedding[score]+=1\n",
    "\n",
    "    embedding = embedding.tolist()\n",
    "    big_matrix.append(embedding)"
   ]
  },
  {
   "cell_type": "code",
   "execution_count": 6,
   "metadata": {},
   "outputs": [
    {
     "name": "stdout",
     "output_type": "stream",
     "text": [
      "Number of sequences: 685\n",
      "Number of features for each sequence: 16384\n"
     ]
    }
   ],
   "source": [
    "print(\"Number of sequences:\", len(sequences_name))\n",
    "print(\"Number of features for each sequence:\", len(big_matrix[0]))"
   ]
  },
  {
   "cell_type": "markdown",
   "metadata": {},
   "source": [
    "So essentially we reduced a **29000 base sequence** into a **vector of size 16384**. Now we need to further reduce the dimensionality to 2 or 3 dimensions to be able to visualize it. \n",
    "\n",
    "**But how dow we do that??**\n",
    "\n",
    "We can use any of the methods taught to you in the Labs. But here I will explain how to do this using PCA. Then you will use the knowledge from Lab3 on t-SNE to do a similar analysis yourself."
   ]
  },
  {
   "cell_type": "markdown",
   "metadata": {},
   "source": [
    "### PCA"
   ]
  },
  {
   "cell_type": "code",
   "execution_count": 7,
   "metadata": {},
   "outputs": [],
   "source": [
    "from sklearn.decomposition import PCA\n",
    "\n",
    "pca = PCA() # create a PCA object\n",
    "pca.fit(big_matrix) # do the math\n",
    "pca_data = pca.transform(big_matrix) # get PCA coordinates for the matrix"
   ]
  },
  {
   "cell_type": "code",
   "execution_count": 8,
   "metadata": {},
   "outputs": [
    {
     "data": {
      "image/png": "[encoded data removed]",
      "text/plain": [
       "<Figure size 1080x648 with 1 Axes>"
      ]
     },
     "metadata": {},
     "output_type": "display_data"
    }
   ],
   "source": [
    "import matplotlib.pyplot as plt\n",
    "\n",
    "per_var = np.round(pca.explained_variance_ratio_* 100, decimals=1)\n",
    "labels_all = ['PC'+str(x) for x in range(1, len(per_var)+1)]\n",
    "per_var=per_var[:10]\n",
    "labels = [str(x) for x in range(1, len(per_var)+1)]\n",
    "\n",
    "with plt.style.context('dark_background'):\n",
    "    plt.figure(figsize = (15, 9))\n",
    "    plt.xlabel(\"Number of Principal Components\")\n",
    "    plt.ylabel(\"Percentage of variance explained\")\n",
    "    plt.bar(range(1,len(per_var)+1), per_var, tick_label=labels, color = \"aqua\")\n",
    "    plt.plot(range(1,len(per_var)+1), np.cumsum(per_var), color = \"red\")\n",
    "    plt.scatter(range(1,len(per_var)+1), np.cumsum(per_var), color = \"yellow\")"
   ]
  },
  {
   "cell_type": "markdown",
   "metadata": {},
   "source": [
    "As you can see, the first principal component alone explains more than 50% of the variance in the dataset. To put this into context, more than **50% variance in 685 genomes of size 29000 bases could be explained with just one dimension**. This shows the amount of structure present in the dataset.\n",
    "\n",
    "We will be now visualizing the first 2 principal components and plot the genomes according to the State they belonged to."
   ]
  },
  {
   "cell_type": "code",
   "execution_count": 9,
   "metadata": {},
   "outputs": [
    {
     "data": {
      "text/html": [
       "<div>\n",
       "<style scoped>\n",
       "    .dataframe tbody tr th:only-of-type {\n",
       "        vertical-align: middle;\n",
       "    }\n",
       "\n",
       "    .dataframe tbody tr th {\n",
       "        vertical-align: top;\n",
       "    }\n",
       "\n",
       "    .dataframe thead th {\n",
       "        text-align: right;\n",
       "    }\n",
       "</style>\n",
       "<table border=\"1\" class=\"dataframe\">\n",
       "  <thead>\n",
       "    <tr style=\"text-align: right;\">\n",
       "      <th></th>\n",
       "      <th>StrainID</th>\n",
       "      <th>PC1</th>\n",
       "      <th>PC2</th>\n",
       "      <th>PC3</th>\n",
       "      <th>State</th>\n",
       "    </tr>\n",
       "  </thead>\n",
       "  <tbody>\n",
       "    <tr>\n",
       "      <th>680</th>\n",
       "      <td>hCoV-19/India/MaxCov0046_CSIR-IGIB/2020|EPI_IS...</td>\n",
       "      <td>8.592252</td>\n",
       "      <td>0.373869</td>\n",
       "      <td>-1.409068</td>\n",
       "      <td>Delhi</td>\n",
       "    </tr>\n",
       "    <tr>\n",
       "      <th>681</th>\n",
       "      <td>hCoV-19/India/MaxCov0047_CSIR-IGIB/2020|EPI_IS...</td>\n",
       "      <td>9.157462</td>\n",
       "      <td>0.354501</td>\n",
       "      <td>-0.363211</td>\n",
       "      <td>Delhi</td>\n",
       "    </tr>\n",
       "    <tr>\n",
       "      <th>682</th>\n",
       "      <td>hCoV-19/India/MaxCov0048_CSIR-IGIB/2020|EPI_IS...</td>\n",
       "      <td>10.659943</td>\n",
       "      <td>0.414485</td>\n",
       "      <td>0.804045</td>\n",
       "      <td>Delhi</td>\n",
       "    </tr>\n",
       "    <tr>\n",
       "      <th>683</th>\n",
       "      <td>hCoV-19/India/MaxCov0049_CSIR-IGIB/2020|EPI_IS...</td>\n",
       "      <td>12.072919</td>\n",
       "      <td>0.386610</td>\n",
       "      <td>1.872141</td>\n",
       "      <td>Delhi</td>\n",
       "    </tr>\n",
       "    <tr>\n",
       "      <th>684</th>\n",
       "      <td>hCoV-19/India/MaxCov0050_CSIR-IGIB/2020|EPI_IS...</td>\n",
       "      <td>5.800194</td>\n",
       "      <td>0.400379</td>\n",
       "      <td>-2.647660</td>\n",
       "      <td>Delhi</td>\n",
       "    </tr>\n",
       "  </tbody>\n",
       "</table>\n",
       "</div>"
      ],
      "text/plain": [
       "                                              StrainID        PC1       PC2  \\\n",
       "680  hCoV-19/India/MaxCov0046_CSIR-IGIB/2020|EPI_IS...   8.592252  0.373869   \n",
       "681  hCoV-19/India/MaxCov0047_CSIR-IGIB/2020|EPI_IS...   9.157462  0.354501   \n",
       "682  hCoV-19/India/MaxCov0048_CSIR-IGIB/2020|EPI_IS...  10.659943  0.414485   \n",
       "683  hCoV-19/India/MaxCov0049_CSIR-IGIB/2020|EPI_IS...  12.072919  0.386610   \n",
       "684  hCoV-19/India/MaxCov0050_CSIR-IGIB/2020|EPI_IS...   5.800194  0.400379   \n",
       "\n",
       "          PC3  State  \n",
       "680 -1.409068  Delhi  \n",
       "681 -0.363211  Delhi  \n",
       "682  0.804045  Delhi  \n",
       "683  1.872141  Delhi  \n",
       "684 -2.647660  Delhi  "
      ]
     },
     "execution_count": 9,
     "metadata": {},
     "output_type": "execute_result"
    }
   ],
   "source": [
    "final_df = pd.DataFrame(columns=[\"StrainID\", \"PC1\", \"PC2\", \"PC3\", \"State\"])\n",
    "pca_df = pd.DataFrame(pca_data, index=[*sequences_name], columns = labels_all)\n",
    "\n",
    "for sample in pca_df.index:\n",
    "    \n",
    "    dicti = dict()\n",
    "    \n",
    "    dicti[\"StrainID\"] = sample\n",
    "    dicti[\"PC1\"] = pca_df.PC1.loc[sample]\n",
    "    dicti[\"PC2\"] = pca_df.PC2.loc[sample]\n",
    "    dicti[\"PC3\"] = pca_df.PC3.loc[sample]\n",
    "    dicti[\"State\"] = data[data[\"StrainID\"]==sample][\"State\"].tolist()[0]\n",
    "    \n",
    "    final_df = final_df.append(dicti, ignore_index = True)\n",
    "\n",
    "final_df.tail()"
   ]
  },
  {
   "cell_type": "code",
   "execution_count": 10,
   "metadata": {},
   "outputs": [
    {
     "data": {
      "text/html": [
       "        <script type=\"text/javascript\">\n",
       "        window.PlotlyConfig = {MathJaxConfig: 'local'};\n",
       "        if (window.MathJax) {MathJax.Hub.Config({SVG: {font: \"STIX-Web\"}});}\n",
       "        if (typeof require !== 'undefined') {\n",
       "        require.undef(\"plotly\");\n",
       "        requirejs.config({\n",
       "            paths: {\n",
       "                'plotly': ['https://cdn.plot.ly/plotly-latest.min']\n",
       "            }\n",
       "        });\n",
       "        require(['plotly'], function(Plotly) {\n",
       "            window._Plotly = Plotly;\n",
       "        });\n",
       "        }\n",
       "        </script>\n",
       "        "
      ]
     },
     "metadata": {},
     "output_type": "display_data"
    }
   ],
   "source": [
    "import plotly\n",
    "from plotly.offline import iplot, init_notebook_mode\n",
    "init_notebook_mode(connected = True)\n",
    "import plotly.graph_objs as go"
   ]
  },
  {
   "cell_type": "code",
   "execution_count": 11,
   "metadata": {},
   "outputs": [
    {
     "data": {
      "application/vnd.plotly.v1+json": {
       "config": {
        "plotlyServerURL": "https://plot.ly"
       },
       "data": [
        {
         "customdata": [
          [
           "hCoV-19/India/763/2020|EPI_ISL_420543|2020-03-03"
          ],
          [
           "hCoV-19/India/770/2020|EPI_ISL_420545|2020-03-03"
          ],
          [
           "hCoV-19/India/772/2020|EPI_ISL_420547|2020-03-03"
          ],
          [
           "hCoV-19/India/773/2020|EPI_ISL_420549|2020-03-03"
          ],
          [
           "hCoV-19/India/777/2020|EPI_ISL_420551|2020-03-03"
          ],
          [
           "hCoV-19/India/781/2020|EPI_ISL_420553|2020-03-03"
          ],
          [
           "hCoV-19/India/c32/2020|EPI_ISL_420555|2020-03-03"
          ],
          [
           "hCoV-19/India/1073/2020|EPI_ISL_421662|2020-03-10"
          ],
          [
           "hCoV-19/India/1093/2020|EPI_ISL_421663|2020-03-10"
          ],
          [
           "hCoV-19/India/1100/2020|EPI_ISL_421664|2020-03-10"
          ],
          [
           "hCoV-19/India/1104/2020|EPI_ISL_421665|2020-03-10"
          ],
          [
           "hCoV-19/India/1111/2020|EPI_ISL_421666|2020-03-10"
          ],
          [
           "hCoV-19/India/1115/2020|EPI_ISL_421667|2020-03-10"
          ],
          [
           "hCoV-19/India/1125/2020|EPI_ISL_421668|2020-03-10"
          ],
          [
           "hCoV-19/India/1616/2020|EPI_ISL_421669|2020-03-12"
          ],
          [
           "hCoV-19/India/1617/2020|EPI_ISL_421670|2020-03-12"
          ],
          [
           "hCoV-19/India/1621/2020|EPI_ISL_421671|2020-03-12"
          ],
          [
           "hCoV-19/India/1644/2020|EPI_ISL_421672|2020-03-12"
          ],
          [
           "hCoV-19/India/NCDC-02240/2020|EPI_ISL_435098|2020-03-28"
          ],
          [
           "hCoV-19/India/1063/2020|EPI_ISL_424361|2020-03-10"
          ],
          [
           "hCoV-19/India/1135/2020|EPI_ISL_424362|2020-03-10"
          ],
          [
           "hCoV-19/India/1652/2020|EPI_ISL_424363|2020-03-12"
          ],
          [
           "hCoV-19/India/3118/2020|EPI_ISL_424364|2020-03-17"
          ],
          [
           "hCoV-19/India/3239/2020|EPI_ISL_424365|2020-03-17"
          ],
          [
           "hCoV-19/India/c31/2020|EPI_ISL_426179|2020-03-02"
          ],
          [
           "hCoV-19/India/341/2020|EPI_ISL_414515|2020-02-29"
          ],
          [
           "hCoV-19/India/Assam-JMC4/2020|EPI_ISL_450414|2020-03-30"
          ]
         ],
         "hovertemplate": "color=Stateless<br>x=%{x}<br>y=%{y}<br>ID=%{customdata[0]}<extra></extra>",
         "legendgroup": "Stateless",
         "marker": {
          "color": "grey",
          "symbol": "circle"
         },
         "mode": "markers",
         "name": "Stateless",
         "orientation": "v",
         "showlegend": true,
         "type": "scatter",
         "x": [
          -4.326235379856298,
          -4.2343987616551,
          -4.1840903757326275,
          -4.19455855424922,
          -4.186461802784461,
          -4.350985657141561,
          -4.242681125931739,
          -3.793254720735037,
          -3.674323725991346,
          -3.899037906411745,
          -4.295879310004591,
          -3.9761162071725624,
          -3.9337830312493485,
          -4.227998224614987,
          -3.830245686912164,
          -3.805407735122338,
          -3.914258586492334,
          -3.804807378510466,
          -2.5914531354293238,
          -3.987853474112894,
          -4.201390037862965,
          -3.545423465367793,
          -4.111106738811182,
          -4.186292008862615,
          -4.242681125931739,
          354.1227985267018,
          355.04496361714416
         ],
         "xaxis": "x",
         "y": [
          -3.4841389657207933,
          -3.5099958176099006,
          -3.754895847145137,
          -3.5316797997745617,
          -3.550433550873708,
          -3.459770616469249,
          -3.615625007874828,
          -1.734814188785287,
          -1.8331522965369258,
          -1.7004797521154298,
          10.614298436075858,
          -1.631098752283101,
          -1.6754791535132485,
          17.28880890241873,
          -1.7294699219691319,
          -1.71282720911149,
          -1.5781460523688233,
          -1.6862800838176324,
          -0.0906982188382303,
          -1.7039809225505729,
          -3.553928951238814,
          -1.7470818930687633,
          -3.5745585330699607,
          -3.508853652512264,
          -3.615625007874828,
          1.628517864340217,
          1.4934307144299273
         ],
         "yaxis": "y"
        },
        {
         "customdata": [
          [
           "hCoV-19/India/S3/2020|EPI_ISL_430464|2020-03-21"
          ],
          [
           "hCoV-19/India/S5/2020|EPI_ISL_430465|2020-03-28"
          ],
          [
           "hCoV-19/India/S6/2020|EPI_ISL_430466|2020-03-26"
          ],
          [
           "hCoV-19/India/S11/2020|EPI_ISL_430467|2020-04-03"
          ],
          [
           "hCoV-19/India/S2/2020|EPI_ISL_430468|2020-03-21"
          ],
          [
           "hCoV-19/India/NCDC-02252/2020|EPI_ISL_435097|2020-03-28"
          ],
          [
           "hCoV-19/India/S4/2020|EPI_ISL_455640|2020-03-27"
          ],
          [
           "hCoV-19/India/S9/2020|EPI_ISL_455642|2020-04-02"
          ],
          [
           "hCoV-19/India/S13/2020|EPI_ISL_455643|2020-03-30"
          ],
          [
           "hCoV-19/India/S14/2020|EPI_ISL_455644|2020-04-02"
          ],
          [
           "hCoV-19/India/S15/2020|EPI_ISL_455645|2020-04-03"
          ],
          [
           "hCoV-19/India/S16/2020|EPI_ISL_455646|2020-04-03"
          ],
          [
           "hCoV-19/India/S17/2020|EPI_ISL_455647|2020-04-19"
          ],
          [
           "hCoV-19/India/S18/2020|EPI_ISL_455648|2020-04-20"
          ],
          [
           "hCoV-19/India/S19/2020|EPI_ISL_455649|2020-04-20"
          ],
          [
           "hCoV-19/India/S20/2020|EPI_ISL_455650|2020-04-20"
          ],
          [
           "hCoV-19/India/S21/2020|EPI_ISL_455651|2020-04-21"
          ],
          [
           "hCoV-19/India/S22/2020|EPI_ISL_455652|2020-04-21"
          ],
          [
           "hCoV-19/India/S23/2020|EPI_ISL_455653|2020-04-21"
          ],
          [
           "hCoV-19/India/S27/2020|EPI_ISL_455656|2020-04-30"
          ],
          [
           "hCoV-19/India/S29/2020|EPI_ISL_455658|2020-04-30"
          ],
          [
           "hCoV-19/India/S30/2020|EPI_ISL_455659|2020-05-01"
          ],
          [
           "hCoV-19/India/S31/2020|EPI_ISL_455660|2020-05-01"
          ],
          [
           "hCoV-19/India/S33/2020|EPI_ISL_455662|2020-05-02"
          ],
          [
           "hCoV-19/India/S34/2020|EPI_ISL_455663|2020-05-02"
          ],
          [
           "hCoV-19/India/S46/2020|EPI_ISL_455667|2020-05-03"
          ],
          [
           "hCoV-19/India/S48/2020|EPI_ISL_455668|2020-05-05"
          ],
          [
           "hCoV-19/India/S49/2020|EPI_ISL_455669|2020-05-03"
          ],
          [
           "hCoV-19/India/S50/2020|EPI_ISL_455670|2020-05-03"
          ],
          [
           "hCoV-19/India/S51/2020|EPI_ISL_455671|2020-05-03"
          ],
          [
           "hCoV-19/India/S52/2020|EPI_ISL_455672|2020-05-03"
          ],
          [
           "hCoV-19/India/S53/2020|EPI_ISL_455673|2020-05-02"
          ],
          [
           "hCoV-19/India/S55/2020|EPI_ISL_455674|2020-05-03"
          ],
          [
           "hCoV-19/India/S56/2020|EPI_ISL_455675|2020-05-03"
          ],
          [
           "hCoV-19/India/S58/2020|EPI_ISL_455676|2020-05-03"
          ],
          [
           "hCoV-19/India/S59/2020|EPI_ISL_455677|2020-05-04"
          ],
          [
           "hCoV-19/India/S61/2020|EPI_ISL_455678|2020-04-30"
          ],
          [
           "hCoV-19/India/S62/2020|EPI_ISL_455679|2020-05-04"
          ],
          [
           "hCoV-19/India/NCDC-02250/2020|EPI_ISL_435074|2020-03-28"
          ],
          [
           "hCoV-19/India/NCDC-02248/2020|EPI_ISL_435081|2020-03-28"
          ],
          [
           "hCoV-19/India/S1/2020|EPI_ISL_437536|2020-03-19"
          ],
          [
           "hCoV-19/India/S8/2020|EPI_ISL_437537|2020-03-30"
          ],
          [
           "hCoV-19/India/S10/2020|EPI_ISL_437538|2020-04-05"
          ],
          [
           "hCoV-19/India/S12/2020|EPI_ISL_437539|2020-04-06"
          ],
          [
           "hCoV-19/India/NCDC-2502/2020|EPI_ISL_436414|2020-03-31"
          ]
         ],
         "hovertemplate": "color=West Bengal<br>x=%{x}<br>y=%{y}<br>ID=%{customdata[0]}<extra></extra>",
         "legendgroup": "West Bengal",
         "marker": {
          "color": "aqua",
          "symbol": "circle"
         },
         "mode": "markers",
         "name": "West Bengal",
         "orientation": "v",
         "showlegend": true,
         "type": "scatter",
         "x": [
          -4.236093980403202,
          -4.174441589903425,
          -4.202721845772121,
          -4.163056527595672,
          -4.223366996727728,
          -3.652302948900996,
          -2.193253640146009,
          15.768200567747579,
          -4.237420675302653,
          -4.086730578340239,
          -3.95966184674676,
          -4.353296557212815,
          -4.194465581754783,
          -4.175676959611678,
          -3.7822156303514305,
          -4.344226748472937,
          -4.163903771492356,
          -4.158034705659097,
          -4.262438821804339,
          -3.9051066388053237,
          -4.163724795948447,
          -4.290288187426952,
          -4.226329624039484,
          -3.9908491246334936,
          -4.044124427905337,
          -4.239185683086266,
          -4.215756088505205,
          -4.0053482833678595,
          -4.2043509143461115,
          -4.078301462950414,
          -4.106994959759729,
          -3.917315520873776,
          -4.171184641259015,
          -4.22727235988577,
          -4.171184641259015,
          9.613574787199607,
          -4.189119055425921,
          -3.5131891667637287,
          -2.489855507475688,
          -3.0306451071300367,
          61.727060046484574,
          0.05570994797405243,
          16.093283522718185,
          -3.1987877003385092,
          -3.1315624757462714
         ],
         "xaxis": "x",
         "y": [
          -3.598037907140466,
          -3.634396469815781,
          -3.5323910191396153,
          -3.153664011640036,
          -3.6240138079639204,
          -0.09867865113284018,
          13.458652992451464,
          0.657677007523856,
          -3.4769061437325735,
          -3.2702443011957265,
          -2.2614471959194433,
          2.3043961217755173,
          -3.5141950023696205,
          -3.4794627699366463,
          -2.4184519120675536,
          -2.4432245156064463,
          -3.547874604769479,
          -3.515742527309714,
          -3.5465034691912973,
          1.796482289657576,
          -0.08646161639406702,
          -3.4356111344691675,
          -3.111472924201049,
          -3.5718086559885744,
          -3.690839509545456,
          -3.5079940062084694,
          -3.5652435960624933,
          -3.509361083119701,
          -3.4433229238363325,
          -2.281089971966102,
          -3.5645797331290514,
          -3.6091137535414073,
          -3.556802966735567,
          -3.579941608485658,
          -3.556802966735567,
          -3.424933715779624,
          -3.1689382352379996,
          -3.5610568444639004,
          -0.5524415433470717,
          -0.45370305536000244,
          32.89117523557718,
          20.97854490781396,
          23.951490069973364,
          23.382301838921563,
          -0.2552091430143219
         ],
         "yaxis": "y"
        },
        {
         "customdata": [
          [
           "hCoV-19/India/GMC-RK100/2020|EPI_ISL_431101|2020-03-01"
          ],
          [
           "hCoV-19/India/GMC-KN318/2020|EPI_ISL_431102|2020-03-11"
          ],
          [
           "hCoV-19/India/GMC-KN443/2020|EPI_ISL_431103|2020-03-16"
          ],
          [
           "hCoV-19/India/GMC-TC469/2020|EPI_ISL_431117|2020-03-20"
          ],
          [
           "hCoV-19/India/GMC-RR1191/2020|EPI_ISL_438138|2020-03-25"
          ],
          [
           "hCoV-19/India/GMC-RK1090/2020|EPI_ISL_438139|2020-03-25"
          ],
          [
           "hCoV-19/India/CCMB_J300/2020|EPI_ISL_458080|2020-04-03"
          ],
          [
           "hCoV-19/India/CCMB_J207/2020|EPI_ISL_447570|2020-04-01"
          ],
          [
           "hCoV-19/India/CCMB_J224/2020|EPI_ISL_447571|2020-04-01"
          ],
          [
           "hCoV-19/India/CCMB_J230/2020|EPI_ISL_447572|2020-04-01"
          ],
          [
           "hCoV-19/India/CCMB_J118/2020|EPI_ISL_447573|2020-04-01"
          ],
          [
           "hCoV-19/India/CCMB_J208/2020|EPI_ISL_447574|2020-04-01"
          ],
          [
           "hCoV-19/India/CCMB_J458/2020|EPI_ISL_447575|2020-04-02"
          ],
          [
           "hCoV-19/India/CCMB_J232/2020|EPI_ISL_447576|2020-04-02"
          ],
          [
           "hCoV-19/India/CCMB_J321/2020|EPI_ISL_447577|2020-04-02"
          ],
          [
           "hCoV-19/India/CCMB_J327/2020|EPI_ISL_447578|2020-04-02"
          ],
          [
           "hCoV-19/India/CCMB_K128/2020|EPI_ISL_447579|2020-04-10"
          ],
          [
           "hCoV-19/India/CCMB_K496/2020|EPI_ISL_447580|2020-04-13"
          ],
          [
           "hCoV-19/India/CCMB_K600B/2020|EPI_ISL_447581|2020-04-14"
          ],
          [
           "hCoV-19/India/CCMB_K601/2020|EPI_ISL_447582|2020-04-14"
          ],
          [
           "hCoV-19/India/CCMB_L007/2020|EPI_ISL_447583|2020-04-16"
          ],
          [
           "hCoV-19/India/CCMB_J125/2020|EPI_ISL_450326|2020-04-01"
          ],
          [
           "hCoV-19/India/CCMB_J199/2020|EPI_ISL_450327|2020-04-01"
          ],
          [
           "hCoV-19/India/CCMB_J283/2020|EPI_ISL_450328|2020-04-01"
          ],
          [
           "hCoV-19/India/CCMB_J288/2020|EPI_ISL_450329|2020-04-01"
          ],
          [
           "hCoV-19/India/CCMB_J375/2020|EPI_ISL_450330|2020-04-02"
          ],
          [
           "hCoV-19/India/CCMB_J220/2020|EPI_ISL_450331|2020-04-01"
          ],
          [
           "hCoV-19/India/CCMB_J222/2020|EPI_ISL_450332|2020-04-01"
          ],
          [
           "hCoV-19/India/CCMB_L1017/2020|EPI_ISL_458045|2020-05-11"
          ],
          [
           "hCoV-19/India/CCMB_L1021/2020|EPI_ISL_458046|2020-05-11"
          ],
          [
           "hCoV-19/India/CCMB_L1022/2020|EPI_ISL_458047|2020-05-11"
          ],
          [
           "hCoV-19/India/CCMB_L1024/2020|EPI_ISL_458048|2020-05-11"
          ],
          [
           "hCoV-19/India/CCMB_L1026/2020|EPI_ISL_458050|2020-05-11"
          ],
          [
           "hCoV-19/India/CCMB_L1062/2020|EPI_ISL_458051|2020-05-12"
          ],
          [
           "hCoV-19/India/CCMB_L1063/2020|EPI_ISL_458052|2020-05-12"
          ],
          [
           "hCoV-19/India/CCMB_L1064/2020|EPI_ISL_458053|2020-05-12"
          ],
          [
           "hCoV-19/India/CCMB_L1073/2020|EPI_ISL_458054|2020-05-13"
          ],
          [
           "hCoV-19/India/CCMB_L1082/2020|EPI_ISL_458055|2020-05-13"
          ],
          [
           "hCoV-19/India/CCMB_L1085/2020|EPI_ISL_458056|2020-05-13"
          ],
          [
           "hCoV-19/India/CCMB_L1089/2020|EPI_ISL_458057|2020-05-13"
          ],
          [
           "hCoV-19/India/CCMB_L1090/2020|EPI_ISL_458058|2020-05-13"
          ],
          [
           "hCoV-19/India/CCMB_L1100/2020|EPI_ISL_458059|2020-05-13"
          ],
          [
           "hCoV-19/India/CCMB_L1103/2020|EPI_ISL_458060|2020-05-13"
          ],
          [
           "hCoV-19/India/CCMB_L1108/2020|EPI_ISL_458061|2020-05-13"
          ],
          [
           "hCoV-19/India/CCMB_L299/2020|EPI_ISL_458062|2020-04-20"
          ],
          [
           "hCoV-19/India/CCMB_L301/2020|EPI_ISL_458063|2020-04-20"
          ],
          [
           "hCoV-19/India/CCMB_L988/2020|EPI_ISL_458064|2020-05-11"
          ],
          [
           "hCoV-19/India/CCMB_L989/2020|EPI_ISL_458065|2020-05-11"
          ],
          [
           "hCoV-19/India/CCMB_O1/2020|EPI_ISL_458066|2020-04-13"
          ],
          [
           "hCoV-19/India/CCMB_O2/2020|EPI_ISL_458067|2020-04-15"
          ],
          [
           "hCoV-19/India/CCMB_O3/2020|EPI_ISL_458068|2020-04-14"
          ],
          [
           "hCoV-19/India/CCMB_O4/2020|EPI_ISL_458069|2020-04-03"
          ],
          [
           "hCoV-19/India/CCMB_K272/2020|EPI_ISL_458070|2020-04-12"
          ],
          [
           "hCoV-19/India/CCMB_J130/2020|EPI_ISL_458071|2020-04-01"
          ],
          [
           "hCoV-19/India/CCMB_J812_P1/2020|EPI_ISL_458072|2020-04-08"
          ],
          [
           "hCoV-19/India/CCMB_L276_P1/2020|EPI_ISL_458073|2020-04-20"
          ],
          [
           "hCoV-19/India/CCMB_L301_P1/2020|EPI_ISL_458074|2020-04-20"
          ],
          [
           "hCoV-19/India/CCMB_O2_P1/2020|EPI_ISL_458075|2020-04-15"
          ],
          [
           "hCoV-19/India/CCMB_L302_P1/2020|EPI_ISL_458076|2020-04-20"
          ],
          [
           "hCoV-19/India/CCMB_L040_P1/2020|EPI_ISL_458077|2020-04-18"
          ],
          [
           "hCoV-19/India/CCMB_J714/2020|EPI_ISL_458298|2020-04-06"
          ],
          [
           "hCoV-19/India/GMC-KP1125/2020|EPI_ISL_437626|2020-03-24"
          ],
          [
           "hCoV-19/India/CCMB_J021/2020|EPI_ISL_447556|2020-03-30"
          ],
          [
           "hCoV-19/India/CCMB_J009/2020|EPI_ISL_447557|2020-03-30"
          ],
          [
           "hCoV-19/India/CCMB_J014/2020|EPI_ISL_447558|2020-03-30"
          ],
          [
           "hCoV-19/India/CCMB_J048/2020|EPI_ISL_447559|2020-03-31"
          ],
          [
           "hCoV-19/India/CCMB_J043/2020|EPI_ISL_447560|2020-03-31"
          ],
          [
           "hCoV-19/India/CCMB_J067/2020|EPI_ISL_447561|2020-03-31"
          ],
          [
           "hCoV-19/India/CCMB_J068/2020|EPI_ISL_447562|2020-03-31"
          ],
          [
           "hCoV-19/India/CCMB_J057/2020|EPI_ISL_447563|2020-03-31"
          ],
          [
           "hCoV-19/India/CCMB_J212/2020|EPI_ISL_447564|2020-04-01"
          ],
          [
           "hCoV-19/India/CCMB_J278/2020|EPI_ISL_447565|2020-04-01"
          ],
          [
           "hCoV-19/India/CCMB_J131/2020|EPI_ISL_447566|2020-04-01"
          ],
          [
           "hCoV-19/India/CCMB_J304/2020|EPI_ISL_447567|2020-04-01"
          ],
          [
           "hCoV-19/India/CCMB_J166/2020|EPI_ISL_447568|2020-04-01"
          ],
          [
           "hCoV-19/India/CCMB_J206/2020|EPI_ISL_447569|2020-04-01"
          ],
          [
           "hCoV-19/India/CCMB_J045/2020|EPI_ISL_447847|2020-03-31"
          ],
          [
           "hCoV-19/India/CCMB_J165/2020|EPI_ISL_447848|2020-04-01"
          ],
          [
           "hCoV-19/India/CCMB_J107/2020|EPI_ISL_447849|2020-04-01"
          ],
          [
           "hCoV-19/India/CCMB_J132/2020|EPI_ISL_447850|2020-04-01"
          ],
          [
           "hCoV-19/India/CCMB_J223/2020|EPI_ISL_447851|2020-04-01"
          ],
          [
           "hCoV-19/India/CCMB_J235/2020|EPI_ISL_447852|2020-04-01"
          ],
          [
           "hCoV-19/India/CCMB_J247/2020|EPI_ISL_447853|2020-04-01"
          ],
          [
           "hCoV-19/India/CCMB_J350/2020|EPI_ISL_447854|2020-04-02"
          ],
          [
           "hCoV-19/India/CCMB_J318/2020|EPI_ISL_447855|2020-04-02"
          ],
          [
           "hCoV-19/India/CCMB_J374/2020|EPI_ISL_447856|2020-04-02"
          ],
          [
           "hCoV-19/India/CCMB_J390/2020|EPI_ISL_447857|2020-04-02"
          ],
          [
           "hCoV-19/India/CCMB_J812/2020|EPI_ISL_447858|2020-04-06"
          ],
          [
           "hCoV-19/India/CCMB_K771/2020|EPI_ISL_447859|2020-04-15"
          ],
          [
           "hCoV-19/India/CCMB_K849/2020|EPI_ISL_447860|2020-04-16"
          ],
          [
           "hCoV-19/India/CCMB_L149/2020|EPI_ISL_447861|2020-04-16"
          ],
          [
           "hCoV-19/India/CCMB_J047/2020|EPI_ISL_447862|2020-03-31"
          ],
          [
           "hCoV-19/India/CCMB_K599/2020|EPI_ISL_447863|2020-04-14"
          ],
          [
           "hCoV-19/India/CCMB_L044/2020|EPI_ISL_447864|2020-04-16"
          ],
          [
           "hCoV-19/India/CCMB_K499/2020|EPI_ISL_447865|2020-04-14"
          ],
          [
           "hCoV-19/India/CCMB_K500/2020|EPI_ISL_447866|2020-04-14"
          ],
          [
           "hCoV-19/India/CCMB_L1025/2020|EPI_ISL_458049|2020-05-11"
          ]
         ],
         "hovertemplate": "color=Telangana<br>x=%{x}<br>y=%{y}<br>ID=%{customdata[0]}<extra></extra>",
         "legendgroup": "Telangana",
         "marker": {
          "color": "red",
          "symbol": "circle"
         },
         "mode": "markers",
         "name": "Telangana",
         "orientation": "v",
         "showlegend": true,
         "type": "scatter",
         "x": [
          -4.23644895231447,
          -4.6964494610054235,
          -4.132454372416529,
          -4.517038684044688,
          -4.2408910285686625,
          -4.445644556593928,
          -3.6281164506880583,
          -4.0387133757716684,
          -4.115124603732096,
          -4.007434593971457,
          -3.9042092155537267,
          -3.865387239599341,
          -4.434504772675697,
          -3.8367164008548778,
          -4.086497124369136,
          -4.033257925127124,
          -4.096908535072293,
          -3.8222418273484164,
          -3.96839276167434,
          -4.05443765491941,
          -4.128346308728285,
          -3.5305687695374486,
          -4.034499534152467,
          -3.5444197263567894,
          -3.438614543438107,
          -3.5761957123846866,
          -3.8205034891712537,
          -3.9346373850019343,
          -3.8628054484908048,
          -3.847040460756205,
          -3.8809485079776165,
          -3.847040460756205,
          -3.8718669230806673,
          -3.6535226675572456,
          -3.706499308911744,
          -3.706667473310831,
          -3.8205901199799883,
          -3.7280521896023253,
          -3.942032377214702,
          -3.947240178368936,
          -3.8103419318040657,
          -3.7117391707161693,
          -3.8130303822705547,
          -3.8260372279960104,
          -3.709172655959045,
          -3.6804818069371477,
          -3.7949053962559494,
          -3.7949053962559494,
          -3.650837553894632,
          -3.743870856892383,
          -3.6258371302633448,
          -3.7259808551394,
          -3.54519759890328,
          -3.7069161039826377,
          -3.6476921179374737,
          -3.7182183188887583,
          -3.672719270686506,
          -3.851539571998026,
          -3.8030086846947833,
          -3.7191099570421158,
          -3.5743753252019173,
          -4.458633941574883,
          -3.9294520942270426,
          -3.967883409634753,
          -4.007783835702466,
          -3.9357013552880016,
          -4.052263722899267,
          -4.085643287573589,
          -4.022118859835547,
          -4.0148668259861084,
          -4.332102700735315,
          -3.8704972042560852,
          -4.207530105433541,
          -3.980564195687085,
          -4.131842553364302,
          -4.039716504737423,
          -3.604298072601361,
          -3.773979049346718,
          -3.646156248356124,
          -3.6100928760133244,
          -3.746114548048865,
          -3.5862037322103255,
          -3.6954293560461657,
          -3.649867562590118,
          -3.666827780421066,
          -3.612505284786281,
          -3.6239361242020123,
          -3.614944583418921,
          -4.047156318600272,
          -3.3859479864010216,
          -3.445967210951815,
          -3.936284331389091,
          -3.649801417025056,
          -3.6035681423941486,
          -3.4022804556362756,
          -3.550384682741525,
          -3.8797017079121137
         ],
         "xaxis": "x",
         "y": [
          25.131516026401535,
          21.923724435718672,
          27.100657062115513,
          21.667618115139607,
          27.029799152030115,
          28.064722012808403,
          -2.155115467949749,
          27.04306150365141,
          25.38282861653546,
          25.36662784389661,
          25.40984498535288,
          25.410628668500344,
          25.405426152900862,
          25.38034069282032,
          26.235906004328978,
          25.3195163092487,
          25.428879443780797,
          25.43041887944441,
          26.241360062532983,
          25.341806866892775,
          25.131616968185256,
          1.4542675655646613,
          -0.2316361313734252,
          -0.2896760326952737,
          -0.43086503062993325,
          -0.3325299636610969,
          -0.37422305003581435,
          -0.2953494974657782,
          -3.6804294467825023,
          -3.660650714181841,
          -3.66211398914669,
          -3.660650714181841,
          -3.695252000506843,
          -3.7134841580567346,
          -3.640162479173927,
          -3.6459682501096187,
          -3.7957108164667224,
          -3.8370534127086486,
          -3.913684727557905,
          -3.8714200649874524,
          -3.8230629832734446,
          -3.818360929420589,
          -3.8301418549751607,
          -3.842727024339443,
          1.724342849842536,
          1.7367769429865945,
          -3.616756765751952,
          -3.616756765751952,
          -0.15836142491116995,
          -0.31712314877907943,
          -0.16827251687926198,
          1.7398503519374926,
          -0.08215797588507263,
          -0.5188619104296244,
          -0.1086599510291756,
          1.7605142985752924,
          1.7574408896243938,
          -0.3155868344819636,
          1.7317704499592852,
          -0.3358570789368417,
          0.03635625419361449,
          23.284314300905343,
          -0.13444753544699817,
          25.178493156426715,
          24.92611016826102,
          -0.1120855475881858,
          25.344533093017056,
          25.53905040437039,
          25.352971592252846,
          25.352005127025453,
          25.31166080535135,
          24.816093300354616,
          25.234607452818604,
          25.188428699705163,
          24.85215004000967,
          26.256252544620555,
          -0.23907292325040475,
          -0.32945781906714017,
          -0.2377967506950805,
          -0.23476384686446838,
          -1.0257022323297058,
          -0.2586931384229016,
          -1.0293108606398882,
          -0.2645843106486502,
          0.8343852442015528,
          -0.2252680791760876,
          0.7449294217870671,
          -0.21625281397600982,
          3.536359494181125,
          -0.06154007014045544,
          -0.20975056907407125,
          1.5634419850550505,
          -0.19406323190807623,
          -0.22740161827451,
          0.7668667145921508,
          -0.39850658130602296,
          -3.2803511069097504
         ],
         "yaxis": "y"
        },
        {
         "customdata": [
          [
           "hCoV-19/India/NCDC-02326/2020|EPI_ISL_435090|2020-03-29"
          ]
         ],
         "hovertemplate": "color=Jammu and Kashmir<br>x=%{x}<br>y=%{y}<br>ID=%{customdata[0]}<extra></extra>",
         "legendgroup": "Jammu and Kashmir",
         "marker": {
          "color": "#EF553B",
          "symbol": "circle"
         },
         "mode": "markers",
         "name": "Jammu and Kashmir",
         "orientation": "v",
         "showlegend": true,
         "type": "scatter",
         "x": [
          -2.9959666425843574
         ],
         "xaxis": "x",
         "y": [
          1.043515183538011
         ],
         "yaxis": "y"
        },
        {
         "customdata": [
          [
           "hCoV-19/India/NCDC-02245/2020|EPI_ISL_435091|2020-03-28"
          ],
          [
           "hCoV-19/India/NCDC-02244/2020|EPI_ISL_435092|2020-03-28"
          ],
          [
           "hCoV-19/India/NCDC-02312/2020|EPI_ISL_435093|2020-03-29"
          ],
          [
           "hCoV-19/India/NCDC-02327/2020|EPI_ISL_435094|2020-03-29"
          ],
          [
           "hCoV-19/India/NCDC-02328/2020|EPI_ISL_435095|2020-03-29"
          ],
          [
           "hCoV-19/India/NCDC-02332/2020|EPI_ISL_435096|2020-03-29"
          ],
          [
           "hCoV-19/India/NCDC-02331/2020|EPI_ISL_435075|2020-03-29"
          ],
          [
           "hCoV-19/India/NCDC-02311/2020|EPI_ISL_435078|2020-03-29"
          ],
          [
           "hCoV-19/India/NCDC-02318/2020|EPI_ISL_435079|2020-03-29"
          ],
          [
           "hCoV-19/India/NCDC-02334/2020|EPI_ISL_435080|2020-03-29"
          ],
          [
           "hCoV-19/India/NCDC-02242/2020|EPI_ISL_435083|2020-03-28"
          ],
          [
           "hCoV-19/India/NCDC-02309/2020|EPI_ISL_435084|2020-03-29"
          ],
          [
           "hCoV-19/India/NCDC-02333/2020|EPI_ISL_435087|2020-03-29"
          ],
          [
           "hCoV-19/India/CCMB_C1-12/2020|EPI_ISL_447584|2020-04-16"
          ],
          [
           "hCoV-19/India/CCMB_C2-13/2020|EPI_ISL_447585|2020-04-16"
          ],
          [
           "hCoV-19/India/CCMB_C3-14/2020|EPI_ISL_447586|2020-04-16"
          ],
          [
           "hCoV-19/India/CCMB_C4-15/2020|EPI_ISL_447587|2020-04-20"
          ],
          [
           "hCoV-19/India/NCDC-2514/2020|EPI_ISL_436416|2020-03-31"
          ],
          [
           "hCoV-19/India/NCDC-2517/2020|EPI_ISL_436418|2020-03-31"
          ],
          [
           "hCoV-19/India/CCMB_C12/2020|EPI_ISL_458030|2020-04-26"
          ],
          [
           "hCoV-19/India/CCMB_C6/2020|EPI_ISL_458031|2020-04-26"
          ],
          [
           "hCoV-19/India/CCMB_C8/2020|EPI_ISL_458032|2020-04-27"
          ],
          [
           "hCoV-19/India/CCMB_C5/2020|EPI_ISL_458033|2020-04-29"
          ],
          [
           "hCoV-19/India/CCMB_C11/2020|EPI_ISL_458034|2020-04-29"
          ],
          [
           "hCoV-19/India/CCMB_C13/2020|EPI_ISL_458035|2020-04-29"
          ],
          [
           "hCoV-19/India/CCMB_C10/2020|EPI_ISL_458036|2020-04-29"
          ],
          [
           "hCoV-19/India/CCMB_C7/2020|EPI_ISL_458037|2020-04-29"
          ],
          [
           "hCoV-19/India/CCMB_C9/2020|EPI_ISL_458038|2020-04-29"
          ],
          [
           "hCoV-19/India/CCMB_C16/2020|EPI_ISL_458039|2020-05-06"
          ],
          [
           "hCoV-19/India/CCMB_C19/2020|EPI_ISL_458040|2020-05-06"
          ],
          [
           "hCoV-19/India/CCMB_C15/2020|EPI_ISL_458041|2020-05-06"
          ],
          [
           "hCoV-19/India/CCMB_C18/2020|EPI_ISL_458042|2020-05-06"
          ],
          [
           "hCoV-19/India/CCMB_C14/2020|EPI_ISL_458043|2020-05-06"
          ],
          [
           "hCoV-19/India/CCMB_C17/2020|EPI_ISL_458044|2020-05-06"
          ]
         ],
         "hovertemplate": "color=Tamil Nadu<br>x=%{x}<br>y=%{y}<br>ID=%{customdata[0]}<extra></extra>",
         "legendgroup": "Tamil Nadu",
         "marker": {
          "color": "green",
          "symbol": "circle"
         },
         "mode": "markers",
         "name": "Tamil Nadu",
         "orientation": "v",
         "showlegend": true,
         "type": "scatter",
         "x": [
          -3.659645208895017,
          -3.092678387824373,
          -3.2813091070877127,
          -3.749432792568562,
          -3.587623982560014,
          -3.9141235132728367,
          4.717052053707066,
          -1.7496910508292949,
          7.61559501147831,
          2.2083557018118194,
          -1.6347345178892032,
          -1.7601522194456993,
          1.0799228043239635,
          -4.0637347312605065,
          -4.085079153601595,
          -3.982328219516401,
          -4.228826871188094,
          21.0591350460666,
          -1.5585165944319452,
          -3.8759922347215627,
          -3.8618005486847307,
          -3.8561384422927083,
          -3.861800548684731,
          -3.861800548684731,
          -3.524666693470994,
          -3.8603449381074038,
          -3.7566789963876066,
          -3.7406110500892056,
          -3.777722274638523,
          -3.881368667062607,
          -3.7867536762157576,
          -3.704707230710694,
          -3.78746295491443,
          -3.7566789963876066
         ],
         "xaxis": "x",
         "y": [
          1.012676011240655,
          -0.12066829522678253,
          -0.09315622601196842,
          -0.3566035774126793,
          -0.06649571761531324,
          -0.06417404714329737,
          -0.07448495070902911,
          -1.014942338670143,
          -1.9059899729773973,
          -0.5145237587136802,
          -0.37145478435505275,
          -0.5051042669087865,
          0.3382405255192987,
          25.421793329361872,
          25.400792742416375,
          25.310884638716047,
          21.758799201089804,
          21.6481809852114,
          -0.10111730227333306,
          -3.7244488744839024,
          -3.7297102866658456,
          -3.719107123611735,
          -3.729710286665847,
          -3.729710286665847,
          -0.193117199150956,
          -3.740291776607981,
          -3.724465443737595,
          -3.7281304365868366,
          -3.7360351692978413,
          -3.721431463856353,
          -3.7169969287167994,
          -3.7291527971681497,
          -3.7232147490075236,
          -3.724465443737595
         ],
         "yaxis": "y"
        },
        {
         "customdata": [
          [
           "hCoV-19/India/NCDC-02320/2020|EPI_ISL_435099|2020-03-29"
          ],
          [
           "hCoV-19/India/NCDC-02322/2020|EPI_ISL_435082|2020-03-29"
          ],
          [
           "hCoV-19/India/NCDC-01257/2020|EPI_ISL_435060|2020-03-12"
          ],
          [
           "hCoV-19/India/NCDC-02321/2020|EPI_ISL_435100|2020-03-29"
          ],
          [
           "hCoV-19/India/NCDC-2443/2020|EPI_ISL_436413|2020-03-30"
          ]
         ],
         "hovertemplate": "color=Uttar Pradesh<br>x=%{x}<br>y=%{y}<br>ID=%{customdata[0]}<extra></extra>",
         "legendgroup": "Uttar Pradesh",
         "marker": {
          "color": "#00cc96",
          "symbol": "circle"
         },
         "mode": "markers",
         "name": "Uttar Pradesh",
         "orientation": "v",
         "showlegend": true,
         "type": "scatter",
         "x": [
          -3.4511025052460753,
          0.1456798359689469,
          -2.4665231275726995,
          -3.5537461530248797,
          0.014880634379349984
         ],
         "xaxis": "x",
         "y": [
          0.004454750112524247,
          -0.16224388660618727,
          -3.7513469244451336,
          -0.09771001961179661,
          -3.57185465037933
         ],
         "yaxis": "y"
        },
        {
         "customdata": [
          [
           "hCoV-19/India/GBRC25/2020|EPI_ISL_444456|2020-04-26"
          ],
          [
           "hCoV-19/India/GBRC104/2020|EPI_ISL_451149|2020-05-07"
          ],
          [
           "hCoV-19/India/GBRC105/2020|EPI_ISL_451150|2020-05-06"
          ],
          [
           "hCoV-19/India/GBRC106/2020|EPI_ISL_451151|2020-05-05"
          ],
          [
           "hCoV-19/India/GBRC107/2020|EPI_ISL_451152|2020-05-09"
          ],
          [
           "hCoV-19/India/GBRC108/2020|EPI_ISL_451153|2020-05-10"
          ],
          [
           "hCoV-19/India/GBRC109/2020|EPI_ISL_451154|2020-05-03"
          ],
          [
           "hCoV-19/India/GBRC110/2020|EPI_ISL_451155|2020-05-03"
          ],
          [
           "hCoV-19/India/GBRC111/2020|EPI_ISL_451156|2020-05-01"
          ],
          [
           "hCoV-19/India/GBRC112/2020|EPI_ISL_451157|2020-05-02"
          ],
          [
           "hCoV-19/India/GBRC113/2020|EPI_ISL_451158|2020-05-03"
          ],
          [
           "hCoV-19/India/GBRC114/2020|EPI_ISL_451159|2020-05-03"
          ],
          [
           "hCoV-19/India/GBRC115/2020|EPI_ISL_451160|2020-05-03"
          ],
          [
           "hCoV-19/India/GBRC116/2020|EPI_ISL_451161|2020-05-03"
          ],
          [
           "hCoV-19/India/GBRC117/2020|EPI_ISL_451162|2020-05-03"
          ],
          [
           "hCoV-19/India/GBRC118/2020|EPI_ISL_451163|2020-05-02"
          ],
          [
           "hCoV-19/India/GBRC134/2020|EPI_ISL_458089|2020-05-24"
          ],
          [
           "hCoV-19/India/GBRC135a/2020|EPI_ISL_458090|2020-05-24"
          ],
          [
           "hCoV-19/India/GBRC135b/2020|EPI_ISL_458091|2020-05-24"
          ],
          [
           "hCoV-19/India/GBRC136a/2020|EPI_ISL_458092|2020-05-24"
          ],
          [
           "hCoV-19/India/GBRC136b/2020|EPI_ISL_458093|2020-05-24"
          ],
          [
           "hCoV-19/India/GBRC137a/2020|EPI_ISL_458094|2020-05-24"
          ],
          [
           "hCoV-19/India/GBRC137b/2020|EPI_ISL_458095|2020-05-24"
          ],
          [
           "hCoV-19/India/GBRC138/2020|EPI_ISL_458096|2020-05-24"
          ],
          [
           "hCoV-19/India/GBRC139a/2020|EPI_ISL_458097|2020-05-24"
          ],
          [
           "hCoV-19/India/GBRC139b/2020|EPI_ISL_458098|2020-05-24"
          ],
          [
           "hCoV-19/India/GBRC140/2020|EPI_ISL_458099|2020-05-24"
          ],
          [
           "hCoV-19/India/GBRC157b/2020|EPI_ISL_461487|2020-05-27"
          ],
          [
           "hCoV-19/India/GBRC158/2020|EPI_ISL_461488|2020-05-27"
          ],
          [
           "hCoV-19/India/GBRC159a/2020|EPI_ISL_461489|2020-05-27"
          ],
          [
           "hCoV-19/India/GBRC159b/2020|EPI_ISL_461490|2020-05-27"
          ],
          [
           "hCoV-19/India/GBRC160a/2020|EPI_ISL_461491|2020-05-27"
          ],
          [
           "hCoV-19/India/GBRC160b/2020|EPI_ISL_461492|2020-05-27"
          ],
          [
           "hCoV-19/India/GBRC161a/2020|EPI_ISL_461493|2020-05-27"
          ],
          [
           "hCoV-19/India/GBRC161b/2020|EPI_ISL_461494|2020-05-27"
          ],
          [
           "hCoV-19/India/GBRC162a/2020|EPI_ISL_461495|2020-05-27"
          ],
          [
           "hCoV-19/India/GBRC162b/2020|EPI_ISL_461496|2020-05-27"
          ],
          [
           "hCoV-19/India/GBRC163a/2020|EPI_ISL_461497|2020-05-27"
          ],
          [
           "hCoV-19/India/GBRC163b/2020|EPI_ISL_461498|2020-05-27"
          ],
          [
           "hCoV-19/India/GBRC164/2020|EPI_ISL_461499|2020-05-27"
          ],
          [
           "hCoV-19/India/GBRC1/2020|EPI_ISL_426414|2020-04-05"
          ],
          [
           "hCoV-19/India/GBRC1s/2020|EPI_ISL_426415|2020-04-05"
          ],
          [
           "hCoV-19/India/GBRC3/2020|EPI_ISL_435050|2020-04-13"
          ],
          [
           "hCoV-19/India/GBRC4/2020|EPI_ISL_435051|2020-04-13"
          ],
          [
           "hCoV-19/India/GBRC5/2020|EPI_ISL_435052|2020-04-13"
          ],
          [
           "hCoV-19/India/GBRC6/2020|EPI_ISL_435053|2020-04-07"
          ],
          [
           "hCoV-19/India/GBRC7/2020|EPI_ISL_435054|2020-04-14"
          ],
          [
           "hCoV-19/India/GBRC8/2020|EPI_ISL_435055|2020-04-22"
          ],
          [
           "hCoV-19/India/GBRC9/2020|EPI_ISL_435056|2020-04-21"
          ],
          [
           "hCoV-19/India/GBRC10/2020|EPI_ISL_437438|2020-04-24"
          ],
          [
           "hCoV-19/India/GBRC11/2020|EPI_ISL_437439|2020-04-23"
          ],
          [
           "hCoV-19/India/GBRC12/2020|EPI_ISL_437440|2020-04-26"
          ],
          [
           "hCoV-19/India/GBRC13/2020|EPI_ISL_437441|2020-04-26"
          ],
          [
           "hCoV-19/India/GBRC14/2020|EPI_ISL_437442|2020-04-27"
          ],
          [
           "hCoV-19/India/GBRC15/2020|EPI_ISL_437443|2020-04-27"
          ],
          [
           "hCoV-19/India/GBRC16/2020|EPI_ISL_437444|2020-04-26"
          ],
          [
           "hCoV-19/India/GBRC17a/2020|EPI_ISL_437445|2020-04-26"
          ],
          [
           "hCoV-19/India/GBRC17b/2020|EPI_ISL_437446|2020-04-26"
          ],
          [
           "hCoV-19/India/GBRC18/2020|EPI_ISL_437447|2020-04-26"
          ],
          [
           "hCoV-19/India/GBRC19/2020|EPI_ISL_437448|2020-04-26"
          ],
          [
           "hCoV-19/India/GBRC20/2020|EPI_ISL_437449|2020-04-26"
          ],
          [
           "hCoV-19/India/GBRC56a/2020|EPI_ISL_447030|2020-05-03"
          ],
          [
           "hCoV-19/India/GBRC56b/2020|EPI_ISL_447031|2020-05-03"
          ],
          [
           "hCoV-19/India/GBRC57/2020|EPI_ISL_447032|2020-05-03"
          ],
          [
           "hCoV-19/India/GBRC58/2020|EPI_ISL_447033|2020-05-03"
          ],
          [
           "hCoV-19/India/GBRC59/2020|EPI_ISL_447034|2020-05-03"
          ],
          [
           "hCoV-19/India/GBRC60/2020|EPI_ISL_447035|2020-05-03"
          ],
          [
           "hCoV-19/India/GBRC61/2020|EPI_ISL_447036|2020-05-03"
          ],
          [
           "hCoV-19/India/GBRC62/2020|EPI_ISL_447037|2020-05-03"
          ],
          [
           "hCoV-19/India/GBRC63/2020|EPI_ISL_447038|2020-05-03"
          ],
          [
           "hCoV-19/India/GBRC64/2020|EPI_ISL_447039|2020-05-03"
          ],
          [
           "hCoV-19/India/GBRC65a/2020|EPI_ISL_447040|2020-05-03"
          ],
          [
           "hCoV-19/India/GBRC65b/2020|EPI_ISL_447041|2020-05-03"
          ],
          [
           "hCoV-19/India/GBRC66/2020|EPI_ISL_447042|2020-05-03"
          ],
          [
           "hCoV-19/India/GBRC67a/2020|EPI_ISL_447043|2020-05-03"
          ],
          [
           "hCoV-19/India/GBRC67b/2020|EPI_ISL_447044|2020-05-03"
          ],
          [
           "hCoV-19/India/GBRC68/2020|EPI_ISL_447045|2020-05-03"
          ],
          [
           "hCoV-19/India/GBRC69/2020|EPI_ISL_447046|2020-05-04"
          ],
          [
           "hCoV-19/India/GBRC70/2020|EPI_ISL_447047|2020-04-29"
          ],
          [
           "hCoV-19/India/GBRC71/2020|EPI_ISL_447048|2020-04-27"
          ],
          [
           "hCoV-19/India/GBRC72a/2020|EPI_ISL_447049|2020-04-29"
          ],
          [
           "hCoV-19/India/GBRC72b/2020|EPI_ISL_447050|2020-04-29"
          ],
          [
           "hCoV-19/India/GBRC73/2020|EPI_ISL_447051|2020-04-29"
          ],
          [
           "hCoV-19/India/GBRC74/2020|EPI_ISL_447052|2020-05-02"
          ],
          [
           "hCoV-19/India/GBRC75/2020|EPI_ISL_447053|2020-04-29"
          ],
          [
           "hCoV-19/India/GBRC103/2020|EPI_ISL_451666|2020-05-04"
          ],
          [
           "hCoV-19/India/GBRC131/2020|EPI_ISL_458086|2020-05-24"
          ],
          [
           "hCoV-19/India/GBRC132/2020|EPI_ISL_458087|2020-05-24"
          ],
          [
           "hCoV-19/India/GBRC133/2020|EPI_ISL_458088|2020-05-24"
          ],
          [
           "hCoV-19/India/GBRC141a/2020|EPI_ISL_458100|2020-05-24"
          ],
          [
           "hCoV-19/India/GBRC141b/2020|EPI_ISL_458101|2020-05-24"
          ],
          [
           "hCoV-19/India/GBRC142/2020|EPI_ISL_458102|2020-05-24"
          ],
          [
           "hCoV-19/India/GBRC143/2020|EPI_ISL_458103|2020-05-05"
          ],
          [
           "hCoV-19/India/GBRC144/2020|EPI_ISL_458104|2020-05-06"
          ],
          [
           "hCoV-19/India/GBRC145/2020|EPI_ISL_458105|2020-05-06"
          ],
          [
           "hCoV-19/India/GBRC146a/2020|EPI_ISL_458106|2020-05-16"
          ],
          [
           "hCoV-19/India/GBRC146b/2020|EPI_ISL_458107|2020-05-16"
          ],
          [
           "hCoV-19/India/GBRC147/2020|EPI_ISL_458108|2020-05-16"
          ],
          [
           "hCoV-19/India/GBRC148a/2020|EPI_ISL_458109|2020-05-17"
          ],
          [
           "hCoV-19/India/GBRC148b/2020|EPI_ISL_458110|2020-05-17"
          ],
          [
           "hCoV-19/India/GBRC149/2020|EPI_ISL_458111|2020-05-17"
          ],
          [
           "hCoV-19/India/GBRC150a/2020|EPI_ISL_458112|2020-05-18"
          ],
          [
           "hCoV-19/India/GBRC150b/2020|EPI_ISL_458113|2020-05-18"
          ],
          [
           "hCoV-19/India/GBRC151a/2020|EPI_ISL_461478|2020-05-02"
          ],
          [
           "hCoV-19/India/GBRC151b/2020|EPI_ISL_461479|2020-05-02"
          ],
          [
           "hCoV-19/India/GBRC152/2020|EPI_ISL_461480|2020-05-02"
          ],
          [
           "hCoV-19/India/GBRC153a/2020|EPI_ISL_461481|2020-04-27"
          ],
          [
           "hCoV-19/India/GBRC153b/2020|EPI_ISL_461482|2020-04-27"
          ],
          [
           "hCoV-19/India/GBRC154/2020|EPI_ISL_461483|2020-05-27"
          ],
          [
           "hCoV-19/India/GBRC155/2020|EPI_ISL_461484|2020-05-27"
          ],
          [
           "hCoV-19/India/GBRC156/2020|EPI_ISL_461485|2020-05-27"
          ],
          [
           "hCoV-19/India/GBRC157a/2020|EPI_ISL_461486|2020-05-27"
          ],
          [
           "hCoV-19/India/GBRC165/2020|EPI_ISL_461500|2020-05-27"
          ],
          [
           "hCoV-19/India/GBRC166a/2020|EPI_ISL_461501|2020-05-27"
          ],
          [
           "hCoV-19/India/GBRC166b/2020|EPI_ISL_461502|2020-05-27"
          ],
          [
           "hCoV-19/India/GBRC167a/2020|EPI_ISL_461503|2020-05-27"
          ],
          [
           "hCoV-19/India/GBRC167b/2020|EPI_ISL_461504|2020-05-27"
          ],
          [
           "hCoV-19/India/GBRC168a/2020|EPI_ISL_461505|2020-05-27"
          ],
          [
           "hCoV-19/India/GBRC168b/2020|EPI_ISL_461506|2020-05-27"
          ],
          [
           "hCoV-19/India/GBRC2/2020|EPI_ISL_435049|2020-04-13"
          ],
          [
           "hCoV-19/India/GBRC21/2020|EPI_ISL_437450|2020-04-26"
          ],
          [
           "hCoV-19/India/GBRC22/2020|EPI_ISL_437451|2020-04-26"
          ],
          [
           "hCoV-19/India/GBRC23/2020|EPI_ISL_437452|2020-04-26"
          ],
          [
           "hCoV-19/India/GBRC24a/2020|EPI_ISL_437453|2020-04-26"
          ],
          [
           "hCoV-19/India/GBRC24b/2020|EPI_ISL_437454|2020-04-26"
          ],
          [
           "hCoV-19/India/GBRC26/2020|EPI_ISL_444457|2020-04-26"
          ],
          [
           "hCoV-19/India/GBRC27/2020|EPI_ISL_444458|2020-04-26"
          ],
          [
           "hCoV-19/India/GBRC28/2020|EPI_ISL_444459|2020-04-30"
          ],
          [
           "hCoV-19/India/GBRC29/2020|EPI_ISL_444460|2020-04-30"
          ],
          [
           "hCoV-19/India/GBRC30/2020|EPI_ISL_444461|2020-04-29"
          ],
          [
           "hCoV-19/India/GBRC31/2020|EPI_ISL_444462|2020-04-29"
          ],
          [
           "hCoV-19/India/GBRC32/2020|EPI_ISL_444463|2020-04-29"
          ],
          [
           "hCoV-19/India/GBRC33/2020|EPI_ISL_444464|2020-04-29"
          ],
          [
           "hCoV-19/India/GBRC34/2020|EPI_ISL_444465|2020-04-29"
          ],
          [
           "hCoV-19/India/GBRC35/2020|EPI_ISL_444466|2020-04-29"
          ],
          [
           "hCoV-19/India/GBRC36/2020|EPI_ISL_444467|2020-04-29"
          ],
          [
           "hCoV-19/India/GBRC37/2020|EPI_ISL_444468|2020-04-29"
          ],
          [
           "hCoV-19/India/GBRC38/2020|EPI_ISL_444469|2020-04-29"
          ],
          [
           "hCoV-19/India/GBRC39/2020|EPI_ISL_444470|2020-04-29"
          ],
          [
           "hCoV-19/India/GBRC40/2020|EPI_ISL_444471|2020-04-29"
          ],
          [
           "hCoV-19/India/GBRC41/2020|EPI_ISL_444472|2020-04-29"
          ],
          [
           "hCoV-19/India/GBRC42/2020|EPI_ISL_444473|2020-04-29"
          ],
          [
           "hCoV-19/India/GBRC43/2020|EPI_ISL_444474|2020-04-29"
          ],
          [
           "hCoV-19/India/GBRC44/2020|EPI_ISL_444475|2020-04-29"
          ],
          [
           "hCoV-19/India/GBRC45/2020|EPI_ISL_444476|2020-04-29"
          ],
          [
           "hCoV-19/India/GBRC46/2020|EPI_ISL_444477|2020-04-29"
          ],
          [
           "hCoV-19/India/GBRC47/2020|EPI_ISL_444478|2020-04-30"
          ],
          [
           "hCoV-19/India/GBRC48/2020|EPI_ISL_444479|2020-04-29"
          ],
          [
           "hCoV-19/India/GBRC49/2020|EPI_ISL_444480|2020-04-30"
          ],
          [
           "hCoV-19/India/GBRC50/2020|EPI_ISL_444481|2020-04-30"
          ],
          [
           "hCoV-19/India/GBRC51/2020|EPI_ISL_444482|2020-05-02"
          ],
          [
           "hCoV-19/India/GBRC52/2020|EPI_ISL_444483|2020-05-02"
          ],
          [
           "hCoV-19/India/GBRC53/2020|EPI_ISL_444484|2020-05-04"
          ],
          [
           "hCoV-19/India/GBRC54/2020|EPI_ISL_444485|2020-05-04"
          ],
          [
           "hCoV-19/India/GBRC55/2020|EPI_ISL_444486|2020-05-04"
          ],
          [
           "hCoV-19/India/GBRC76/2020|EPI_ISL_447534|2020-05-05"
          ],
          [
           "hCoV-19/India/GBRC77/2020|EPI_ISL_447535|2020-05-05"
          ],
          [
           "hCoV-19/India/GBRC78a/2020|EPI_ISL_447536|2020-05-05"
          ],
          [
           "hCoV-19/India/GBRC78b/2020|EPI_ISL_447537|2020-05-05"
          ],
          [
           "hCoV-19/India/GBRC79a/2020|EPI_ISL_447538|2020-05-05"
          ],
          [
           "hCoV-19/India/GBRC79b/2020|EPI_ISL_447539|2020-05-05"
          ],
          [
           "hCoV-19/India/GBRC81a/2020|EPI_ISL_447540|2020-05-05"
          ],
          [
           "hCoV-19/India/GBRC81b/2020|EPI_ISL_447541|2020-05-05"
          ],
          [
           "hCoV-19/India/GBRC82a/2020|EPI_ISL_447542|2020-05-05"
          ],
          [
           "hCoV-19/India/GBRC82b/2020|EPI_ISL_447543|2020-05-05"
          ],
          [
           "hCoV-19/India/GBRC83/2020|EPI_ISL_447544|2020-05-05"
          ],
          [
           "hCoV-19/India/GBRC84/2020|EPI_ISL_447545|2020-05-05"
          ],
          [
           "hCoV-19/India/GBRC85/2020|EPI_ISL_447546|2020-05-05"
          ],
          [
           "hCoV-19/India/GBRC86/2020|EPI_ISL_447547|2020-04-28"
          ],
          [
           "hCoV-19/India/GBRC87/2020|EPI_ISL_447548|2020-04-28"
          ],
          [
           "hCoV-19/India/GBRC88a/2020|EPI_ISL_447549|2020-05-03"
          ],
          [
           "hCoV-19/India/GBRC88b/2020|EPI_ISL_447550|2020-05-03"
          ],
          [
           "hCoV-19/India/GBRC89/2020|EPI_ISL_447551|2020-04-25"
          ],
          [
           "hCoV-19/India/GBRC90/2020|EPI_ISL_447552|2020-05-02"
          ],
          [
           "hCoV-19/India/GBRC91/2020|EPI_ISL_447553|2020-04-27"
          ],
          [
           "hCoV-19/India/GBRC92/2020|EPI_ISL_447554|2020-04-26"
          ],
          [
           "hCoV-19/India/GBRC93/2020|EPI_ISL_447555|2020-04-28"
          ],
          [
           "hCoV-19/India/GBRC94/2020|EPI_ISL_450781|2020-05-09"
          ],
          [
           "hCoV-19/India/GBRC95a/2020|EPI_ISL_450782|2020-04-11"
          ],
          [
           "hCoV-19/India/GBRC95b/2020|EPI_ISL_450783|2020-04-11"
          ],
          [
           "hCoV-19/India/GBRC96/2020|EPI_ISL_450784|2020-05-09"
          ],
          [
           "hCoV-19/India/GBRC97a/2020|EPI_ISL_450785|2020-05-10"
          ],
          [
           "hCoV-19/India/GBRC97b/2020|EPI_ISL_450786|2020-05-10"
          ],
          [
           "hCoV-19/India/GBRC98/2020|EPI_ISL_450787|2020-05-11"
          ],
          [
           "hCoV-19/India/GBRC99/2020|EPI_ISL_450788|2020-05-06"
          ],
          [
           "hCoV-19/India/GBRC100/2020|EPI_ISL_450789|2020-05-10"
          ],
          [
           "hCoV-19/India/GBRC101/2020|EPI_ISL_450790|2020-04-28"
          ],
          [
           "hCoV-19/India/GBRC102/2020|EPI_ISL_450791|2020-04-27"
          ],
          [
           "hCoV-19/India/GBRC80/2020|EPI_ISL_455015|2020-04-28"
          ],
          [
           "hCoV-19/India/GBRC119/2020|EPI_ISL_455016|2020-04-27"
          ],
          [
           "hCoV-19/India/GBRC120/2020|EPI_ISL_455017|2020-05-02"
          ],
          [
           "hCoV-19/India/GBRC121/2020|EPI_ISL_455018|2020-05-02"
          ],
          [
           "hCoV-19/India/GBRC122/2020|EPI_ISL_455019|2020-05-02"
          ],
          [
           "hCoV-19/India/GBRC123/2020|EPI_ISL_455020|2020-05-02"
          ],
          [
           "hCoV-19/India/GBRC124/2020|EPI_ISL_455021|2020-05-02"
          ],
          [
           "hCoV-19/India/GBRC125/2020|EPI_ISL_455022|2020-05-02"
          ],
          [
           "hCoV-19/India/GBRC126/2020|EPI_ISL_455023|2020-05-02"
          ],
          [
           "hCoV-19/India/GBRC127/2020|EPI_ISL_455024|2020-05-02"
          ],
          [
           "hCoV-19/India/GBRC128/2020|EPI_ISL_455025|2020-05-02"
          ],
          [
           "hCoV-19/India/GBRC129/2020|EPI_ISL_455026|2020-05-02"
          ],
          [
           "hCoV-19/India/GBRC130/2020|EPI_ISL_455027|2020-05-02"
          ]
         ],
         "hovertemplate": "color=Gujarat<br>x=%{x}<br>y=%{y}<br>ID=%{customdata[0]}<extra></extra>",
         "legendgroup": "Gujarat",
         "marker": {
          "color": "magenta",
          "symbol": "circle"
         },
         "mode": "markers",
         "name": "Gujarat",
         "orientation": "v",
         "showlegend": true,
         "type": "scatter",
         "x": [
          -3.868599473736952,
          -4.074591568123676,
          -3.913573164785019,
          -3.977851902919583,
          -3.9462201153879004,
          -4.126446667168749,
          -3.5750256864371415,
          -3.8997892800524743,
          -3.587634187501556,
          -3.8459658884801815,
          -3.721238297517751,
          -3.8649097208751884,
          -3.9406503972257934,
          -3.4076221457072187,
          -3.6992450131191497,
          -4.00132332297674,
          -3.8888435865252324,
          -3.883611620716412,
          -3.9660851101666816,
          -3.9757220316068924,
          -3.983254507213869,
          -3.973435837388311,
          -3.9622404507310347,
          -3.7570959626883416,
          -3.981032217535278,
          -3.973435837388311,
          -3.951776532889337,
          -4.120790444783625,
          -3.8677077569030014,
          -4.008981450260342,
          -3.9154578968727374,
          -4.000020811572824,
          -3.9286205585516067,
          -4.072485761733023,
          -4.028167352336937,
          -3.9550411037256747,
          -3.9736377854104563,
          -3.944869533327977,
          -3.9776479877688136,
          -3.9854835538548503,
          -4.571968603386075,
          -4.556542619109911,
          -3.437213242174132,
          -3.548088749718677,
          -2.0175455182396678,
          -3.3340489925713723,
          -3.4031579913057177,
          -3.509188456587278,
          -2.613159956757343,
          -3.067426670294948,
          13.5048483761764,
          -3.937090019035616,
          -0.9101654492865812,
          -1.5547836945488516,
          19.38914135278117,
          -3.78828408257459,
          -4.1084015895922485,
          -4.052770917951261,
          -2.8339128271807636,
          -3.8936730578104655,
          -3.9186127056874382,
          -3.925668443960112,
          -3.916759996382622,
          -2.419605493484362,
          -3.873956883402797,
          -2.0897060419949374,
          -3.8939560708633416,
          -3.770426656709055,
          -3.746303187742307,
          -3.867884993119712,
          -3.91771617261321,
          -3.8167242073154313,
          -3.6619053708637748,
          -3.2115097685033285,
          -3.8392193048805536,
          -3.820136602864245,
          -3.8329338056864306,
          -3.9934764428644947,
          -3.8876833940888536,
          -4.047296718556436,
          -3.9918321066992224,
          -3.9362014350582357,
          -3.8282219950658045,
          -3.834529452222334,
          -3.8125280613545285,
          -3.3759769107539475,
          -3.703704088756473,
          -3.9406503972257934,
          -3.973435837388311,
          -3.9978765932280957,
          -4.036552142328975,
          -3.9299627586287915,
          -3.9338064367986885,
          -4.105308124022674,
          -3.9729000132358525,
          -4.067950764113314,
          -4.063527212904079,
          -4.030166062278199,
          -2.9421458851652043,
          -2.6849569502164927,
          -4.043408534635316,
          -4.011217267286823,
          -4.102018537565143,
          -3.9328145570415223,
          -3.9676299798764862,
          -3.874249565943268,
          -4.144170359629946,
          -4.076091565241471,
          -3.9868681327510638,
          -4.074249909806939,
          -3.9650897889918455,
          -4.184683301955347,
          -4.015074770298917,
          -3.9073296162084805,
          -3.9571577645509675,
          -4.011143364065877,
          -3.960334040991238,
          -4.057706730497693,
          -4.104358914132804,
          -3.2940494910959535,
          -3.3160851778007907,
          -3.290775255865984,
          -3.917747514563412,
          -3.5214182713285926,
          -3.595428507585315,
          -3.4150390453672523,
          -3.825068231676776,
          -3.9415321195934396,
          -4.194933597319181,
          -3.9810846505761366,
          -3.784228059297947,
          -3.8616812971523986,
          -3.9499622031460677,
          -4.224808000249129,
          -4.013507608145105,
          -3.980067000561438,
          -3.891103408048326,
          -3.766788223852471,
          -4.129873256617654,
          -3.9747839547011172,
          -3.9152237005513246,
          -3.83661480149698,
          -3.741885344458107,
          -3.749211700327472,
          -3.8713013658642113,
          -3.9056727070250483,
          -3.24989570270285,
          -3.834529452222334,
          -3.753855963447024,
          -3.94589553092584,
          -3.8604349321975837,
          -4.1403070232070736,
          -3.666172185047346,
          -2.9496426601930237,
          -3.908140820342133,
          -3.7061821458611255,
          -3.8782609095695704,
          -2.3588556819331576,
          -2.3023868147381052,
          -3.0124974436080154,
          -3.0578537266264902,
          -3.8206610963132905,
          -3.83493096485367,
          -3.8425797780414954,
          -3.828309909501116,
          -3.8856112741050977,
          -4.080881274164577,
          -3.824079699310244,
          -3.8188957065422127,
          -3.780855913985067,
          -3.874988457304786,
          -3.8745191099494667,
          -3.9673341516170963,
          -3.737865929282445,
          -3.9446274022791674,
          -3.8876833940888536,
          -3.9244929774159147,
          -3.757285544983377,
          -3.9353504554586616,
          -3.8323760398613933,
          -2.1748901411724106,
          -4.106151907317074,
          -4.12693459726004,
          -3.9505567027813773,
          -3.9954916857674694,
          -3.7311167374363556,
          -3.4034380591348894,
          -3.3435656728770207,
          -1.4624972575914628,
          -3.724525772500419,
          -3.852228114255457,
          -3.8548748312687318,
          -3.961277459492101,
          -4.007944305850532,
          -3.8763203689618924,
          -3.961277459492101,
          -3.9051759532533747,
          -3.9322008571983327,
          -3.8887447984335997,
          -3.983246182297929,
          -4.166070594618758
         ],
         "xaxis": "x",
         "y": [
          -4.30390865379982,
          -4.057232234672356,
          -3.7861391537999536,
          -4.548842144034137,
          -4.386166009380781,
          -4.23790641711743,
          0.5323840031309575,
          -3.8634442515539473,
          0.5383621773769479,
          -3.855161356586246,
          -4.050562008471478,
          0.5444186796176914,
          -4.341956275669377,
          0.536211334602939,
          -4.696622064211607,
          -3.863173436762683,
          -4.320806686767376,
          -4.603567005644658,
          -4.426793408264446,
          -4.487369863950216,
          -4.368304165258262,
          -4.600240202219713,
          -4.533579295064618,
          -3.9040957317433724,
          -4.666479111050122,
          -4.600240202219713,
          -4.502614033094368,
          -3.6299570112801622,
          -4.63515855963229,
          -4.601094855527471,
          -4.038761889976423,
          -4.229738613907958,
          -4.038518190697829,
          -3.951784596648393,
          -3.9933496084087983,
          -4.5509571222797085,
          -4.044773292834297,
          -3.770212255029293,
          -3.766211363738262,
          -4.621773235024042,
          21.994873061347228,
          22.003214215149157,
          -3.9179474421824083,
          -4.042971045470865,
          -3.965010892032832,
          -3.918989297596963,
          -3.783721084095887,
          -4.586147481546459,
          -2.960936305496,
          1.555276481947147,
          -1.7786808821125748,
          -3.645291064135716,
          -2.2010402693079483,
          -0.10201907890708886,
          -1.6655970324807838,
          -0.24228033520663145,
          -4.436695880910959,
          -4.4360531927546285,
          -3.5510508438204247,
          -3.8327339312953894,
          -4.018467708582602,
          -3.8124574540214393,
          -3.8248446790264508,
          -4.0064231863029,
          -4.636297472926277,
          -4.662977663895979,
          -4.578930263018986,
          -4.318932966591573,
          -4.347060417793588,
          -3.9087646588359175,
          -4.589668178340425,
          -4.478734488884796,
          -4.147746303130642,
          -4.524618705723881,
          -4.56530329820399,
          -4.554198698513502,
          -4.575432371532104,
          -4.601641682942542,
          -3.902509823778736,
          -4.603871131628681,
          -4.603272779326619,
          -4.602630091170289,
          -4.5793823841063785,
          -3.9287240173586704,
          -4.333398715860838,
          -0.2728383935535795,
          -4.204887975021127,
          -4.341956275669377,
          -4.600240202219713,
          -4.570630188604288,
          -4.356284150127311,
          -4.334808741716669,
          -4.478477830655379,
          -3.756505086356258,
          -3.852961066925249,
          -3.760132368137273,
          -3.7561721962559678,
          -3.7931197270981922,
          -3.865766395140777,
          -3.238578242290343,
          -4.156370148053731,
          -4.5696765697818,
          -4.523470274979098,
          -3.9300908302125714,
          -3.9376646490531035,
          -4.243967241322241,
          -3.564669681344897,
          -2.9006222531221417,
          -3.8504060540285936,
          -4.4048529512818355,
          -4.572764184092809,
          -3.5799426014991274,
          -4.50354702250596,
          -4.583016823729134,
          -4.565905727165485,
          -4.050547256410217,
          -4.346706840993352,
          -3.8581962955698286,
          -4.341531267533347,
          -3.9005836181563014,
          -3.541616827629792,
          -3.598052350722925,
          -4.187997416540248,
          -0.7654781498411074,
          -2.1198817443067846,
          -1.9962871405792997,
          -3.867356705491402,
          -4.509314826417027,
          -3.656074133278027,
          -4.583592296257942,
          -3.924329221020756,
          -3.8918634737257416,
          -4.555437340332857,
          -4.377742450880311,
          -4.514837347086466,
          -4.23423738186225,
          -3.8718079401092815,
          -4.408232016379909,
          -4.1873212355354505,
          -4.33316822335778,
          -4.5858954330761375,
          -3.9608318053579636,
          -4.3269442173402854,
          -3.91744806146008,
          -4.61812101626241,
          -3.8587111753136014,
          -3.9775386330167897,
          -3.9287240173586704,
          -4.323681814071271,
          -3.9168545929223115,
          -3.9216901066641237,
          -3.7179598581130304,
          -2.009963889879125,
          -4.395395012322336,
          -4.551306210745423,
          -4.345174810897567,
          -4.2674371065370345,
          -4.045550400012395,
          -4.422449270302721,
          -4.223372198943645,
          -4.579750808520025,
          -4.338970751511892,
          -3.916477071070531,
          -3.8998291651087595,
          -4.32232284555012,
          -3.916281442533959,
          -3.6735867271921956,
          -4.553652731072424,
          -3.9110330271267384,
          -4.582245971064016,
          -3.915874713199846,
          -3.9089704653720108,
          -3.921431430031824,
          -4.398078510894634,
          -4.468562804723648,
          -3.902509823778736,
          -4.337290734348939,
          -3.8920414813985915,
          -4.3651330721019646,
          -4.556053013856256,
          -0.2640959220311707,
          -3.4574176941485883,
          -3.5150172232084085,
          1.5081696152410098,
          -3.6397602946562855,
          -4.216717568138843,
          -2.486620083140932,
          -2.2919355932194247,
          -2.4080918728785776,
          -2.4658278095217003,
          -4.3568779878912185,
          -3.920420042216022,
          -3.853014910366363,
          -3.899178754790178,
          -4.264840843101881,
          -3.853014910366363,
          -4.358011212224935,
          -3.9306800551186485,
          -3.8795167803408988,
          -3.9229824084208977,
          -3.9413414733696257
         ],
         "yaxis": "y"
        },
        {
         "customdata": [
          [
           "hCoV-19/India/NIV-10380/2020|EPI_ISL_452192|2020-04-16"
          ],
          [
           "hCoV-19/India/NIV-10419/2020|EPI_ISL_452193|2020-04-16"
          ],
          [
           "hCoV-19/India/NIV-11677/2020|EPI_ISL_452194|2020-04-19"
          ],
          [
           "hCoV-19/India/NIV-11681/2020|EPI_ISL_452195|2020-04-19"
          ],
          [
           "hCoV-19/India/NIV-11683/2020|EPI_ISL_452196|2020-04-19"
          ],
          [
           "hCoV-19/India/NIV-11687/2020|EPI_ISL_452197|2020-04-19"
          ],
          [
           "hCoV-19/India/NIV-11855/2020|EPI_ISL_452198|2020-04-20"
          ],
          [
           "hCoV-19/India/NIV-12019/2020|EPI_ISL_452199|2020-04-20"
          ],
          [
           "hCoV-19/India/NIV-4438/2020|EPI_ISL_454533|2020-03-23"
          ],
          [
           "hCoV-19/India/NIV-4622/2020|EPI_ISL_454534|2020-03-24"
          ],
          [
           "hCoV-19/India/NIV-5097/2020|EPI_ISL_454535|2020-03-26"
          ],
          [
           "hCoV-19/India/NIV-5102/2020|EPI_ISL_454536|2020-03-26"
          ],
          [
           "hCoV-19/India/NIV-5104/2020|EPI_ISL_454537|2020-03-26"
          ],
          [
           "hCoV-19/India/NIV-6216/2020|EPI_ISL_454540|2020-04-01"
          ],
          [
           "hCoV-19/India/NIV-6285/2020|EPI_ISL_454541|2020-03-30"
          ],
          [
           "hCoV-19/India/NIV-6315/2020|EPI_ISL_454542|2020-03-30"
          ],
          [
           "hCoV-19/India/NIV-6423/2020|EPI_ISL_454543|2020-03-31"
          ],
          [
           "hCoV-19/India/NIV-6614/2020|EPI_ISL_454544|2020-04-02"
          ],
          [
           "hCoV-19/India/NIV-6964/2020|EPI_ISL_454546|2020-04-03"
          ],
          [
           "hCoV-19/India/NIV-7044/2020|EPI_ISL_454547|2020-04-04"
          ],
          [
           "hCoV-19/India/NIV-7098/2020|EPI_ISL_454548|2020-04-03"
          ],
          [
           "hCoV-19/India/NIV-7558/2020|EPI_ISL_454549|2020-04-05"
          ],
          [
           "hCoV-19/India/NIV-7832/2020|EPI_ISL_454550|2020-04-06"
          ],
          [
           "hCoV-19/India/NIV-7893/2020|EPI_ISL_454551|2020-04-07"
          ],
          [
           "hCoV-19/India/NIV-7966/2020|EPI_ISL_454552|2020-04-06"
          ],
          [
           "hCoV-19/India/NIV-8404/2020|EPI_ISL_454555|2020-04-07"
          ],
          [
           "hCoV-19/India/NIV-9154/2020|EPI_ISL_454557|2020-04-13"
          ],
          [
           "hCoV-19/India/NIV-9314/2020|EPI_ISL_454558|2020-04-13"
          ],
          [
           "hCoV-19/India/NIV-701_3/2020|EPI_ISL_454560|2020-04-06"
          ],
          [
           "hCoV-19/India/NIV-729_3/2020|EPI_ISL_454561|2020-04-07"
          ],
          [
           "hCoV-19/India/NIV-815_3/2020|EPI_ISL_454562|2020-04-07"
          ],
          [
           "hCoV-19/India/NIV-QA-707/2020|EPI_ISL_454563|2020-04-10"
          ],
          [
           "hCoV-19/India/NIV-QA-708/2020|EPI_ISL_454564|2020-04-04"
          ],
          [
           "hCoV-19/India/NIV-QA-710/2020|EPI_ISL_454565|2020-03-31"
          ],
          [
           "hCoV-19/India/NIV-QC-795/2020|EPI_ISL_454566|2020-04-21"
          ],
          [
           "hCoV-19/India/NIV-QC-796/2020|EPI_ISL_454567|2020-04-22"
          ],
          [
           "hCoV-19/India/NIV-QC-798/2020|EPI_ISL_454568|2020-04-25"
          ],
          [
           "hCoV-19/India/NIV-QC-799/2020|EPI_ISL_454569|2020-04-26"
          ],
          [
           "hCoV-19/India/NIV-QC-801/2020|EPI_ISL_454570|2020-04-26"
          ],
          [
           "hCoV-19/India/NCDC-02330/2020|EPI_ISL_435077|2020-03-29"
          ],
          [
           "hCoV-19/India/NCDC-02310/2020|EPI_ISL_435085|2020-03-29"
          ],
          [
           "hCoV-19/India/NCDC-02315/2020|EPI_ISL_435086|2020-03-29"
          ],
          [
           "hCoV-19/India/NCDC-3835/2020|EPI_ISL_436438|2020-04-07"
          ],
          [
           "hCoV-19/India/NCDC-3950/2020|EPI_ISL_436442|2020-04-09"
          ],
          [
           "hCoV-19/India/NCDC-3965/2020|EPI_ISL_436444|2020-04-09"
          ],
          [
           "hCoV-19/India/NCDC-3985/2020|EPI_ISL_436446|2020-04-09"
          ],
          [
           "hCoV-19/India/CCMB_NIV1/2020|EPI_ISL_450321|2020-04-04"
          ],
          [
           "hCoV-19/India/CCMB_NIV2/2020|EPI_ISL_450322|2020-04-04"
          ],
          [
           "hCoV-19/India/CCMB_NIV3/2020|EPI_ISL_450323|2020-03-27"
          ],
          [
           "hCoV-19/India/CCMB_NIV4/2020|EPI_ISL_450324|2020-03-26"
          ],
          [
           "hCoV-19/India/CCMB_NIV5/2020|EPI_ISL_450325|2020-03-17"
          ],
          [
           "hCoV-19/India/NIV-12024/2020|EPI_ISL_452200|2020-04-20"
          ],
          [
           "hCoV-19/India/NIV-12067/2020|EPI_ISL_452201|2020-04-20"
          ],
          [
           "hCoV-19/India/NIV-2810/2020|EPI_ISL_452202|2020-03-16"
          ],
          [
           "hCoV-19/India/NIV-4367/2020|EPI_ISL_452203|2020-03-22"
          ],
          [
           "hCoV-19/India/NIV-5109/2020|EPI_ISL_452204|2020-03-26"
          ],
          [
           "hCoV-19/India/NIV-5119/2020|EPI_ISL_452205|2020-03-26"
          ],
          [
           "hCoV-19/India/NIV-6311/2020|EPI_ISL_452206|2020-03-30"
          ],
          [
           "hCoV-19/India/NIV-7439/2020|EPI_ISL_452207|2020-04-05"
          ],
          [
           "hCoV-19/India/NIV-7511/2020|EPI_ISL_452208|2020-04-05"
          ],
          [
           "hCoV-19/India/NIV-7786/2020|EPI_ISL_452209|2020-04-06"
          ],
          [
           "hCoV-19/India/NIV-7830/2020|EPI_ISL_452210|2020-04-06"
          ],
          [
           "hCoV-19/India/NIV-9157/2020|EPI_ISL_452211|2020-04-13"
          ],
          [
           "hCoV-19/India/NIV-9768/2020|EPI_ISL_452212|2020-04-15"
          ],
          [
           "hCoV-19/India/NIV-981/2020|EPI_ISL_452213|2020-03-10"
          ],
          [
           "hCoV-19/India/NIV-QA-709/2020|EPI_ISL_452214|2020-04-07"
          ],
          [
           "hCoV-19/India/NIV-QC-797/2020|EPI_ISL_452215|2020-04-22"
          ],
          [
           "hCoV-19/India/NIV-QC-802/2020|EPI_ISL_452216|2020-04-27"
          ],
          [
           "hCoV-19/India/NIV-QC-800/2020|EPI_ISL_452217|2020-04-26"
          ],
          [
           "hCoV-19/India/NIV-11182/2020|EPI_ISL_454521|2020-04-18"
          ],
          [
           "hCoV-19/India/NIV-11676/2020|EPI_ISL_454522|2020-04-19"
          ],
          [
           "hCoV-19/India/NIV-12058/2020|EPI_ISL_454524|2020-04-20"
          ],
          [
           "hCoV-19/India/NIV-1738/2020|EPI_ISL_454525|2020-03-12"
          ],
          [
           "hCoV-19/India/NIV-1804/2020|EPI_ISL_454526|2020-03-13"
          ],
          [
           "hCoV-19/India/NIV-2387/2020|EPI_ISL_454527|2020-03-13"
          ],
          [
           "hCoV-19/India/NIV-3472/2020|EPI_ISL_454528|2020-03-17"
          ],
          [
           "hCoV-19/India/NIV-4130/2020|EPI_ISL_454529|2020-03-21"
          ],
          [
           "hCoV-19/India/NIV-4271/2020|EPI_ISL_454530|2020-03-22"
          ],
          [
           "hCoV-19/India/NIV-4369/2020|EPI_ISL_454531|2020-03-22"
          ],
          [
           "hCoV-19/India/NIV-4379/2020|EPI_ISL_454532|2020-03-23"
          ]
         ],
         "hovertemplate": "color=Maharashtra<br>x=%{x}<br>y=%{y}<br>ID=%{customdata[0]}<extra></extra>",
         "legendgroup": "Maharashtra",
         "marker": {
          "color": "orange",
          "symbol": "circle"
         },
         "mode": "markers",
         "name": "Maharashtra",
         "orientation": "v",
         "showlegend": true,
         "type": "scatter",
         "x": [
          -3.648955887561058,
          -3.674834720983249,
          -3.513659123648525,
          -3.5732932183726462,
          -3.5265614065401554,
          -3.6504243464823833,
          -3.5638690646354916,
          -3.6856248347524834,
          -3.2041091771698977,
          -1.973903544194508,
          38.673782839131114,
          -3.154061543246511,
          -2.8864244813392883,
          -3.2877863642790985,
          13.429999661953373,
          -3.342779870904322,
          -2.9237474960629375,
          -1.627024633590836,
          -2.1494926854900576,
          -3.354582415904351,
          14.99893952539971,
          -3.123087878348929,
          4.537316219232773,
          -3.2681997863559085,
          -1.153406882149792,
          13.095601637864503,
          -3.483342827759148,
          -1.3403554265867992,
          -3.321214164445928,
          0.10416821243293325,
          1.2021585922496496,
          -3.054584831365849,
          -3.2032934454793645,
          -3.5022844249631055,
          -3.523025421401274,
          -3.3798586260864854,
          -2.8123805041861387,
          -3.2944399792494607,
          -3.0745448274356306,
          4.398827403642369,
          -2.4993725253039982,
          -2.5613883000991553,
          8.687209968824163,
          19.0120347899359,
          -0.76740788794107,
          11.649201232235278,
          -3.6302750806391813,
          -3.6242948923135656,
          -3.9011262507025006,
          -3.5939299289105033,
          -3.8693303349970436,
          -3.585384141223007,
          -3.586318047755914,
          -3.273689018633057,
          -3.3797344315478806,
          -3.3023794971090306,
          -3.367446848105825,
          -2.8862261038945984,
          -3.641869288051812,
          -3.4311784649068993,
          -3.4779044302918685,
          -3.6086284150130563,
          -3.6724143175939283,
          -3.5474121425089646,
          -3.2438124062493245,
          -3.5638077133665447,
          -3.50804811953443,
          -3.662491733968849,
          -3.4698560188903453,
          0.8484223213855513,
          0.412017003172212,
          -2.7974919373484677,
          -1.9298955175143477,
          -3.030178355617795,
          -3.2048033371683653,
          -2.8755451617093364,
          -3.377049447108216,
          -2.946205622246192,
          -3.1822166676509305,
          -3.263701152546642
         ],
         "xaxis": "x",
         "y": [
          -4.293608409894054,
          -4.302187670684518,
          -4.331461051153073,
          -4.258605398050487,
          -4.151621561906333,
          -4.254279399440364,
          -4.308735555661317,
          -4.331665960673795,
          -4.157516997228797,
          -3.077903901510302,
          -1.973872613397473,
          -2.886788542810412,
          -3.0403391058925804,
          -0.6916283734099435,
          -0.7567861728210701,
          -0.7123039112491641,
          0.430709826346894,
          -0.5204859484055678,
          -0.6608930414815811,
          0.2645624911449025,
          -0.6545690350539571,
          -2.2328142148138785,
          -3.8317940509971704,
          -0.7281999889147365,
          -0.6567239550872387,
          -0.6866131813327966,
          -4.327078035812752,
          -4.309521723598825,
          -4.208007843581704,
          1.3185547711929784,
          -3.623620330740904,
          -4.269640221683689,
          -4.388966620722083,
          -4.240194170545085,
          -4.144045576703418,
          -4.381182860811196,
          -0.6183778277092774,
          -4.2320313819753155,
          -4.229887931034216,
          -0.8412525727834487,
          -0.45627075570917863,
          -0.22486142345492732,
          0.05121097892812842,
          -0.7784141094327443,
          -0.359803559884193,
          0.2004878055122803,
          -0.25315994216997806,
          -0.20600257017504037,
          -3.8071536887945188,
          -2.48215216631479,
          -3.3812440474531464,
          -4.33019442736705,
          -4.290884647616285,
          -2.748169578738664,
          -2.826982788970968,
          -2.876708764571835,
          -2.8495095907797015,
          -0.8505515880527899,
          -4.293709075268888,
          -0.6812611810722633,
          0.27689041737680875,
          -4.307073170651121,
          -4.261026670114658,
          -4.286523166456678,
          -2.4425513298677255,
          -4.192575006821431,
          1.2041046735868641,
          -4.185067791806845,
          -4.18980662434229,
          -4.0224889513188335,
          -3.9230936487912,
          -4.248729826692306,
          -2.488536979611196,
          -2.482431681728824,
          -4.113815833968553,
          -2.2455535420662405,
          -4.24093522052838,
          -4.176944986509678,
          -2.8988993043581055,
          -4.207242830025068
         ],
         "yaxis": "y"
        },
        {
         "customdata": [
          [
           "hCoV-19/India/NIHSAD-2004-18/2020|EPI_ISL_452787|2020-04-19"
          ],
          [
           "hCoV-19/India/NIHSAD-2104-06/2020|EPI_ISL_452788|2020-04-19"
          ],
          [
           "hCoV-19/India/NIHSAD-2404-64/2020|EPI_ISL_452789|2020-04-23"
          ],
          [
           "hCoV-19/India/NIHSAD-2604-22/2020|EPI_ISL_452790|2020-04-24"
          ],
          [
           "hCoV-19/India/NIHSAD-2904-107/2020|EPI_ISL_452791|2020-04-27"
          ],
          [
           "hCoV-19/India/NIHSAD-0105-77/2020|EPI_ISL_452792|2020-04-30"
          ],
          [
           "hCoV-19/India/NIHSAD-0405-24/2020|EPI_ISL_452793|2020-05-03"
          ],
          [
           "hCoV-19/India/NIHSAD-0905-216/2020|EPI_ISL_452794|2020-05-08"
          ],
          [
           "hCoV-19/India/NCDC-3961/2020|EPI_ISL_436443|2020-04-09"
          ],
          [
           "hCoV-19/India/NCDC-4444/2020|EPI_ISL_436453|2020-04-16"
          ],
          [
           "hCoV-19/India/NCDC-4846/2020|EPI_ISL_436456|2020-04-20"
          ],
          [
           "hCoV-19/India/NCDC-4859/2020|EPI_ISL_436457|2020-04-20"
          ],
          [
           "hCoV-19/India/NCDC-4867/2020|EPI_ISL_436458|2020-04-16"
          ],
          [
           "hCoV-19/India/NCDC-4874/2020|EPI_ISL_436459|2020-04-20"
          ],
          [
           "hCoV-19/India/NCDC-4876/2020|EPI_ISL_436460|2020-04-20"
          ],
          [
           "hCoV-19/India/NCDC-4877/2020|EPI_ISL_436461|2020-04-20"
          ],
          [
           "hCoV-19/India/NCDC-4878/2020|EPI_ISL_436462|2020-04-16"
          ],
          [
           "hCoV-19/India/NCDC-4879/2020|EPI_ISL_436463|2020-04-16"
          ],
          [
           "hCoV-19/India/NIHSAD-1005-52/2020|EPI_ISL_452795|2020-05-09"
          ]
         ],
         "hovertemplate": "color=Madhya Pradesh<br>x=%{x}<br>y=%{y}<br>ID=%{customdata[0]}<extra></extra>",
         "legendgroup": "Madhya Pradesh",
         "marker": {
          "color": "brown",
          "symbol": "circle"
         },
         "mode": "markers",
         "name": "Madhya Pradesh",
         "orientation": "v",
         "showlegend": true,
         "type": "scatter",
         "x": [
          11.216609690747282,
          8.413567081736215,
          10.522905160879986,
          3.7142215039260718,
          0.8671966294768181,
          3.55289507992763,
          1.2601697886281686,
          -2.7410304847280735,
          8.609660870035757,
          1.0721374309319847,
          -4.261442046126153,
          -4.16225363477893,
          -2.577400558077666,
          -3.8458323514841615,
          -3.0666884482150714,
          -3.7999470343435617,
          -3.4806989906076153,
          2.0234557490945755,
          -3.406781547407052
         ],
         "xaxis": "x",
         "y": [
          -4.036586456892125,
          -3.9969561532586364,
          -4.3446764587597295,
          -3.9963040054310204,
          -3.95825751211591,
          -4.133795167637597,
          0.6565427770362395,
          -4.064366016977196,
          -0.8498575106235415,
          -3.511878237602088,
          -3.4526575247745552,
          -3.557959742717404,
          -2.82790158795441,
          -3.944042454815139,
          -3.5734373402077475,
          -3.5573190834826733,
          -3.464878555012749,
          -2.6409387900785637,
          0.8312727032586786
         ],
         "yaxis": "y"
        },
        {
         "customdata": [
          [
           "hCoV-19/India/SMSCOV109/2020|EPI_ISL_454830|2020-04-23"
          ],
          [
           "hCoV-19/India/SMSCOV141/2020|EPI_ISL_454831|2020-04-29"
          ],
          [
           "hCoV-19/India/SMSCOV161/2020|EPI_ISL_454832|2020-04-21"
          ],
          [
           "hCoV-19/India/SMSCOV175/2020|EPI_ISL_454833|2020-04-27"
          ],
          [
           "hCoV-19/India/S25/2020|EPI_ISL_455655|2020-04-30"
          ],
          [
           "hCoV-19/India/NCDC-2522/2020|EPI_ISL_436420|2020-03-31"
          ]
         ],
         "hovertemplate": "color=Rajasthan<br>x=%{x}<br>y=%{y}<br>ID=%{customdata[0]}<extra></extra>",
         "legendgroup": "Rajasthan",
         "marker": {
          "color": "#ab63fa",
          "symbol": "circle"
         },
         "mode": "markers",
         "name": "Rajasthan",
         "orientation": "v",
         "showlegend": true,
         "type": "scatter",
         "x": [
          -4.0415281201354,
          -3.667380600096556,
          -3.9488318869914556,
          -3.0913551101710555,
          -4.179413534471902,
          -3.332291169992264
         ],
         "xaxis": "x",
         "y": [
          -0.014115873330277723,
          -2.52566054396345,
          -0.12465908586863712,
          -0.7021785498153098,
          -3.470647654928106,
          -0.005694348546213285
         ],
         "yaxis": "y"
        },
        {
         "customdata": [
          [
           "hCoV-19/India/RMRC25/2020|EPI_ISL_455308|2020-04-04"
          ],
          [
           "hCoV-19/India/RMRC26/2020|EPI_ISL_455309|2020-04-04"
          ],
          [
           "hCoV-19/India/RMRC48/2020|EPI_ISL_455310|2020-04-08"
          ],
          [
           "hCoV-19/India/RMRC123/2020|EPI_ISL_455311|2020-05-07"
          ],
          [
           "hCoV-19/India/RMRC103/2020|EPI_ISL_455749|2020-05-06"
          ],
          [
           "hCoV-19/India/RMRC104/2020|EPI_ISL_455750|2020-05-06"
          ],
          [
           "hCoV-19/India/RMRC106/2020|EPI_ISL_455751|2020-05-06"
          ],
          [
           "hCoV-19/India/RMRC108/2020|EPI_ISL_455752|2020-05-06"
          ],
          [
           "hCoV-19/India/RMRC110/2020|EPI_ISL_455753|2020-05-06"
          ],
          [
           "hCoV-19/India/RMRC112/2020|EPI_ISL_455754|2020-05-06"
          ],
          [
           "hCoV-19/India/RMRC154/2020|EPI_ISL_455755|2020-05-07"
          ],
          [
           "hCoV-19/India/RMRC155/2020|EPI_ISL_455756|2020-05-07"
          ],
          [
           "hCoV-19/India/RMRC156/2020|EPI_ISL_455757|2020-05-07"
          ],
          [
           "hCoV-19/India/RMRC157/2020|EPI_ISL_455758|2020-05-07"
          ],
          [
           "hCoV-19/India/RMRC158/2020|EPI_ISL_455759|2020-05-07"
          ],
          [
           "hCoV-19/India/RMRC159/2020|EPI_ISL_455760|2020-05-07"
          ],
          [
           "hCoV-19/India/RMRC160/2020|EPI_ISL_455761|2020-05-07"
          ],
          [
           "hCoV-19/India/RMRC162/2020|EPI_ISL_455762|2020-05-07"
          ],
          [
           "hCoV-19/India/RMRC163/2020|EPI_ISL_455763|2020-05-07"
          ],
          [
           "hCoV-19/India/RMRC164/2020|EPI_ISL_455764|2020-05-07"
          ],
          [
           "hCoV-19/India/RMRC165/2020|EPI_ISL_455765|2020-05-07"
          ],
          [
           "hCoV-19/India/RMRC166/2020|EPI_ISL_455766|2020-05-07"
          ],
          [
           "hCoV-19/India/RMRC167/2020|EPI_ISL_455767|2020-05-07"
          ],
          [
           "hCoV-19/India/RMRC169/2020|EPI_ISL_455768|2020-05-07"
          ],
          [
           "hCoV-19/India/RMRC170/2020|EPI_ISL_455769|2020-05-07"
          ],
          [
           "hCoV-19/India/RMRC171/2020|EPI_ISL_455770|2020-05-07"
          ],
          [
           "hCoV-19/India/RMRC2/2020|EPI_ISL_455771|2020-03-19"
          ],
          [
           "hCoV-19/India/RMRC20/2020|EPI_ISL_455772|2020-04-02"
          ],
          [
           "hCoV-19/India/RMRC22/2020|EPI_ISL_455773|2020-04-04"
          ],
          [
           "hCoV-19/India/RMRC23/2020|EPI_ISL_455774|2020-04-04"
          ],
          [
           "hCoV-19/India/RMRC24/2020|EPI_ISL_455775|2020-04-04"
          ],
          [
           "hCoV-19/India/RMRC27/2020|EPI_ISL_455776|2020-04-04"
          ],
          [
           "hCoV-19/India/RMRC28/2020|EPI_ISL_455777|2020-04-04"
          ],
          [
           "hCoV-19/India/RMRC30/2020|EPI_ISL_455778|2020-04-04"
          ],
          [
           "hCoV-19/India/RMRC38/2020|EPI_ISL_455779|2020-04-04"
          ],
          [
           "hCoV-19/India/RMRC46/2020|EPI_ISL_455780|2020-04-08"
          ],
          [
           "hCoV-19/India/RMRC47/2020|EPI_ISL_455781|2020-04-08"
          ],
          [
           "hCoV-19/India/RMRC5/2020|EPI_ISL_455782|2020-04-02"
          ],
          [
           "hCoV-19/India/RMRC6/2020|EPI_ISL_455783|2020-04-02"
          ],
          [
           "hCoV-19/India/RMRC7/2020|EPI_ISL_455784|2020-04-02"
          ],
          [
           "hCoV-19/India/RMRC84/2020|EPI_ISL_455785|2020-05-04"
          ],
          [
           "hCoV-19/India/RMRC90/2020|EPI_ISL_455786|2020-05-04"
          ],
          [
           "hCoV-19/India/RMRC92/2020|EPI_ISL_455787|2020-05-04"
          ],
          [
           "hCoV-19/India/RMRC94/2020|EPI_ISL_455788|2020-05-04"
          ],
          [
           "hCoV-19/India/NCDC-02336/2020|EPI_ISL_435088|2020-03-29"
          ],
          [
           "hCoV-19/India/RMRC49/2020|EPI_ISL_455478|2020-04-09"
          ]
         ],
         "hovertemplate": "color=Odisha<br>x=%{x}<br>y=%{y}<br>ID=%{customdata[0]}<extra></extra>",
         "legendgroup": "Odisha",
         "marker": {
          "color": "blue",
          "symbol": "circle"
         },
         "mode": "markers",
         "name": "Odisha",
         "orientation": "v",
         "showlegend": true,
         "type": "scatter",
         "x": [
          68.08048857133844,
          48.70839123041322,
          71.81425899995394,
          46.23968261667367,
          -1.5851707181035497,
          17.961536684877533,
          8.4834663527494,
          -1.1057827656837453,
          8.478298461528336,
          -1.8854480837692473,
          -1.8009991499563676,
          37.344524070322834,
          -0.5702071582375862,
          1.15284505538359,
          12.11569223402763,
          -1.0828632542697771,
          -1.6887561214448235,
          10.053569975555977,
          -3.7981448376280644,
          -2.010749205520693,
          -1.8479705550121182,
          -2.0062213928317245,
          -1.8028583242396952,
          -1.540477747481558,
          12.886680048504195,
          -1.6440340030116674,
          -1.0882329610931454,
          35.15392593631877,
          19.079695768632227,
          10.215116877970534,
          -3.66058492357961,
          -2.2149202762059494,
          -2.009847567839969,
          -3.944217356190845,
          -3.5444037023601296,
          -3.4857560384915,
          67.979049458567,
          -0.14212238366830934,
          -1.946104201717314,
          -1.8209347959637585,
          65.30394136430762,
          -1.909625040407447,
          -2.0241789808881396,
          51.864160808747556,
          1.0361885526688528,
          -4.137736393897569
         ],
         "xaxis": "x",
         "y": [
          -4.380944017034702,
          -4.432531742613974,
          -2.573652163526212,
          -2.537567488348315,
          -3.1010780550865094,
          -3.0171664882510516,
          -3.817540316144556,
          -3.2195410178975967,
          -3.802144990808345,
          -4.465083868272551,
          -4.430899724773166,
          -6.111133456762373,
          -4.54398898993339,
          -3.2459966067991073,
          -4.017687888572242,
          -3.1376513353245743,
          -3.0895665600276265,
          -3.973446439556305,
          -2.530852313725154,
          -2.9932666176623237,
          -4.462769562948578,
          -2.9957232153411315,
          -3.127127812491542,
          -0.9880942074623077,
          -4.110971200598739,
          -3.1076346131402817,
          -4.630442524089284,
          -3.8912209107166813,
          -5.162829028692227,
          -5.75993403998746,
          -4.422624917422236,
          -4.706065468018847,
          -4.830590815588735,
          -4.171927194932761,
          -4.41986324355041,
          -4.534445335162951,
          -6.0917829944459285,
          -4.922153021792923,
          -4.636057530976153,
          -4.8262590961690215,
          -4.235927441525171,
          -4.408423929979833,
          -4.4007706698623625,
          -6.027178771213584,
          -0.17402398663238455,
          -0.2627188969817995
         ],
         "yaxis": "y"
        },
        {
         "customdata": [
          [
           "hCoV-19/India/MaxCov0003_CSIR-IGIB/2020|EPI_ISL_459911|2020-05-09"
          ],
          [
           "hCoV-19/India/MaxCov0008_CSIR-IGIB/2020|EPI_ISL_459912|2020-05-07"
          ],
          [
           "hCoV-19/India/MaxCov0010_CSIR-IGIB/2020|EPI_ISL_459913|2020-05-03"
          ],
          [
           "hCoV-19/India/MaxCov0012_CSIR-IGIB/2020|EPI_ISL_459914|2020-05-01"
          ],
          [
           "hCoV-19/India/MaxCov0013_CSIR-IGIB/2020|EPI_ISL_459915|2020-05-12"
          ],
          [
           "hCoV-19/India/MaxCov0014_CSIR-IGIB/2020|EPI_ISL_459916|2020-05-12"
          ],
          [
           "hCoV-19/India/MaxCov0015_CSIR-IGIB/2020|EPI_ISL_459917|2020-05-08"
          ],
          [
           "hCoV-19/India/MaxCov0016_CSIR-IGIB/2020|EPI_ISL_459918|2020-05-09"
          ],
          [
           "hCoV-19/India/MaxCov0017_CSIR-IGIB/2020|EPI_ISL_459919|2020-05-21"
          ],
          [
           "hCoV-19/India/MaxCov0018_CSIR-IGIB/2020|EPI_ISL_459920|2020-05-21"
          ],
          [
           "hCoV-19/India/MaxCov0019_CSIR-IGIB/2020|EPI_ISL_459921|2020-05-08"
          ],
          [
           "hCoV-19/India/MaxCov0020_CSIR-IGIB/2020|EPI_ISL_459922|2020-05-10"
          ],
          [
           "hCoV-19/India/MaxCov0021_CSIR-IGIB/2020|EPI_ISL_459923|2020-05-08"
          ],
          [
           "hCoV-19/India/MaxCov0022_CSIR-IGIB/2020|EPI_ISL_459924|2020-05-08"
          ],
          [
           "hCoV-19/India/MaxCov0023_CSIR-IGIB/2020|EPI_ISL_459925|2020-05-08"
          ],
          [
           "hCoV-19/India/MaxCov0029_CSIR-IGIB/2020|EPI_ISL_459931|2020-05-09"
          ],
          [
           "hCoV-19/India/MaxCov0030_CSIR-IGIB/2020|EPI_ISL_459932|2020-05-13"
          ],
          [
           "hCoV-19/India/MaxCov0031_CSIR-IGIB/2020|EPI_ISL_459933|2020-05-05"
          ],
          [
           "hCoV-19/India/MaxCov0032_CSIR-IGIB/2020|EPI_ISL_459934|2020-05-05"
          ],
          [
           "hCoV-19/India/MaxCov0033_CSIR-IGIB/2020|EPI_ISL_459935|2020-05-06"
          ],
          [
           "hCoV-19/India/MaxCov0034_CSIR-IGIB/2020|EPI_ISL_459936|2020-05-10"
          ],
          [
           "hCoV-19/India/MaxCov0035_CSIR-IGIB/2020|EPI_ISL_459937|2020-05-10"
          ],
          [
           "hCoV-19/India/MaxCov0036_CSIR-IGIB/2020|EPI_ISL_459938|2020-05-11"
          ],
          [
           "hCoV-19/India/MaxCov0037_CSIR-IGIB/2020|EPI_ISL_459939|2020-05-11"
          ],
          [
           "hCoV-19/India/MaxCov0038_CSIR-IGIB/2020|EPI_ISL_459940|2020-05-10"
          ],
          [
           "hCoV-19/India/MaxCov0039_CSIR-IGIB/2020|EPI_ISL_459941|2020-05-11"
          ],
          [
           "hCoV-19/India/MaxCov0040_CSIR-IGIB/2020|EPI_ISL_459942|2020-04-27"
          ],
          [
           "hCoV-19/India/MaxCov0041_CSIR-IGIB/2020|EPI_ISL_459943|2020-05-01"
          ],
          [
           "hCoV-19/India/MaxCov0042_CSIR-IGIB/2020|EPI_ISL_459944|2020-05-01"
          ],
          [
           "hCoV-19/India/NCDC-01710/2020|EPI_ISL_435070|2020-03-18"
          ],
          [
           "hCoV-19/India/NCDC-02105/2020|EPI_ISL_435071|2020-03-25"
          ],
          [
           "hCoV-19/India/NCDC-02155/2020|EPI_ISL_435072|2020-03-26"
          ],
          [
           "hCoV-19/India/NCDC-02157/2020|EPI_ISL_435073|2020-03-26"
          ],
          [
           "hCoV-19/India/NCDC-01457/2020|EPI_ISL_435108|2020-03-15"
          ],
          [
           "hCoV-19/India/NCDC-01638/2020|EPI_ISL_435109|2020-03-17"
          ],
          [
           "hCoV-19/India/NCDC-01501/2020|EPI_ISL_435110|2020-03-16"
          ],
          [
           "hCoV-19/India/NCDC-02415/2020|EPI_ISL_435111|2020-03-30"
          ],
          [
           "hCoV-19/India/NCDC-3982/2020|EPI_ISL_436445|2020-04-09"
          ],
          [
           "hCoV-19/India/NCDC-4138/2020|EPI_ISL_436448|2020-04-12"
          ],
          [
           "hCoV-19/India/NCDC-4189/2020|EPI_ISL_436450|2020-04-13"
          ],
          [
           "hCoV-19/India/NCDC-4205/2020|EPI_ISL_436451|2020-04-13"
          ],
          [
           "hCoV-19/India/NCDC-4208/2020|EPI_ISL_436452|2020-04-14"
          ],
          [
           "hCoV-19/India/NCDC-4475/2020|EPI_ISL_436454|2020-04-13"
          ],
          [
           "hCoV-19/India/NCDC-4476/2020|EPI_ISL_436455|2020-04-13"
          ],
          [
           "hCoV-19/India/NCDC-01537/2020|EPI_ISL_435061|2020-03-16"
          ],
          [
           "hCoV-19/India/NCDC-01326/2020|EPI_ISL_435063|2020-03-13"
          ],
          [
           "hCoV-19/India/NCDC-01705/2020|EPI_ISL_435064|2020-03-18"
          ],
          [
           "hCoV-19/India/NCDC-01475/2020|EPI_ISL_435065|2020-03-15"
          ],
          [
           "hCoV-19/India/NCDC-01711/2020|EPI_ISL_435066|2020-03-18"
          ],
          [
           "hCoV-19/India/NCDC-01712/2020|EPI_ISL_435067|2020-03-18"
          ],
          [
           "hCoV-19/India/NCDC-01757/2020|EPI_ISL_435068|2020-03-18"
          ],
          [
           "hCoV-19/India/NCDC-01744/2020|EPI_ISL_435069|2020-03-18"
          ],
          [
           "hCoV-19/India/NCDC-2507/2020|EPI_ISL_436415|2020-03-31"
          ],
          [
           "hCoV-19/India/NCDC-3162/2020|EPI_ISL_436423|2020-04-05"
          ],
          [
           "hCoV-19/India/NCDC-3163/2020|EPI_ISL_436424|2020-04-05"
          ],
          [
           "hCoV-19/India/NCDC-3170/2020|EPI_ISL_436425|2020-04-05"
          ],
          [
           "hCoV-19/India/NCDC-3175/2020|EPI_ISL_436426|2020-04-05"
          ],
          [
           "hCoV-19/India/NCDC-3176/2020|EPI_ISL_436427|2020-04-05"
          ],
          [
           "hCoV-19/India/NCDC-3181/2020|EPI_ISL_436428|2020-04-05"
          ],
          [
           "hCoV-19/India/NCDC-3190/2020|EPI_ISL_436429|2020-04-05"
          ],
          [
           "hCoV-19/India/NCDC-3195/2020|EPI_ISL_436430|2020-04-05"
          ],
          [
           "hCoV-19/India/NCDC-3230/2020|EPI_ISL_436431|2020-04-05"
          ],
          [
           "hCoV-19/India/NCDC-3264/2020|EPI_ISL_436432|2020-04-05"
          ],
          [
           "hCoV-19/India/NCDC-3271/2020|EPI_ISL_436433|2020-04-05"
          ],
          [
           "hCoV-19/India/NCDC-3279/2020|EPI_ISL_436434|2020-04-05"
          ],
          [
           "hCoV-19/India/NCDC-3394/2020|EPI_ISL_436435|2020-04-09"
          ],
          [
           "hCoV-19/India/NCDC-3400/2020|EPI_ISL_436436|2020-04-06"
          ],
          [
           "hCoV-19/India/NCDC-3831/2020|EPI_ISL_436437|2020-04-08"
          ],
          [
           "hCoV-19/India/MaxCov0043_CSIR-IGIB/2020|EPI_ISL_459945|2020-04-29"
          ],
          [
           "hCoV-19/India/MaxCov0044_CSIR-IGIB/2020|EPI_ISL_459946|2020-04-27"
          ],
          [
           "hCoV-19/India/MaxCov0045_CSIR-IGIB/2020|EPI_ISL_459947|2020-04-28"
          ],
          [
           "hCoV-19/India/MaxCov0046_CSIR-IGIB/2020|EPI_ISL_459948|2020-05-06"
          ],
          [
           "hCoV-19/India/MaxCov0047_CSIR-IGIB/2020|EPI_ISL_459949|2020-04-27"
          ],
          [
           "hCoV-19/India/MaxCov0048_CSIR-IGIB/2020|EPI_ISL_459950|2020-05-01"
          ],
          [
           "hCoV-19/India/MaxCov0049_CSIR-IGIB/2020|EPI_ISL_459951|2020-05-01"
          ],
          [
           "hCoV-19/India/MaxCov0050_CSIR-IGIB/2020|EPI_ISL_459952|2020-05-18"
          ]
         ],
         "hovertemplate": "color=Delhi<br>x=%{x}<br>y=%{y}<br>ID=%{customdata[0]}<extra></extra>",
         "legendgroup": "Delhi",
         "marker": {
          "color": "purple",
          "symbol": "circle"
         },
         "mode": "markers",
         "name": "Delhi",
         "orientation": "v",
         "showlegend": true,
         "type": "scatter",
         "x": [
          -2.993590992005479,
          28.01122094455742,
          -1.9570730649881662,
          -1.0514507735226755,
          -3.9065097315832786,
          -3.06872642663984,
          -2.869410919628827,
          -3.5381161824010943,
          -3.8662527211065165,
          -3.526619166162501,
          -3.8941800428794435,
          -3.401333794550271,
          -3.055443854800836,
          -3.361674874537172,
          1.6339094443899693,
          2.3742949485429996,
          -1.5350303223365867,
          -3.1661853794844057,
          -2.9037906299563874,
          -2.789069586714618,
          2.016151572873718,
          -1.3668016083157688,
          0.3770217184478102,
          -0.5564236841757313,
          -2.682890061177925,
          -3.0826884109130033,
          -3.3267766747859926,
          -3.307396610802649,
          2.9212913961382143,
          -1.3268772678229488,
          -3.935994096093617,
          0.2546150485683072,
          20.217824070618317,
          -2.6688657674022553,
          -0.2806895654902696,
          1.7496456118522319,
          -3.2972327246008386,
          -2.502566771692143,
          -3.8056356152796105,
          -3.9075108503960103,
          -3.382369579053534,
          -3.740587193978155,
          -3.6414957132024677,
          -3.817634883751636,
          -3.733286989949883,
          -3.509465389306768,
          -3.953042763110037,
          -2.3348428665298635,
          -3.594224400567246,
          -3.3629136039726184,
          -3.9056900244348594,
          -3.584916962515744,
          -1.3602274356662034,
          19.66871729279524,
          -2.593434473178733,
          -3.5950270525667793,
          -3.1338689590753783,
          12.93397409467479,
          -2.825162044509388,
          -1.893699515035062,
          -2.756070916866633,
          -3.0333337462330547,
          0.9548060246220691,
          -3.022934144896311,
          4.414386029651172,
          -2.13348356681895,
          1.9259146574623298,
          -0.13907022493685228,
          1.7770969917108135,
          7.654151331227906,
          3.884526015601416,
          8.592252030610595,
          9.157461935801654,
          10.659942583010116,
          12.07291929120908,
          5.800194201154941
         ],
         "xaxis": "x",
         "y": [
          -0.3907841442130256,
          1.15788808642326,
          -3.047877080861849,
          -2.9488792504977837,
          25.410284044069385,
          -1.1126804504325922,
          25.47105382174023,
          25.443752568569856,
          25.457174466757692,
          25.501340687237658,
          25.331073502353405,
          25.382519704901533,
          25.340532659956317,
          23.880724968937617,
          25.781084394860663,
          0.32064842806049143,
          25.36110079053519,
          25.46590911945319,
          25.539245574104218,
          25.454422060758986,
          0.4137651957565256,
          0.09903988275752748,
          13.43836781532392,
          0.23368436078100224,
          25.362068843358713,
          25.43310443165402,
          25.387588663385266,
          25.454883819794798,
          0.13525865409479382,
          -3.4547630883431,
          -3.6241534756995772,
          -3.621776223233576,
          -3.581350478456993,
          -1.5668489188124777,
          -2.511410518265592,
          -2.364762951460357,
          -2.1427671717742114,
          -0.4022748528207816,
          0.9736640011161684,
          12.109594866792813,
          1.7247851707527675,
          -0.10800397619169592,
          -3.514491146861154,
          -3.54091488197024,
          -3.515056222904415,
          -3.775667572478935,
          -3.6728027403120573,
          -4.136782492780327,
          -4.143423337708122,
          -4.192823919751404,
          -4.1619612282737695,
          -4.094054191844926,
          -0.2563845038816904,
          -1.4718273833034827,
          0.6957130660339429,
          0.8956262896911206,
          0.7983171068352892,
          -1.3606045357918932,
          -0.19083210153881885,
          -0.6292917859294077,
          1.0034760773560394,
          0.029249680610017356,
          0.18973368463087376,
          1.7393564330722395,
          -1.6909413036833658,
          -0.03870767706513108,
          -0.9105828702669936,
          -0.37487974404381336,
          0.17898106074073483,
          0.2231862729672465,
          0.33581851402061985,
          0.3738694190791422,
          0.3545010640354015,
          0.4144847427011782,
          0.3866095817693016,
          0.40037932728969644
         ],
         "yaxis": "y"
        },
        {
         "customdata": [
          [
           "hCoV-19/India/nimh-0113/2020|EPI_ISL_428479|2020-04-06"
          ],
          [
           "hCoV-19/India/nimh-0116/2020|EPI_ISL_428480|2020-04-06"
          ],
          [
           "hCoV-19/India/nimh-0130/2020|EPI_ISL_428481|2020-04-06"
          ],
          [
           "hCoV-19/India/nimh-0182/2020|EPI_ISL_428482|2020-04-08"
          ],
          [
           "hCoV-19/India/nimh-0318/2020|EPI_ISL_428483|2020-04-10"
          ],
          [
           "hCoV-19/India/nimh-0351/2020|EPI_ISL_428484|2020-04-10"
          ],
          [
           "hCoV-19/India/nimh-0834/2020|EPI_ISL_428485|2020-04-12"
          ],
          [
           "hCoV-19/India/nimh-0996/2020|EPI_ISL_428486|2020-04-14"
          ],
          [
           "hCoV-19/India/nimh-1071/2020|EPI_ISL_428487|2020-04-14"
          ],
          [
           "hCoV-19/India/nimh-4376/2020|EPI_ISL_436140|2020-04-24"
          ],
          [
           "hCoV-19/India/nimh-4378/2020|EPI_ISL_436141|2020-04-24"
          ],
          [
           "hCoV-19/India/NCDC-4055/2020|EPI_ISL_436447|2020-04-10"
          ],
          [
           "hCoV-19/India/nimh-2873/2020|EPI_ISL_436137|2020-04-21"
          ],
          [
           "hCoV-19/India/nimh-3952/2020|EPI_ISL_436138|2020-04-23"
          ],
          [
           "hCoV-19/India/nimh-3970/2020|EPI_ISL_436139|2020-04-23"
          ],
          [
           "hCoV-19/India/nimh-1596/2020|EPI_ISL_436156|2020-04-17"
          ],
          [
           "hCoV-19/India/nimh-1598/2020|EPI_ISL_436157|2020-04-17"
          ]
         ],
         "hovertemplate": "color=Karnataka<br>x=%{x}<br>y=%{y}<br>ID=%{customdata[0]}<extra></extra>",
         "legendgroup": "Karnataka",
         "marker": {
          "color": "black",
          "symbol": "circle"
         },
         "mode": "markers",
         "name": "Karnataka",
         "orientation": "v",
         "showlegend": true,
         "type": "scatter",
         "x": [
          2.441618260845631,
          32.56161264640638,
          -0.9151935353718706,
          -2.042684096913144,
          3.0080902319610394,
          3.563531257040024,
          43.42160714927992,
          1.7583939918470453,
          3.1973536534691114,
          2.853333417319527,
          2.99001513668552,
          -2.965368677836328,
          2.890978170748177,
          3.015582353960449,
          2.972239253666713,
          2.885960747389677,
          -0.09544932555427371
         ],
         "xaxis": "x",
         "y": [
          -3.9450418287152926,
          -3.7467374408284218,
          -3.8691424657867612,
          -3.8865599584056145,
          -0.4337544929840387,
          -1.0597438563355224,
          -4.115898785373999,
          -0.7929827759157371,
          -0.8461660730137233,
          -3.84796829996299,
          -3.8470939333860583,
          0.1447491340567727,
          -1.1400754090781184,
          -4.094645590843379,
          -4.0879994143192455,
          -0.9214139541206651,
          -0.902487386041472
         ],
         "yaxis": "y"
        },
        {
         "customdata": [
          [
           "hCoV-19/India/NCDC-02329/2020|EPI_ISL_435076|2020-03-29"
          ],
          [
           "hCoV-19/India/THSTI-BAL_39/2020|EPI_ISL_454858|2020-04-07"
          ],
          [
           "hCoV-19/India/THSTI-BAL_41/2020|EPI_ISL_454859|2020-04-07"
          ],
          [
           "hCoV-19/India/THSTI-BAL_42/2020|EPI_ISL_454860|2020-04-07"
          ],
          [
           "hCoV-19/India/THSTI-BAL_47/2020|EPI_ISL_454861|2020-04-07"
          ],
          [
           "hCoV-19/India/THSTI-BAL_231/2020|EPI_ISL_454862|2020-04-11"
          ],
          [
           "hCoV-19/India/THSTI-BAL_360/2020|EPI_ISL_454863|2020-04-13"
          ],
          [
           "hCoV-19/India/THSTI-BAL_912/2020|EPI_ISL_454864|2020-04-16"
          ],
          [
           "hCoV-19/India/THSTI-BAL_913/2020|EPI_ISL_454865|2020-04-16"
          ],
          [
           "hCoV-19/India/THSTI-BAL_914/2020|EPI_ISL_454866|2020-04-16"
          ],
          [
           "hCoV-19/India/THSTI-BAL_918/2020|EPI_ISL_454867|2020-04-16"
          ]
         ],
         "hovertemplate": "color=Haryana<br>x=%{x}<br>y=%{y}<br>ID=%{customdata[0]}<extra></extra>",
         "legendgroup": "Haryana",
         "marker": {
          "color": "pink",
          "symbol": "circle"
         },
         "mode": "markers",
         "name": "Haryana",
         "orientation": "v",
         "showlegend": true,
         "type": "scatter",
         "x": [
          3.7201599118926922,
          -1.5325437289441262,
          7.40970091475739,
          11.954507591509426,
          3.7785105680701028,
          -3.114418739320636,
          20.107095215971736,
          16.832897424487033,
          3.0182581476545067,
          -3.0518430509601333,
          -3.110228372052853
         ],
         "xaxis": "x",
         "y": [
          -0.936077544767827,
          -0.4268279402059189,
          -0.7938058734118735,
          -0.5262834211698003,
          -0.5081954881720948,
          -0.4032416975717463,
          0.9528324462918506,
          -0.7310193817832024,
          -0.6602544143494632,
          -0.43773165313708334,
          -0.45993433639559445
         ],
         "yaxis": "y"
        },
        {
         "customdata": [
          [
           "hCoV-19/India/NCDC-02323/2020|EPI_ISL_435089|2020-03-29"
          ],
          [
           "hCoV-19/India/NCDC-3936/2020|EPI_ISL_436440|2020-04-09"
          ]
         ],
         "hovertemplate": "color=Andhra Pradesh<br>x=%{x}<br>y=%{y}<br>ID=%{customdata[0]}<extra></extra>",
         "legendgroup": "Andhra Pradesh",
         "marker": {
          "color": "#FFA15A",
          "symbol": "circle"
         },
         "mode": "markers",
         "name": "Andhra Pradesh",
         "orientation": "v",
         "showlegend": true,
         "type": "scatter",
         "x": [
          18.62678642725503,
          -3.5351220560353154
         ],
         "xaxis": "x",
         "y": [
          0.8152553981900353,
          -0.062341424765711265
         ],
         "yaxis": "y"
        },
        {
         "customdata": [
          [
           "hCoV-19/India/NCDC-02370/2020|EPI_ISL_435107|2020-03-29"
          ]
         ],
         "hovertemplate": "color=Kargil<br>x=%{x}<br>y=%{y}<br>ID=%{customdata[0]}<extra></extra>",
         "legendgroup": "Kargil",
         "marker": {
          "color": "#19d3f3",
          "symbol": "circle"
         },
         "mode": "markers",
         "name": "Kargil",
         "orientation": "v",
         "showlegend": true,
         "type": "scatter",
         "x": [
          3.8197712643193347
         ],
         "xaxis": "x",
         "y": [
          -1.4249431561139665
         ],
         "yaxis": "y"
        },
        {
         "customdata": [
          [
           "hCoV-19/India/NCDC-02251/2020|EPI_ISL_435112|2020-03-28"
          ],
          [
           "hCoV-19/India/NCDC-3934/2020|EPI_ISL_436439|2020-04-09"
          ],
          [
           "hCoV-19/India/NCDC-3941/2020|EPI_ISL_436441|2020-04-09"
          ],
          [
           "hCoV-19/India/NCDC-4155/2020|EPI_ISL_436449|2020-04-12"
          ],
          [
           "hCoV-19/India/NCDC-2515/2020|EPI_ISL_436417|2020-03-31"
          ],
          [
           "hCoV-19/India/NCDC-2519/2020|EPI_ISL_436419|2020-03-31"
          ]
         ],
         "hovertemplate": "color=Bihar<br>x=%{x}<br>y=%{y}<br>ID=%{customdata[0]}<extra></extra>",
         "legendgroup": "Bihar",
         "marker": {
          "color": "#FF6692",
          "symbol": "circle"
         },
         "mode": "markers",
         "name": "Bihar",
         "orientation": "v",
         "showlegend": true,
         "type": "scatter",
         "x": [
          -2.914786363806349,
          9.092576825798304,
          3.8319971835249986,
          -3.497881952171058,
          -0.10372701382122322,
          -0.9869659837919968
         ],
         "xaxis": "x",
         "y": [
          -0.054032670964647186,
          -0.6979054158809728,
          -0.13671389992166902,
          0.8844264635978267,
          0.13925911819509257,
          0.03695042176945534
         ],
         "yaxis": "y"
        },
        {
         "customdata": [
          [
           "hCoV-19/India/1-27/2020|EPI_ISL_413522|2020-01-27"
          ],
          [
           "hCoV-19/India/1-31/2020|EPI_ISL_413523|2020-01-31"
          ]
         ],
         "hovertemplate": "color=Kerala<br>x=%{x}<br>y=%{y}<br>ID=%{customdata[0]}<extra></extra>",
         "legendgroup": "Kerala",
         "marker": {
          "color": "#B6E880",
          "symbol": "circle"
         },
         "mode": "markers",
         "name": "Kerala",
         "orientation": "v",
         "showlegend": true,
         "type": "scatter",
         "x": [
          -3.7645142166648338,
          -3.721695480628626
         ],
         "xaxis": "x",
         "y": [
          -1.9644647175467649,
          -2.217608109583901
         ],
         "yaxis": "y"
        },
        {
         "customdata": [
          [
           "hCoV-19/India/NCDC-01538/2020|EPI_ISL_435062|2020-03-16"
          ]
         ],
         "hovertemplate": "color=Punjab<br>x=%{x}<br>y=%{y}<br>ID=%{customdata[0]}<extra></extra>",
         "legendgroup": "Punjab",
         "marker": {
          "color": "#FF97FF",
          "symbol": "circle"
         },
         "mode": "markers",
         "name": "Punjab",
         "orientation": "v",
         "showlegend": true,
         "type": "scatter",
         "x": [
          -3.016849415880965
         ],
         "xaxis": "x",
         "y": [
          -3.601904072595545
         ],
         "yaxis": "y"
        },
        {
         "customdata": [
          [
           "hCoV-19/India/NCDC-01441/2020|EPI_ISL_435101|2020-03-15"
          ],
          [
           "hCoV-19/India/NCDC-01444/2020|EPI_ISL_435102|2020-03-15"
          ],
          [
           "hCoV-19/India/NCDC-01604/2020|EPI_ISL_435103|2020-03-17"
          ],
          [
           "hCoV-19/India/NCDC-01614/2020|EPI_ISL_435104|2020-03-17"
          ],
          [
           "hCoV-19/India/NCDC-01616/2020|EPI_ISL_435105|2020-03-17"
          ],
          [
           "hCoV-19/India/NCDC-01760/2020|EPI_ISL_435106|2020-03-18"
          ]
         ],
         "hovertemplate": "color=Ladakh<br>x=%{x}<br>y=%{y}<br>ID=%{customdata[0]}<extra></extra>",
         "legendgroup": "Ladakh",
         "marker": {
          "color": "#FECB52",
          "symbol": "circle"
         },
         "mode": "markers",
         "name": "Ladakh",
         "orientation": "v",
         "showlegend": true,
         "type": "scatter",
         "x": [
          -3.5948441427725304,
          -2.259562948011077,
          -3.252096497732134,
          -2.861904008434309,
          -3.590305557442792,
          2.190052796107864
         ],
         "xaxis": "x",
         "y": [
          -1.7200886337941885,
          -1.762948252282606,
          -1.7353058261869188,
          -1.7450354938400003,
          -1.7569010394446236,
          -1.9202051931533004
         ],
         "yaxis": "y"
        },
        {
         "customdata": [
          [
           "hCoV-19/India/NCDC-2525/2020|EPI_ISL_436421|2020-03-31"
          ],
          [
           "hCoV-19/India/NCDC-2535/2020|EPI_ISL_436422|2020-03-31"
          ]
         ],
         "hovertemplate": "color=Assam<br>x=%{x}<br>y=%{y}<br>ID=%{customdata[0]}<extra></extra>",
         "legendgroup": "Assam",
         "marker": {
          "color": "#636efa",
          "symbol": "circle"
         },
         "mode": "markers",
         "name": "Assam",
         "orientation": "v",
         "showlegend": true,
         "type": "scatter",
         "x": [
          -2.740152222308385,
          -2.891552035866547
         ],
         "xaxis": "x",
         "y": [
          -0.39842637074223347,
          1.0084332372217437
         ],
         "yaxis": "y"
        }
       ],
       "layout": {
        "legend": {
         "title": {
          "text": "color"
         },
         "tracegroupgap": 0
        },
        "template": {
         "data": {
          "bar": [
           {
            "error_x": {
             "color": "#2a3f5f"
            },
            "error_y": {
             "color": "#2a3f5f"
            },
            "marker": {
             "line": {
              "color": "#E5ECF6",
              "width": 0.5
             }
            },
            "type": "bar"
           }
          ],
          "barpolar": [
           {
            "marker": {
             "line": {
              "color": "#E5ECF6",
              "width": 0.5
             }
            },
            "type": "barpolar"
           }
          ],
          "carpet": [
           {
            "aaxis": {
             "endlinecolor": "#2a3f5f",
             "gridcolor": "white",
             "linecolor": "white",
             "minorgridcolor": "white",
             "startlinecolor": "#2a3f5f"
            },
            "baxis": {
             "endlinecolor": "#2a3f5f",
             "gridcolor": "white",
             "linecolor": "white",
             "minorgridcolor": "white",
             "startlinecolor": "#2a3f5f"
            },
            "type": "carpet"
           }
          ],
          "choropleth": [
           {
            "colorbar": {
             "outlinewidth": 0,
             "ticks": ""
            },
            "type": "choropleth"
           }
          ],
          "contour": [
           {
            "colorbar": {
             "outlinewidth": 0,
             "ticks": ""
            },
            "colorscale": [
             [
              0,
              "#0d0887"
             ],
             [
              0.1111111111111111,
              "#46039f"
             ],
             [
              0.2222222222222222,
              "#7201a8"
             ],
             [
              0.3333333333333333,
              "#9c179e"
             ],
             [
              0.4444444444444444,
              "#bd3786"
             ],
             [
              0.5555555555555556,
              "#d8576b"
             ],
             [
              0.6666666666666666,
              "#ed7953"
             ],
             [
              0.7777777777777778,
              "#fb9f3a"
             ],
             [
              0.8888888888888888,
              "#fdca26"
             ],
             [
              1,
              "#f0f921"
             ]
            ],
            "type": "contour"
           }
          ],
          "contourcarpet": [
           {
            "colorbar": {
             "outlinewidth": 0,
             "ticks": ""
            },
            "type": "contourcarpet"
           }
          ],
          "heatmap": [
           {
            "colorbar": {
             "outlinewidth": 0,
             "ticks": ""
            },
            "colorscale": [
             [
              0,
              "#0d0887"
             ],
             [
              0.1111111111111111,
              "#46039f"
             ],
             [
              0.2222222222222222,
              "#7201a8"
             ],
             [
              0.3333333333333333,
              "#9c179e"
             ],
             [
              0.4444444444444444,
              "#bd3786"
             ],
             [
              0.5555555555555556,
              "#d8576b"
             ],
             [
              0.6666666666666666,
              "#ed7953"
             ],
             [
              0.7777777777777778,
              "#fb9f3a"
             ],
             [
              0.8888888888888888,
              "#fdca26"
             ],
             [
              1,
              "#f0f921"
             ]
            ],
            "type": "heatmap"
           }
          ],
          "heatmapgl": [
           {
            "colorbar": {
             "outlinewidth": 0,
             "ticks": ""
            },
            "colorscale": [
             [
              0,
              "#0d0887"
             ],
             [
              0.1111111111111111,
              "#46039f"
             ],
             [
              0.2222222222222222,
              "#7201a8"
             ],
             [
              0.3333333333333333,
              "#9c179e"
             ],
             [
              0.4444444444444444,
              "#bd3786"
             ],
             [
              0.5555555555555556,
              "#d8576b"
             ],
             [
              0.6666666666666666,
              "#ed7953"
             ],
             [
              0.7777777777777778,
              "#fb9f3a"
             ],
             [
              0.8888888888888888,
              "#fdca26"
             ],
             [
              1,
              "#f0f921"
             ]
            ],
            "type": "heatmapgl"
           }
          ],
          "histogram": [
           {
            "marker": {
             "colorbar": {
              "outlinewidth": 0,
              "ticks": ""
             }
            },
            "type": "histogram"
           }
          ],
          "histogram2d": [
           {
            "colorbar": {
             "outlinewidth": 0,
             "ticks": ""
            },
            "colorscale": [
             [
              0,
              "#0d0887"
             ],
             [
              0.1111111111111111,
              "#46039f"
             ],
             [
              0.2222222222222222,
              "#7201a8"
             ],
             [
              0.3333333333333333,
              "#9c179e"
             ],
             [
              0.4444444444444444,
              "#bd3786"
             ],
             [
              0.5555555555555556,
              "#d8576b"
             ],
             [
              0.6666666666666666,
              "#ed7953"
             ],
             [
              0.7777777777777778,
              "#fb9f3a"
             ],
             [
              0.8888888888888888,
              "#fdca26"
             ],
             [
              1,
              "#f0f921"
             ]
            ],
            "type": "histogram2d"
           }
          ],
          "histogram2dcontour": [
           {
            "colorbar": {
             "outlinewidth": 0,
             "ticks": ""
            },
            "colorscale": [
             [
              0,
              "#0d0887"
             ],
             [
              0.1111111111111111,
              "#46039f"
             ],
             [
              0.2222222222222222,
              "#7201a8"
             ],
             [
              0.3333333333333333,
              "#9c179e"
             ],
             [
              0.4444444444444444,
              "#bd3786"
             ],
             [
              0.5555555555555556,
              "#d8576b"
             ],
             [
              0.6666666666666666,
              "#ed7953"
             ],
             [
              0.7777777777777778,
              "#fb9f3a"
             ],
             [
              0.8888888888888888,
              "#fdca26"
             ],
             [
              1,
              "#f0f921"
             ]
            ],
            "type": "histogram2dcontour"
           }
          ],
          "mesh3d": [
           {
            "colorbar": {
             "outlinewidth": 0,
             "ticks": ""
            },
            "type": "mesh3d"
           }
          ],
          "parcoords": [
           {
            "line": {
             "colorbar": {
              "outlinewidth": 0,
              "ticks": ""
             }
            },
            "type": "parcoords"
           }
          ],
          "pie": [
           {
            "automargin": true,
            "type": "pie"
           }
          ],
          "scatter": [
           {
            "marker": {
             "colorbar": {
              "outlinewidth": 0,
              "ticks": ""
             }
            },
            "type": "scatter"
           }
          ],
          "scatter3d": [
           {
            "line": {
             "colorbar": {
              "outlinewidth": 0,
              "ticks": ""
             }
            },
            "marker": {
             "colorbar": {
              "outlinewidth": 0,
              "ticks": ""
             }
            },
            "type": "scatter3d"
           }
          ],
          "scattercarpet": [
           {
            "marker": {
             "colorbar": {
              "outlinewidth": 0,
              "ticks": ""
             }
            },
            "type": "scattercarpet"
           }
          ],
          "scattergeo": [
           {
            "marker": {
             "colorbar": {
              "outlinewidth": 0,
              "ticks": ""
             }
            },
            "type": "scattergeo"
           }
          ],
          "scattergl": [
           {
            "marker": {
             "colorbar": {
              "outlinewidth": 0,
              "ticks": ""
             }
            },
            "type": "scattergl"
           }
          ],
          "scattermapbox": [
           {
            "marker": {
             "colorbar": {
              "outlinewidth": 0,
              "ticks": ""
             }
            },
            "type": "scattermapbox"
           }
          ],
          "scatterpolar": [
           {
            "marker": {
             "colorbar": {
              "outlinewidth": 0,
              "ticks": ""
             }
            },
            "type": "scatterpolar"
           }
          ],
          "scatterpolargl": [
           {
            "marker": {
             "colorbar": {
              "outlinewidth": 0,
              "ticks": ""
             }
            },
            "type": "scatterpolargl"
           }
          ],
          "scatterternary": [
           {
            "marker": {
             "colorbar": {
              "outlinewidth": 0,
              "ticks": ""
             }
            },
            "type": "scatterternary"
           }
          ],
          "surface": [
           {
            "colorbar": {
             "outlinewidth": 0,
             "ticks": ""
            },
            "colorscale": [
             [
              0,
              "#0d0887"
             ],
             [
              0.1111111111111111,
              "#46039f"
             ],
             [
              0.2222222222222222,
              "#7201a8"
             ],
             [
              0.3333333333333333,
              "#9c179e"
             ],
             [
              0.4444444444444444,
              "#bd3786"
             ],
             [
              0.5555555555555556,
              "#d8576b"
             ],
             [
              0.6666666666666666,
              "#ed7953"
             ],
             [
              0.7777777777777778,
              "#fb9f3a"
             ],
             [
              0.8888888888888888,
              "#fdca26"
             ],
             [
              1,
              "#f0f921"
             ]
            ],
            "type": "surface"
           }
          ],
          "table": [
           {
            "cells": {
             "fill": {
              "color": "#EBF0F8"
             },
             "line": {
              "color": "white"
             }
            },
            "header": {
             "fill": {
              "color": "#C8D4E3"
             },
             "line": {
              "color": "white"
             }
            },
            "type": "table"
           }
          ]
         },
         "layout": {
          "annotationdefaults": {
           "arrowcolor": "#2a3f5f",
           "arrowhead": 0,
           "arrowwidth": 1
          },
          "coloraxis": {
           "colorbar": {
            "outlinewidth": 0,
            "ticks": ""
           }
          },
          "colorscale": {
           "diverging": [
            [
             0,
             "#8e0152"
            ],
            [
             0.1,
             "#c51b7d"
            ],
            [
             0.2,
             "#de77ae"
            ],
            [
             0.3,
             "#f1b6da"
            ],
            [
             0.4,
             "#fde0ef"
            ],
            [
             0.5,
             "#f7f7f7"
            ],
            [
             0.6,
             "#e6f5d0"
            ],
            [
             0.7,
             "#b8e186"
            ],
            [
             0.8,
             "#7fbc41"
            ],
            [
             0.9,
             "#4d9221"
            ],
            [
             1,
             "#276419"
            ]
           ],
           "sequential": [
            [
             0,
             "#0d0887"
            ],
            [
             0.1111111111111111,
             "#46039f"
            ],
            [
             0.2222222222222222,
             "#7201a8"
            ],
            [
             0.3333333333333333,
             "#9c179e"
            ],
            [
             0.4444444444444444,
             "#bd3786"
            ],
            [
             0.5555555555555556,
             "#d8576b"
            ],
            [
             0.6666666666666666,
             "#ed7953"
            ],
            [
             0.7777777777777778,
             "#fb9f3a"
            ],
            [
             0.8888888888888888,
             "#fdca26"
            ],
            [
             1,
             "#f0f921"
            ]
           ],
           "sequentialminus": [
            [
             0,
             "#0d0887"
            ],
            [
             0.1111111111111111,
             "#46039f"
            ],
            [
             0.2222222222222222,
             "#7201a8"
            ],
            [
             0.3333333333333333,
             "#9c179e"
            ],
            [
             0.4444444444444444,
             "#bd3786"
            ],
            [
             0.5555555555555556,
             "#d8576b"
            ],
            [
             0.6666666666666666,
             "#ed7953"
            ],
            [
             0.7777777777777778,
             "#fb9f3a"
            ],
            [
             0.8888888888888888,
             "#fdca26"
            ],
            [
             1,
             "#f0f921"
            ]
           ]
          },
          "colorway": [
           "#636efa",
           "#EF553B",
           "#00cc96",
           "#ab63fa",
           "#FFA15A",
           "#19d3f3",
           "#FF6692",
           "#B6E880",
           "#FF97FF",
           "#FECB52"
          ],
          "font": {
           "color": "#2a3f5f"
          },
          "geo": {
           "bgcolor": "white",
           "lakecolor": "white",
           "landcolor": "#E5ECF6",
           "showlakes": true,
           "showland": true,
           "subunitcolor": "white"
          },
          "hoverlabel": {
           "align": "left"
          },
          "hovermode": "closest",
          "mapbox": {
           "style": "light"
          },
          "paper_bgcolor": "white",
          "plot_bgcolor": "#E5ECF6",
          "polar": {
           "angularaxis": {
            "gridcolor": "white",
            "linecolor": "white",
            "ticks": ""
           },
           "bgcolor": "#E5ECF6",
           "radialaxis": {
            "gridcolor": "white",
            "linecolor": "white",
            "ticks": ""
           }
          },
          "scene": {
           "xaxis": {
            "backgroundcolor": "#E5ECF6",
            "gridcolor": "white",
            "gridwidth": 2,
            "linecolor": "white",
            "showbackground": true,
            "ticks": "",
            "zerolinecolor": "white"
           },
           "yaxis": {
            "backgroundcolor": "#E5ECF6",
            "gridcolor": "white",
            "gridwidth": 2,
            "linecolor": "white",
            "showbackground": true,
            "ticks": "",
            "zerolinecolor": "white"
           },
           "zaxis": {
            "backgroundcolor": "#E5ECF6",
            "gridcolor": "white",
            "gridwidth": 2,
            "linecolor": "white",
            "showbackground": true,
            "ticks": "",
            "zerolinecolor": "white"
           }
          },
          "shapedefaults": {
           "line": {
            "color": "#2a3f5f"
           }
          },
          "ternary": {
           "aaxis": {
            "gridcolor": "white",
            "linecolor": "white",
            "ticks": ""
           },
           "baxis": {
            "gridcolor": "white",
            "linecolor": "white",
            "ticks": ""
           },
           "bgcolor": "#E5ECF6",
           "caxis": {
            "gridcolor": "white",
            "linecolor": "white",
            "ticks": ""
           }
          },
          "title": {
           "x": 0.05
          },
          "xaxis": {
           "automargin": true,
           "gridcolor": "white",
           "linecolor": "white",
           "ticks": "",
           "title": {
            "standoff": 15
           },
           "zerolinecolor": "white",
           "zerolinewidth": 2
          },
          "yaxis": {
           "automargin": true,
           "gridcolor": "white",
           "linecolor": "white",
           "ticks": "",
           "title": {
            "standoff": 15
           },
           "zerolinecolor": "white",
           "zerolinewidth": 2
          }
         }
        },
        "title": {
         "text": "Principal Component Axis"
        },
        "xaxis": {
         "anchor": "y",
         "domain": [
          0,
          1
         ],
         "title": {
          "text": "x"
         }
        },
        "yaxis": {
         "anchor": "x",
         "domain": [
          0,
          1
         ],
         "title": {
          "text": "y"
         }
        }
       }
      },
      "text/html": [
       "<div>\n",
       "        \n",
       "        \n",
       "            <div id=\"77951b5b-8d06-4b74-9662-6f8109ec82b3\" class=\"plotly-graph-div\" style=\"height:525px; width:100%;\"></div>\n",
       "            <script type=\"text/javascript\">\n",
       "                require([\"plotly\"], function(Plotly) {\n",
       "                    window.PLOTLYENV=window.PLOTLYENV || {};\n",
       "                    \n",
       "                if (document.getElementById(\"77951b5b-8d06-4b74-9662-6f8109ec82b3\")) {\n",
       "                    Plotly.newPlot(\n",
       "                        '77951b5b-8d06-4b74-9662-6f8109ec82b3',\n",
       "                        [{\"customdata\": [[\"hCoV-19/India/763/2020|EPI_ISL_420543|2020-03-03\"], [\"hCoV-19/India/770/2020|EPI_ISL_420545|2020-03-03\"], [\"hCoV-19/India/772/2020|EPI_ISL_420547|2020-03-03\"], [\"hCoV-19/India/773/2020|EPI_ISL_420549|2020-03-03\"], [\"hCoV-19/India/777/2020|EPI_ISL_420551|2020-03-03\"], [\"hCoV-19/India/781/2020|EPI_ISL_420553|2020-03-03\"], [\"hCoV-19/India/c32/2020|EPI_ISL_420555|2020-03-03\"], [\"hCoV-19/India/1073/2020|EPI_ISL_421662|2020-03-10\"], [\"hCoV-19/India/1093/2020|EPI_ISL_421663|2020-03-10\"], [\"hCoV-19/India/1100/2020|EPI_ISL_421664|2020-03-10\"], [\"hCoV-19/India/1104/2020|EPI_ISL_421665|2020-03-10\"], [\"hCoV-19/India/1111/2020|EPI_ISL_421666|2020-03-10\"], [\"hCoV-19/India/1115/2020|EPI_ISL_421667|2020-03-10\"], [\"hCoV-19/India/1125/2020|EPI_ISL_421668|2020-03-10\"], [\"hCoV-19/India/1616/2020|EPI_ISL_421669|2020-03-12\"], [\"hCoV-19/India/1617/2020|EPI_ISL_421670|2020-03-12\"], [\"hCoV-19/India/1621/2020|EPI_ISL_421671|2020-03-12\"], [\"hCoV-19/India/1644/2020|EPI_ISL_421672|2020-03-12\"], [\"hCoV-19/India/NCDC-02240/2020|EPI_ISL_435098|2020-03-28\"], [\"hCoV-19/India/1063/2020|EPI_ISL_424361|2020-03-10\"], [\"hCoV-19/India/1135/2020|EPI_ISL_424362|2020-03-10\"], [\"hCoV-19/India/1652/2020|EPI_ISL_424363|2020-03-12\"], [\"hCoV-19/India/3118/2020|EPI_ISL_424364|2020-03-17\"], [\"hCoV-19/India/3239/2020|EPI_ISL_424365|2020-03-17\"], [\"hCoV-19/India/c31/2020|EPI_ISL_426179|2020-03-02\"], [\"hCoV-19/India/341/2020|EPI_ISL_414515|2020-02-29\"], [\"hCoV-19/India/Assam-JMC4/2020|EPI_ISL_450414|2020-03-30\"]], \"hovertemplate\": \"color=Stateless<br>x=%{x}<br>y=%{y}<br>ID=%{customdata[0]}<extra></extra>\", \"legendgroup\": \"Stateless\", \"marker\": {\"color\": \"grey\", \"symbol\": \"circle\"}, \"mode\": \"markers\", \"name\": \"Stateless\", \"orientation\": \"v\", \"showlegend\": true, \"type\": \"scatter\", \"x\": [-4.326235379856298, -4.2343987616551, -4.1840903757326275, -4.19455855424922, -4.186461802784461, -4.350985657141561, -4.242681125931739, -3.793254720735037, -3.674323725991346, -3.899037906411745, -4.295879310004591, -3.9761162071725624, -3.9337830312493485, -4.227998224614987, -3.830245686912164, -3.805407735122338, -3.914258586492334, -3.804807378510466, -2.5914531354293238, -3.987853474112894, -4.201390037862965, -3.545423465367793, -4.111106738811182, -4.186292008862615, -4.242681125931739, 354.1227985267018, 355.04496361714416], \"xaxis\": \"x\", \"y\": [-3.4841389657207933, -3.5099958176099006, -3.754895847145137, -3.5316797997745617, -3.550433550873708, -3.459770616469249, -3.615625007874828, -1.734814188785287, -1.8331522965369258, -1.7004797521154298, 10.614298436075858, -1.631098752283101, -1.6754791535132485, 17.28880890241873, -1.7294699219691319, -1.71282720911149, -1.5781460523688233, -1.6862800838176324, -0.0906982188382303, -1.7039809225505729, -3.553928951238814, -1.7470818930687633, -3.5745585330699607, -3.508853652512264, -3.615625007874828, 1.628517864340217, 1.4934307144299273], \"yaxis\": \"y\"}, {\"customdata\": [[\"hCoV-19/India/S3/2020|EPI_ISL_430464|2020-03-21\"], [\"hCoV-19/India/S5/2020|EPI_ISL_430465|2020-03-28\"], [\"hCoV-19/India/S6/2020|EPI_ISL_430466|2020-03-26\"], [\"hCoV-19/India/S11/2020|EPI_ISL_430467|2020-04-03\"], [\"hCoV-19/India/S2/2020|EPI_ISL_430468|2020-03-21\"], [\"hCoV-19/India/NCDC-02252/2020|EPI_ISL_435097|2020-03-28\"], [\"hCoV-19/India/S4/2020|EPI_ISL_455640|2020-03-27\"], [\"hCoV-19/India/S9/2020|EPI_ISL_455642|2020-04-02\"], [\"hCoV-19/India/S13/2020|EPI_ISL_455643|2020-03-30\"], [\"hCoV-19/India/S14/2020|EPI_ISL_455644|2020-04-02\"], [\"hCoV-19/India/S15/2020|EPI_ISL_455645|2020-04-03\"], [\"hCoV-19/India/S16/2020|EPI_ISL_455646|2020-04-03\"], [\"hCoV-19/India/S17/2020|EPI_ISL_455647|2020-04-19\"], [\"hCoV-19/India/S18/2020|EPI_ISL_455648|2020-04-20\"], [\"hCoV-19/India/S19/2020|EPI_ISL_455649|2020-04-20\"], [\"hCoV-19/India/S20/2020|EPI_ISL_455650|2020-04-20\"], [\"hCoV-19/India/S21/2020|EPI_ISL_455651|2020-04-21\"], [\"hCoV-19/India/S22/2020|EPI_ISL_455652|2020-04-21\"], [\"hCoV-19/India/S23/2020|EPI_ISL_455653|2020-04-21\"], [\"hCoV-19/India/S27/2020|EPI_ISL_455656|2020-04-30\"], [\"hCoV-19/India/S29/2020|EPI_ISL_455658|2020-04-30\"], [\"hCoV-19/India/S30/2020|EPI_ISL_455659|2020-05-01\"], [\"hCoV-19/India/S31/2020|EPI_ISL_455660|2020-05-01\"], [\"hCoV-19/India/S33/2020|EPI_ISL_455662|2020-05-02\"], [\"hCoV-19/India/S34/2020|EPI_ISL_455663|2020-05-02\"], [\"hCoV-19/India/S46/2020|EPI_ISL_455667|2020-05-03\"], [\"hCoV-19/India/S48/2020|EPI_ISL_455668|2020-05-05\"], [\"hCoV-19/India/S49/2020|EPI_ISL_455669|2020-05-03\"], [\"hCoV-19/India/S50/2020|EPI_ISL_455670|2020-05-03\"], [\"hCoV-19/India/S51/2020|EPI_ISL_455671|2020-05-03\"], [\"hCoV-19/India/S52/2020|EPI_ISL_455672|2020-05-03\"], [\"hCoV-19/India/S53/2020|EPI_ISL_455673|2020-05-02\"], [\"hCoV-19/India/S55/2020|EPI_ISL_455674|2020-05-03\"], [\"hCoV-19/India/S56/2020|EPI_ISL_455675|2020-05-03\"], [\"hCoV-19/India/S58/2020|EPI_ISL_455676|2020-05-03\"], [\"hCoV-19/India/S59/2020|EPI_ISL_455677|2020-05-04\"], [\"hCoV-19/India/S61/2020|EPI_ISL_455678|2020-04-30\"], [\"hCoV-19/India/S62/2020|EPI_ISL_455679|2020-05-04\"], [\"hCoV-19/India/NCDC-02250/2020|EPI_ISL_435074|2020-03-28\"], [\"hCoV-19/India/NCDC-02248/2020|EPI_ISL_435081|2020-03-28\"], [\"hCoV-19/India/S1/2020|EPI_ISL_437536|2020-03-19\"], [\"hCoV-19/India/S8/2020|EPI_ISL_437537|2020-03-30\"], [\"hCoV-19/India/S10/2020|EPI_ISL_437538|2020-04-05\"], [\"hCoV-19/India/S12/2020|EPI_ISL_437539|2020-04-06\"], [\"hCoV-19/India/NCDC-2502/2020|EPI_ISL_436414|2020-03-31\"]], \"hovertemplate\": \"color=West Bengal<br>x=%{x}<br>y=%{y}<br>ID=%{customdata[0]}<extra></extra>\", \"legendgroup\": \"West Bengal\", \"marker\": {\"color\": \"aqua\", \"symbol\": \"circle\"}, \"mode\": \"markers\", \"name\": \"West Bengal\", \"orientation\": \"v\", \"showlegend\": true, \"type\": \"scatter\", \"x\": [-4.236093980403202, -4.174441589903425, -4.202721845772121, -4.163056527595672, -4.223366996727728, -3.652302948900996, -2.193253640146009, 15.768200567747579, -4.237420675302653, -4.086730578340239, -3.95966184674676, -4.353296557212815, -4.194465581754783, -4.175676959611678, -3.7822156303514305, -4.344226748472937, -4.163903771492356, -4.158034705659097, -4.262438821804339, -3.9051066388053237, -4.163724795948447, -4.290288187426952, -4.226329624039484, -3.9908491246334936, -4.044124427905337, -4.239185683086266, -4.215756088505205, -4.0053482833678595, -4.2043509143461115, -4.078301462950414, -4.106994959759729, -3.917315520873776, -4.171184641259015, -4.22727235988577, -4.171184641259015, 9.613574787199607, -4.189119055425921, -3.5131891667637287, -2.489855507475688, -3.0306451071300367, 61.727060046484574, 0.05570994797405243, 16.093283522718185, -3.1987877003385092, -3.1315624757462714], \"xaxis\": \"x\", \"y\": [-3.598037907140466, -3.634396469815781, -3.5323910191396153, -3.153664011640036, -3.6240138079639204, -0.09867865113284018, 13.458652992451464, 0.657677007523856, -3.4769061437325735, -3.2702443011957265, -2.2614471959194433, 2.3043961217755173, -3.5141950023696205, -3.4794627699366463, -2.4184519120675536, -2.4432245156064463, -3.547874604769479, -3.515742527309714, -3.5465034691912973, 1.796482289657576, -0.08646161639406702, -3.4356111344691675, -3.111472924201049, -3.5718086559885744, -3.690839509545456, -3.5079940062084694, -3.5652435960624933, -3.509361083119701, -3.4433229238363325, -2.281089971966102, -3.5645797331290514, -3.6091137535414073, -3.556802966735567, -3.579941608485658, -3.556802966735567, -3.424933715779624, -3.1689382352379996, -3.5610568444639004, -0.5524415433470717, -0.45370305536000244, 32.89117523557718, 20.97854490781396, 23.951490069973364, 23.382301838921563, -0.2552091430143219], \"yaxis\": \"y\"}, {\"customdata\": [[\"hCoV-19/India/GMC-RK100/2020|EPI_ISL_431101|2020-03-01\"], [\"hCoV-19/India/GMC-KN318/2020|EPI_ISL_431102|2020-03-11\"], [\"hCoV-19/India/GMC-KN443/2020|EPI_ISL_431103|2020-03-16\"], [\"hCoV-19/India/GMC-TC469/2020|EPI_ISL_431117|2020-03-20\"], [\"hCoV-19/India/GMC-RR1191/2020|EPI_ISL_438138|2020-03-25\"], [\"hCoV-19/India/GMC-RK1090/2020|EPI_ISL_438139|2020-03-25\"], [\"hCoV-19/India/CCMB_J300/2020|EPI_ISL_458080|2020-04-03\"], [\"hCoV-19/India/CCMB_J207/2020|EPI_ISL_447570|2020-04-01\"], [\"hCoV-19/India/CCMB_J224/2020|EPI_ISL_447571|2020-04-01\"], [\"hCoV-19/India/CCMB_J230/2020|EPI_ISL_447572|2020-04-01\"], [\"hCoV-19/India/CCMB_J118/2020|EPI_ISL_447573|2020-04-01\"], [\"hCoV-19/India/CCMB_J208/2020|EPI_ISL_447574|2020-04-01\"], [\"hCoV-19/India/CCMB_J458/2020|EPI_ISL_447575|2020-04-02\"], [\"hCoV-19/India/CCMB_J232/2020|EPI_ISL_447576|2020-04-02\"], [\"hCoV-19/India/CCMB_J321/2020|EPI_ISL_447577|2020-04-02\"], [\"hCoV-19/India/CCMB_J327/2020|EPI_ISL_447578|2020-04-02\"], [\"hCoV-19/India/CCMB_K128/2020|EPI_ISL_447579|2020-04-10\"], [\"hCoV-19/India/CCMB_K496/2020|EPI_ISL_447580|2020-04-13\"], [\"hCoV-19/India/CCMB_K600B/2020|EPI_ISL_447581|2020-04-14\"], [\"hCoV-19/India/CCMB_K601/2020|EPI_ISL_447582|2020-04-14\"], [\"hCoV-19/India/CCMB_L007/2020|EPI_ISL_447583|2020-04-16\"], [\"hCoV-19/India/CCMB_J125/2020|EPI_ISL_450326|2020-04-01\"], [\"hCoV-19/India/CCMB_J199/2020|EPI_ISL_450327|2020-04-01\"], [\"hCoV-19/India/CCMB_J283/2020|EPI_ISL_450328|2020-04-01\"], [\"hCoV-19/India/CCMB_J288/2020|EPI_ISL_450329|2020-04-01\"], [\"hCoV-19/India/CCMB_J375/2020|EPI_ISL_450330|2020-04-02\"], [\"hCoV-19/India/CCMB_J220/2020|EPI_ISL_450331|2020-04-01\"], [\"hCoV-19/India/CCMB_J222/2020|EPI_ISL_450332|2020-04-01\"], [\"hCoV-19/India/CCMB_L1017/2020|EPI_ISL_458045|2020-05-11\"], [\"hCoV-19/India/CCMB_L1021/2020|EPI_ISL_458046|2020-05-11\"], [\"hCoV-19/India/CCMB_L1022/2020|EPI_ISL_458047|2020-05-11\"], [\"hCoV-19/India/CCMB_L1024/2020|EPI_ISL_458048|2020-05-11\"], [\"hCoV-19/India/CCMB_L1026/2020|EPI_ISL_458050|2020-05-11\"], [\"hCoV-19/India/CCMB_L1062/2020|EPI_ISL_458051|2020-05-12\"], [\"hCoV-19/India/CCMB_L1063/2020|EPI_ISL_458052|2020-05-12\"], [\"hCoV-19/India/CCMB_L1064/2020|EPI_ISL_458053|2020-05-12\"], [\"hCoV-19/India/CCMB_L1073/2020|EPI_ISL_458054|2020-05-13\"], [\"hCoV-19/India/CCMB_L1082/2020|EPI_ISL_458055|2020-05-13\"], [\"hCoV-19/India/CCMB_L1085/2020|EPI_ISL_458056|2020-05-13\"], [\"hCoV-19/India/CCMB_L1089/2020|EPI_ISL_458057|2020-05-13\"], [\"hCoV-19/India/CCMB_L1090/2020|EPI_ISL_458058|2020-05-13\"], [\"hCoV-19/India/CCMB_L1100/2020|EPI_ISL_458059|2020-05-13\"], [\"hCoV-19/India/CCMB_L1103/2020|EPI_ISL_458060|2020-05-13\"], [\"hCoV-19/India/CCMB_L1108/2020|EPI_ISL_458061|2020-05-13\"], [\"hCoV-19/India/CCMB_L299/2020|EPI_ISL_458062|2020-04-20\"], [\"hCoV-19/India/CCMB_L301/2020|EPI_ISL_458063|2020-04-20\"], [\"hCoV-19/India/CCMB_L988/2020|EPI_ISL_458064|2020-05-11\"], [\"hCoV-19/India/CCMB_L989/2020|EPI_ISL_458065|2020-05-11\"], [\"hCoV-19/India/CCMB_O1/2020|EPI_ISL_458066|2020-04-13\"], [\"hCoV-19/India/CCMB_O2/2020|EPI_ISL_458067|2020-04-15\"], [\"hCoV-19/India/CCMB_O3/2020|EPI_ISL_458068|2020-04-14\"], [\"hCoV-19/India/CCMB_O4/2020|EPI_ISL_458069|2020-04-03\"], [\"hCoV-19/India/CCMB_K272/2020|EPI_ISL_458070|2020-04-12\"], [\"hCoV-19/India/CCMB_J130/2020|EPI_ISL_458071|2020-04-01\"], [\"hCoV-19/India/CCMB_J812_P1/2020|EPI_ISL_458072|2020-04-08\"], [\"hCoV-19/India/CCMB_L276_P1/2020|EPI_ISL_458073|2020-04-20\"], [\"hCoV-19/India/CCMB_L301_P1/2020|EPI_ISL_458074|2020-04-20\"], [\"hCoV-19/India/CCMB_O2_P1/2020|EPI_ISL_458075|2020-04-15\"], [\"hCoV-19/India/CCMB_L302_P1/2020|EPI_ISL_458076|2020-04-20\"], [\"hCoV-19/India/CCMB_L040_P1/2020|EPI_ISL_458077|2020-04-18\"], [\"hCoV-19/India/CCMB_J714/2020|EPI_ISL_458298|2020-04-06\"], [\"hCoV-19/India/GMC-KP1125/2020|EPI_ISL_437626|2020-03-24\"], [\"hCoV-19/India/CCMB_J021/2020|EPI_ISL_447556|2020-03-30\"], [\"hCoV-19/India/CCMB_J009/2020|EPI_ISL_447557|2020-03-30\"], [\"hCoV-19/India/CCMB_J014/2020|EPI_ISL_447558|2020-03-30\"], [\"hCoV-19/India/CCMB_J048/2020|EPI_ISL_447559|2020-03-31\"], [\"hCoV-19/India/CCMB_J043/2020|EPI_ISL_447560|2020-03-31\"], [\"hCoV-19/India/CCMB_J067/2020|EPI_ISL_447561|2020-03-31\"], [\"hCoV-19/India/CCMB_J068/2020|EPI_ISL_447562|2020-03-31\"], [\"hCoV-19/India/CCMB_J057/2020|EPI_ISL_447563|2020-03-31\"], [\"hCoV-19/India/CCMB_J212/2020|EPI_ISL_447564|2020-04-01\"], [\"hCoV-19/India/CCMB_J278/2020|EPI_ISL_447565|2020-04-01\"], [\"hCoV-19/India/CCMB_J131/2020|EPI_ISL_447566|2020-04-01\"], [\"hCoV-19/India/CCMB_J304/2020|EPI_ISL_447567|2020-04-01\"], [\"hCoV-19/India/CCMB_J166/2020|EPI_ISL_447568|2020-04-01\"], [\"hCoV-19/India/CCMB_J206/2020|EPI_ISL_447569|2020-04-01\"], [\"hCoV-19/India/CCMB_J045/2020|EPI_ISL_447847|2020-03-31\"], [\"hCoV-19/India/CCMB_J165/2020|EPI_ISL_447848|2020-04-01\"], [\"hCoV-19/India/CCMB_J107/2020|EPI_ISL_447849|2020-04-01\"], [\"hCoV-19/India/CCMB_J132/2020|EPI_ISL_447850|2020-04-01\"], [\"hCoV-19/India/CCMB_J223/2020|EPI_ISL_447851|2020-04-01\"], [\"hCoV-19/India/CCMB_J235/2020|EPI_ISL_447852|2020-04-01\"], [\"hCoV-19/India/CCMB_J247/2020|EPI_ISL_447853|2020-04-01\"], [\"hCoV-19/India/CCMB_J350/2020|EPI_ISL_447854|2020-04-02\"], [\"hCoV-19/India/CCMB_J318/2020|EPI_ISL_447855|2020-04-02\"], [\"hCoV-19/India/CCMB_J374/2020|EPI_ISL_447856|2020-04-02\"], [\"hCoV-19/India/CCMB_J390/2020|EPI_ISL_447857|2020-04-02\"], [\"hCoV-19/India/CCMB_J812/2020|EPI_ISL_447858|2020-04-06\"], [\"hCoV-19/India/CCMB_K771/2020|EPI_ISL_447859|2020-04-15\"], [\"hCoV-19/India/CCMB_K849/2020|EPI_ISL_447860|2020-04-16\"], [\"hCoV-19/India/CCMB_L149/2020|EPI_ISL_447861|2020-04-16\"], [\"hCoV-19/India/CCMB_J047/2020|EPI_ISL_447862|2020-03-31\"], [\"hCoV-19/India/CCMB_K599/2020|EPI_ISL_447863|2020-04-14\"], [\"hCoV-19/India/CCMB_L044/2020|EPI_ISL_447864|2020-04-16\"], [\"hCoV-19/India/CCMB_K499/2020|EPI_ISL_447865|2020-04-14\"], [\"hCoV-19/India/CCMB_K500/2020|EPI_ISL_447866|2020-04-14\"], [\"hCoV-19/India/CCMB_L1025/2020|EPI_ISL_458049|2020-05-11\"]], \"hovertemplate\": \"color=Telangana<br>x=%{x}<br>y=%{y}<br>ID=%{customdata[0]}<extra></extra>\", \"legendgroup\": \"Telangana\", \"marker\": {\"color\": \"red\", \"symbol\": \"circle\"}, \"mode\": \"markers\", \"name\": \"Telangana\", \"orientation\": \"v\", \"showlegend\": true, \"type\": \"scatter\", \"x\": [-4.23644895231447, -4.6964494610054235, -4.132454372416529, -4.517038684044688, -4.2408910285686625, -4.445644556593928, -3.6281164506880583, -4.0387133757716684, -4.115124603732096, -4.007434593971457, -3.9042092155537267, -3.865387239599341, -4.434504772675697, -3.8367164008548778, -4.086497124369136, -4.033257925127124, -4.096908535072293, -3.8222418273484164, -3.96839276167434, -4.05443765491941, -4.128346308728285, -3.5305687695374486, -4.034499534152467, -3.5444197263567894, -3.438614543438107, -3.5761957123846866, -3.8205034891712537, -3.9346373850019343, -3.8628054484908048, -3.847040460756205, -3.8809485079776165, -3.847040460756205, -3.8718669230806673, -3.6535226675572456, -3.706499308911744, -3.706667473310831, -3.8205901199799883, -3.7280521896023253, -3.942032377214702, -3.947240178368936, -3.8103419318040657, -3.7117391707161693, -3.8130303822705547, -3.8260372279960104, -3.709172655959045, -3.6804818069371477, -3.7949053962559494, -3.7949053962559494, -3.650837553894632, -3.743870856892383, -3.6258371302633448, -3.7259808551394, -3.54519759890328, -3.7069161039826377, -3.6476921179374737, -3.7182183188887583, -3.672719270686506, -3.851539571998026, -3.8030086846947833, -3.7191099570421158, -3.5743753252019173, -4.458633941574883, -3.9294520942270426, -3.967883409634753, -4.007783835702466, -3.9357013552880016, -4.052263722899267, -4.085643287573589, -4.022118859835547, -4.0148668259861084, -4.332102700735315, -3.8704972042560852, -4.207530105433541, -3.980564195687085, -4.131842553364302, -4.039716504737423, -3.604298072601361, -3.773979049346718, -3.646156248356124, -3.6100928760133244, -3.746114548048865, -3.5862037322103255, -3.6954293560461657, -3.649867562590118, -3.666827780421066, -3.612505284786281, -3.6239361242020123, -3.614944583418921, -4.047156318600272, -3.3859479864010216, -3.445967210951815, -3.936284331389091, -3.649801417025056, -3.6035681423941486, -3.4022804556362756, -3.550384682741525, -3.8797017079121137], \"xaxis\": \"x\", \"y\": [25.131516026401535, 21.923724435718672, 27.100657062115513, 21.667618115139607, 27.029799152030115, 28.064722012808403, -2.155115467949749, 27.04306150365141, 25.38282861653546, 25.36662784389661, 25.40984498535288, 25.410628668500344, 25.405426152900862, 25.38034069282032, 26.235906004328978, 25.3195163092487, 25.428879443780797, 25.43041887944441, 26.241360062532983, 25.341806866892775, 25.131616968185256, 1.4542675655646613, -0.2316361313734252, -0.2896760326952737, -0.43086503062993325, -0.3325299636610969, -0.37422305003581435, -0.2953494974657782, -3.6804294467825023, -3.660650714181841, -3.66211398914669, -3.660650714181841, -3.695252000506843, -3.7134841580567346, -3.640162479173927, -3.6459682501096187, -3.7957108164667224, -3.8370534127086486, -3.913684727557905, -3.8714200649874524, -3.8230629832734446, -3.818360929420589, -3.8301418549751607, -3.842727024339443, 1.724342849842536, 1.7367769429865945, -3.616756765751952, -3.616756765751952, -0.15836142491116995, -0.31712314877907943, -0.16827251687926198, 1.7398503519374926, -0.08215797588507263, -0.5188619104296244, -0.1086599510291756, 1.7605142985752924, 1.7574408896243938, -0.3155868344819636, 1.7317704499592852, -0.3358570789368417, 0.03635625419361449, 23.284314300905343, -0.13444753544699817, 25.178493156426715, 24.92611016826102, -0.1120855475881858, 25.344533093017056, 25.53905040437039, 25.352971592252846, 25.352005127025453, 25.31166080535135, 24.816093300354616, 25.234607452818604, 25.188428699705163, 24.85215004000967, 26.256252544620555, -0.23907292325040475, -0.32945781906714017, -0.2377967506950805, -0.23476384686446838, -1.0257022323297058, -0.2586931384229016, -1.0293108606398882, -0.2645843106486502, 0.8343852442015528, -0.2252680791760876, 0.7449294217870671, -0.21625281397600982, 3.536359494181125, -0.06154007014045544, -0.20975056907407125, 1.5634419850550505, -0.19406323190807623, -0.22740161827451, 0.7668667145921508, -0.39850658130602296, -3.2803511069097504], \"yaxis\": \"y\"}, {\"customdata\": [[\"hCoV-19/India/NCDC-02326/2020|EPI_ISL_435090|2020-03-29\"]], \"hovertemplate\": \"color=Jammu and Kashmir<br>x=%{x}<br>y=%{y}<br>ID=%{customdata[0]}<extra></extra>\", \"legendgroup\": \"Jammu and Kashmir\", \"marker\": {\"color\": \"#EF553B\", \"symbol\": \"circle\"}, \"mode\": \"markers\", \"name\": \"Jammu and Kashmir\", \"orientation\": \"v\", \"showlegend\": true, \"type\": \"scatter\", \"x\": [-2.9959666425843574], \"xaxis\": \"x\", \"y\": [1.043515183538011], \"yaxis\": \"y\"}, {\"customdata\": [[\"hCoV-19/India/NCDC-02245/2020|EPI_ISL_435091|2020-03-28\"], [\"hCoV-19/India/NCDC-02244/2020|EPI_ISL_435092|2020-03-28\"], [\"hCoV-19/India/NCDC-02312/2020|EPI_ISL_435093|2020-03-29\"], [\"hCoV-19/India/NCDC-02327/2020|EPI_ISL_435094|2020-03-29\"], [\"hCoV-19/India/NCDC-02328/2020|EPI_ISL_435095|2020-03-29\"], [\"hCoV-19/India/NCDC-02332/2020|EPI_ISL_435096|2020-03-29\"], [\"hCoV-19/India/NCDC-02331/2020|EPI_ISL_435075|2020-03-29\"], [\"hCoV-19/India/NCDC-02311/2020|EPI_ISL_435078|2020-03-29\"], [\"hCoV-19/India/NCDC-02318/2020|EPI_ISL_435079|2020-03-29\"], [\"hCoV-19/India/NCDC-02334/2020|EPI_ISL_435080|2020-03-29\"], [\"hCoV-19/India/NCDC-02242/2020|EPI_ISL_435083|2020-03-28\"], [\"hCoV-19/India/NCDC-02309/2020|EPI_ISL_435084|2020-03-29\"], [\"hCoV-19/India/NCDC-02333/2020|EPI_ISL_435087|2020-03-29\"], [\"hCoV-19/India/CCMB_C1-12/2020|EPI_ISL_447584|2020-04-16\"], [\"hCoV-19/India/CCMB_C2-13/2020|EPI_ISL_447585|2020-04-16\"], [\"hCoV-19/India/CCMB_C3-14/2020|EPI_ISL_447586|2020-04-16\"], [\"hCoV-19/India/CCMB_C4-15/2020|EPI_ISL_447587|2020-04-20\"], [\"hCoV-19/India/NCDC-2514/2020|EPI_ISL_436416|2020-03-31\"], [\"hCoV-19/India/NCDC-2517/2020|EPI_ISL_436418|2020-03-31\"], [\"hCoV-19/India/CCMB_C12/2020|EPI_ISL_458030|2020-04-26\"], [\"hCoV-19/India/CCMB_C6/2020|EPI_ISL_458031|2020-04-26\"], [\"hCoV-19/India/CCMB_C8/2020|EPI_ISL_458032|2020-04-27\"], [\"hCoV-19/India/CCMB_C5/2020|EPI_ISL_458033|2020-04-29\"], [\"hCoV-19/India/CCMB_C11/2020|EPI_ISL_458034|2020-04-29\"], [\"hCoV-19/India/CCMB_C13/2020|EPI_ISL_458035|2020-04-29\"], [\"hCoV-19/India/CCMB_C10/2020|EPI_ISL_458036|2020-04-29\"], [\"hCoV-19/India/CCMB_C7/2020|EPI_ISL_458037|2020-04-29\"], [\"hCoV-19/India/CCMB_C9/2020|EPI_ISL_458038|2020-04-29\"], [\"hCoV-19/India/CCMB_C16/2020|EPI_ISL_458039|2020-05-06\"], [\"hCoV-19/India/CCMB_C19/2020|EPI_ISL_458040|2020-05-06\"], [\"hCoV-19/India/CCMB_C15/2020|EPI_ISL_458041|2020-05-06\"], [\"hCoV-19/India/CCMB_C18/2020|EPI_ISL_458042|2020-05-06\"], [\"hCoV-19/India/CCMB_C14/2020|EPI_ISL_458043|2020-05-06\"], [\"hCoV-19/India/CCMB_C17/2020|EPI_ISL_458044|2020-05-06\"]], \"hovertemplate\": \"color=Tamil Nadu<br>x=%{x}<br>y=%{y}<br>ID=%{customdata[0]}<extra></extra>\", \"legendgroup\": \"Tamil Nadu\", \"marker\": {\"color\": \"green\", \"symbol\": \"circle\"}, \"mode\": \"markers\", \"name\": \"Tamil Nadu\", \"orientation\": \"v\", \"showlegend\": true, \"type\": \"scatter\", \"x\": [-3.659645208895017, -3.092678387824373, -3.2813091070877127, -3.749432792568562, -3.587623982560014, -3.9141235132728367, 4.717052053707066, -1.7496910508292949, 7.61559501147831, 2.2083557018118194, -1.6347345178892032, -1.7601522194456993, 1.0799228043239635, -4.0637347312605065, -4.085079153601595, -3.982328219516401, -4.228826871188094, 21.0591350460666, -1.5585165944319452, -3.8759922347215627, -3.8618005486847307, -3.8561384422927083, -3.861800548684731, -3.861800548684731, -3.524666693470994, -3.8603449381074038, -3.7566789963876066, -3.7406110500892056, -3.777722274638523, -3.881368667062607, -3.7867536762157576, -3.704707230710694, -3.78746295491443, -3.7566789963876066], \"xaxis\": \"x\", \"y\": [1.012676011240655, -0.12066829522678253, -0.09315622601196842, -0.3566035774126793, -0.06649571761531324, -0.06417404714329737, -0.07448495070902911, -1.014942338670143, -1.9059899729773973, -0.5145237587136802, -0.37145478435505275, -0.5051042669087865, 0.3382405255192987, 25.421793329361872, 25.400792742416375, 25.310884638716047, 21.758799201089804, 21.6481809852114, -0.10111730227333306, -3.7244488744839024, -3.7297102866658456, -3.719107123611735, -3.729710286665847, -3.729710286665847, -0.193117199150956, -3.740291776607981, -3.724465443737595, -3.7281304365868366, -3.7360351692978413, -3.721431463856353, -3.7169969287167994, -3.7291527971681497, -3.7232147490075236, -3.724465443737595], \"yaxis\": \"y\"}, {\"customdata\": [[\"hCoV-19/India/NCDC-02320/2020|EPI_ISL_435099|2020-03-29\"], [\"hCoV-19/India/NCDC-02322/2020|EPI_ISL_435082|2020-03-29\"], [\"hCoV-19/India/NCDC-01257/2020|EPI_ISL_435060|2020-03-12\"], [\"hCoV-19/India/NCDC-02321/2020|EPI_ISL_435100|2020-03-29\"], [\"hCoV-19/India/NCDC-2443/2020|EPI_ISL_436413|2020-03-30\"]], \"hovertemplate\": \"color=Uttar Pradesh<br>x=%{x}<br>y=%{y}<br>ID=%{customdata[0]}<extra></extra>\", \"legendgroup\": \"Uttar Pradesh\", \"marker\": {\"color\": \"#00cc96\", \"symbol\": \"circle\"}, \"mode\": \"markers\", \"name\": \"Uttar Pradesh\", \"orientation\": \"v\", \"showlegend\": true, \"type\": \"scatter\", \"x\": [-3.4511025052460753, 0.1456798359689469, -2.4665231275726995, -3.5537461530248797, 0.014880634379349984], \"xaxis\": \"x\", \"y\": [0.004454750112524247, -0.16224388660618727, -3.7513469244451336, -0.09771001961179661, -3.57185465037933], \"yaxis\": \"y\"}, {\"customdata\": [[\"hCoV-19/India/GBRC25/2020|EPI_ISL_444456|2020-04-26\"], [\"hCoV-19/India/GBRC104/2020|EPI_ISL_451149|2020-05-07\"], [\"hCoV-19/India/GBRC105/2020|EPI_ISL_451150|2020-05-06\"], [\"hCoV-19/India/GBRC106/2020|EPI_ISL_451151|2020-05-05\"], [\"hCoV-19/India/GBRC107/2020|EPI_ISL_451152|2020-05-09\"], [\"hCoV-19/India/GBRC108/2020|EPI_ISL_451153|2020-05-10\"], [\"hCoV-19/India/GBRC109/2020|EPI_ISL_451154|2020-05-03\"], [\"hCoV-19/India/GBRC110/2020|EPI_ISL_451155|2020-05-03\"], [\"hCoV-19/India/GBRC111/2020|EPI_ISL_451156|2020-05-01\"], [\"hCoV-19/India/GBRC112/2020|EPI_ISL_451157|2020-05-02\"], [\"hCoV-19/India/GBRC113/2020|EPI_ISL_451158|2020-05-03\"], [\"hCoV-19/India/GBRC114/2020|EPI_ISL_451159|2020-05-03\"], [\"hCoV-19/India/GBRC115/2020|EPI_ISL_451160|2020-05-03\"], [\"hCoV-19/India/GBRC116/2020|EPI_ISL_451161|2020-05-03\"], [\"hCoV-19/India/GBRC117/2020|EPI_ISL_451162|2020-05-03\"], [\"hCoV-19/India/GBRC118/2020|EPI_ISL_451163|2020-05-02\"], [\"hCoV-19/India/GBRC134/2020|EPI_ISL_458089|2020-05-24\"], [\"hCoV-19/India/GBRC135a/2020|EPI_ISL_458090|2020-05-24\"], [\"hCoV-19/India/GBRC135b/2020|EPI_ISL_458091|2020-05-24\"], [\"hCoV-19/India/GBRC136a/2020|EPI_ISL_458092|2020-05-24\"], [\"hCoV-19/India/GBRC136b/2020|EPI_ISL_458093|2020-05-24\"], [\"hCoV-19/India/GBRC137a/2020|EPI_ISL_458094|2020-05-24\"], [\"hCoV-19/India/GBRC137b/2020|EPI_ISL_458095|2020-05-24\"], [\"hCoV-19/India/GBRC138/2020|EPI_ISL_458096|2020-05-24\"], [\"hCoV-19/India/GBRC139a/2020|EPI_ISL_458097|2020-05-24\"], [\"hCoV-19/India/GBRC139b/2020|EPI_ISL_458098|2020-05-24\"], [\"hCoV-19/India/GBRC140/2020|EPI_ISL_458099|2020-05-24\"], [\"hCoV-19/India/GBRC157b/2020|EPI_ISL_461487|2020-05-27\"], [\"hCoV-19/India/GBRC158/2020|EPI_ISL_461488|2020-05-27\"], [\"hCoV-19/India/GBRC159a/2020|EPI_ISL_461489|2020-05-27\"], [\"hCoV-19/India/GBRC159b/2020|EPI_ISL_461490|2020-05-27\"], [\"hCoV-19/India/GBRC160a/2020|EPI_ISL_461491|2020-05-27\"], [\"hCoV-19/India/GBRC160b/2020|EPI_ISL_461492|2020-05-27\"], [\"hCoV-19/India/GBRC161a/2020|EPI_ISL_461493|2020-05-27\"], [\"hCoV-19/India/GBRC161b/2020|EPI_ISL_461494|2020-05-27\"], [\"hCoV-19/India/GBRC162a/2020|EPI_ISL_461495|2020-05-27\"], [\"hCoV-19/India/GBRC162b/2020|EPI_ISL_461496|2020-05-27\"], [\"hCoV-19/India/GBRC163a/2020|EPI_ISL_461497|2020-05-27\"], [\"hCoV-19/India/GBRC163b/2020|EPI_ISL_461498|2020-05-27\"], [\"hCoV-19/India/GBRC164/2020|EPI_ISL_461499|2020-05-27\"], [\"hCoV-19/India/GBRC1/2020|EPI_ISL_426414|2020-04-05\"], [\"hCoV-19/India/GBRC1s/2020|EPI_ISL_426415|2020-04-05\"], [\"hCoV-19/India/GBRC3/2020|EPI_ISL_435050|2020-04-13\"], [\"hCoV-19/India/GBRC4/2020|EPI_ISL_435051|2020-04-13\"], [\"hCoV-19/India/GBRC5/2020|EPI_ISL_435052|2020-04-13\"], [\"hCoV-19/India/GBRC6/2020|EPI_ISL_435053|2020-04-07\"], [\"hCoV-19/India/GBRC7/2020|EPI_ISL_435054|2020-04-14\"], [\"hCoV-19/India/GBRC8/2020|EPI_ISL_435055|2020-04-22\"], [\"hCoV-19/India/GBRC9/2020|EPI_ISL_435056|2020-04-21\"], [\"hCoV-19/India/GBRC10/2020|EPI_ISL_437438|2020-04-24\"], [\"hCoV-19/India/GBRC11/2020|EPI_ISL_437439|2020-04-23\"], [\"hCoV-19/India/GBRC12/2020|EPI_ISL_437440|2020-04-26\"], [\"hCoV-19/India/GBRC13/2020|EPI_ISL_437441|2020-04-26\"], [\"hCoV-19/India/GBRC14/2020|EPI_ISL_437442|2020-04-27\"], [\"hCoV-19/India/GBRC15/2020|EPI_ISL_437443|2020-04-27\"], [\"hCoV-19/India/GBRC16/2020|EPI_ISL_437444|2020-04-26\"], [\"hCoV-19/India/GBRC17a/2020|EPI_ISL_437445|2020-04-26\"], [\"hCoV-19/India/GBRC17b/2020|EPI_ISL_437446|2020-04-26\"], [\"hCoV-19/India/GBRC18/2020|EPI_ISL_437447|2020-04-26\"], [\"hCoV-19/India/GBRC19/2020|EPI_ISL_437448|2020-04-26\"], [\"hCoV-19/India/GBRC20/2020|EPI_ISL_437449|2020-04-26\"], [\"hCoV-19/India/GBRC56a/2020|EPI_ISL_447030|2020-05-03\"], [\"hCoV-19/India/GBRC56b/2020|EPI_ISL_447031|2020-05-03\"], [\"hCoV-19/India/GBRC57/2020|EPI_ISL_447032|2020-05-03\"], [\"hCoV-19/India/GBRC58/2020|EPI_ISL_447033|2020-05-03\"], [\"hCoV-19/India/GBRC59/2020|EPI_ISL_447034|2020-05-03\"], [\"hCoV-19/India/GBRC60/2020|EPI_ISL_447035|2020-05-03\"], [\"hCoV-19/India/GBRC61/2020|EPI_ISL_447036|2020-05-03\"], [\"hCoV-19/India/GBRC62/2020|EPI_ISL_447037|2020-05-03\"], [\"hCoV-19/India/GBRC63/2020|EPI_ISL_447038|2020-05-03\"], [\"hCoV-19/India/GBRC64/2020|EPI_ISL_447039|2020-05-03\"], [\"hCoV-19/India/GBRC65a/2020|EPI_ISL_447040|2020-05-03\"], [\"hCoV-19/India/GBRC65b/2020|EPI_ISL_447041|2020-05-03\"], [\"hCoV-19/India/GBRC66/2020|EPI_ISL_447042|2020-05-03\"], [\"hCoV-19/India/GBRC67a/2020|EPI_ISL_447043|2020-05-03\"], [\"hCoV-19/India/GBRC67b/2020|EPI_ISL_447044|2020-05-03\"], [\"hCoV-19/India/GBRC68/2020|EPI_ISL_447045|2020-05-03\"], [\"hCoV-19/India/GBRC69/2020|EPI_ISL_447046|2020-05-04\"], [\"hCoV-19/India/GBRC70/2020|EPI_ISL_447047|2020-04-29\"], [\"hCoV-19/India/GBRC71/2020|EPI_ISL_447048|2020-04-27\"], [\"hCoV-19/India/GBRC72a/2020|EPI_ISL_447049|2020-04-29\"], [\"hCoV-19/India/GBRC72b/2020|EPI_ISL_447050|2020-04-29\"], [\"hCoV-19/India/GBRC73/2020|EPI_ISL_447051|2020-04-29\"], [\"hCoV-19/India/GBRC74/2020|EPI_ISL_447052|2020-05-02\"], [\"hCoV-19/India/GBRC75/2020|EPI_ISL_447053|2020-04-29\"], [\"hCoV-19/India/GBRC103/2020|EPI_ISL_451666|2020-05-04\"], [\"hCoV-19/India/GBRC131/2020|EPI_ISL_458086|2020-05-24\"], [\"hCoV-19/India/GBRC132/2020|EPI_ISL_458087|2020-05-24\"], [\"hCoV-19/India/GBRC133/2020|EPI_ISL_458088|2020-05-24\"], [\"hCoV-19/India/GBRC141a/2020|EPI_ISL_458100|2020-05-24\"], [\"hCoV-19/India/GBRC141b/2020|EPI_ISL_458101|2020-05-24\"], [\"hCoV-19/India/GBRC142/2020|EPI_ISL_458102|2020-05-24\"], [\"hCoV-19/India/GBRC143/2020|EPI_ISL_458103|2020-05-05\"], [\"hCoV-19/India/GBRC144/2020|EPI_ISL_458104|2020-05-06\"], [\"hCoV-19/India/GBRC145/2020|EPI_ISL_458105|2020-05-06\"], [\"hCoV-19/India/GBRC146a/2020|EPI_ISL_458106|2020-05-16\"], [\"hCoV-19/India/GBRC146b/2020|EPI_ISL_458107|2020-05-16\"], [\"hCoV-19/India/GBRC147/2020|EPI_ISL_458108|2020-05-16\"], [\"hCoV-19/India/GBRC148a/2020|EPI_ISL_458109|2020-05-17\"], [\"hCoV-19/India/GBRC148b/2020|EPI_ISL_458110|2020-05-17\"], [\"hCoV-19/India/GBRC149/2020|EPI_ISL_458111|2020-05-17\"], [\"hCoV-19/India/GBRC150a/2020|EPI_ISL_458112|2020-05-18\"], [\"hCoV-19/India/GBRC150b/2020|EPI_ISL_458113|2020-05-18\"], [\"hCoV-19/India/GBRC151a/2020|EPI_ISL_461478|2020-05-02\"], [\"hCoV-19/India/GBRC151b/2020|EPI_ISL_461479|2020-05-02\"], [\"hCoV-19/India/GBRC152/2020|EPI_ISL_461480|2020-05-02\"], [\"hCoV-19/India/GBRC153a/2020|EPI_ISL_461481|2020-04-27\"], [\"hCoV-19/India/GBRC153b/2020|EPI_ISL_461482|2020-04-27\"], [\"hCoV-19/India/GBRC154/2020|EPI_ISL_461483|2020-05-27\"], [\"hCoV-19/India/GBRC155/2020|EPI_ISL_461484|2020-05-27\"], [\"hCoV-19/India/GBRC156/2020|EPI_ISL_461485|2020-05-27\"], [\"hCoV-19/India/GBRC157a/2020|EPI_ISL_461486|2020-05-27\"], [\"hCoV-19/India/GBRC165/2020|EPI_ISL_461500|2020-05-27\"], [\"hCoV-19/India/GBRC166a/2020|EPI_ISL_461501|2020-05-27\"], [\"hCoV-19/India/GBRC166b/2020|EPI_ISL_461502|2020-05-27\"], [\"hCoV-19/India/GBRC167a/2020|EPI_ISL_461503|2020-05-27\"], [\"hCoV-19/India/GBRC167b/2020|EPI_ISL_461504|2020-05-27\"], [\"hCoV-19/India/GBRC168a/2020|EPI_ISL_461505|2020-05-27\"], [\"hCoV-19/India/GBRC168b/2020|EPI_ISL_461506|2020-05-27\"], [\"hCoV-19/India/GBRC2/2020|EPI_ISL_435049|2020-04-13\"], [\"hCoV-19/India/GBRC21/2020|EPI_ISL_437450|2020-04-26\"], [\"hCoV-19/India/GBRC22/2020|EPI_ISL_437451|2020-04-26\"], [\"hCoV-19/India/GBRC23/2020|EPI_ISL_437452|2020-04-26\"], [\"hCoV-19/India/GBRC24a/2020|EPI_ISL_437453|2020-04-26\"], [\"hCoV-19/India/GBRC24b/2020|EPI_ISL_437454|2020-04-26\"], [\"hCoV-19/India/GBRC26/2020|EPI_ISL_444457|2020-04-26\"], [\"hCoV-19/India/GBRC27/2020|EPI_ISL_444458|2020-04-26\"], [\"hCoV-19/India/GBRC28/2020|EPI_ISL_444459|2020-04-30\"], [\"hCoV-19/India/GBRC29/2020|EPI_ISL_444460|2020-04-30\"], [\"hCoV-19/India/GBRC30/2020|EPI_ISL_444461|2020-04-29\"], [\"hCoV-19/India/GBRC31/2020|EPI_ISL_444462|2020-04-29\"], [\"hCoV-19/India/GBRC32/2020|EPI_ISL_444463|2020-04-29\"], [\"hCoV-19/India/GBRC33/2020|EPI_ISL_444464|2020-04-29\"], [\"hCoV-19/India/GBRC34/2020|EPI_ISL_444465|2020-04-29\"], [\"hCoV-19/India/GBRC35/2020|EPI_ISL_444466|2020-04-29\"], [\"hCoV-19/India/GBRC36/2020|EPI_ISL_444467|2020-04-29\"], [\"hCoV-19/India/GBRC37/2020|EPI_ISL_444468|2020-04-29\"], [\"hCoV-19/India/GBRC38/2020|EPI_ISL_444469|2020-04-29\"], [\"hCoV-19/India/GBRC39/2020|EPI_ISL_444470|2020-04-29\"], [\"hCoV-19/India/GBRC40/2020|EPI_ISL_444471|2020-04-29\"], [\"hCoV-19/India/GBRC41/2020|EPI_ISL_444472|2020-04-29\"], [\"hCoV-19/India/GBRC42/2020|EPI_ISL_444473|2020-04-29\"], [\"hCoV-19/India/GBRC43/2020|EPI_ISL_444474|2020-04-29\"], [\"hCoV-19/India/GBRC44/2020|EPI_ISL_444475|2020-04-29\"], [\"hCoV-19/India/GBRC45/2020|EPI_ISL_444476|2020-04-29\"], [\"hCoV-19/India/GBRC46/2020|EPI_ISL_444477|2020-04-29\"], [\"hCoV-19/India/GBRC47/2020|EPI_ISL_444478|2020-04-30\"], [\"hCoV-19/India/GBRC48/2020|EPI_ISL_444479|2020-04-29\"], [\"hCoV-19/India/GBRC49/2020|EPI_ISL_444480|2020-04-30\"], [\"hCoV-19/India/GBRC50/2020|EPI_ISL_444481|2020-04-30\"], [\"hCoV-19/India/GBRC51/2020|EPI_ISL_444482|2020-05-02\"], [\"hCoV-19/India/GBRC52/2020|EPI_ISL_444483|2020-05-02\"], [\"hCoV-19/India/GBRC53/2020|EPI_ISL_444484|2020-05-04\"], [\"hCoV-19/India/GBRC54/2020|EPI_ISL_444485|2020-05-04\"], [\"hCoV-19/India/GBRC55/2020|EPI_ISL_444486|2020-05-04\"], [\"hCoV-19/India/GBRC76/2020|EPI_ISL_447534|2020-05-05\"], [\"hCoV-19/India/GBRC77/2020|EPI_ISL_447535|2020-05-05\"], [\"hCoV-19/India/GBRC78a/2020|EPI_ISL_447536|2020-05-05\"], [\"hCoV-19/India/GBRC78b/2020|EPI_ISL_447537|2020-05-05\"], [\"hCoV-19/India/GBRC79a/2020|EPI_ISL_447538|2020-05-05\"], [\"hCoV-19/India/GBRC79b/2020|EPI_ISL_447539|2020-05-05\"], [\"hCoV-19/India/GBRC81a/2020|EPI_ISL_447540|2020-05-05\"], [\"hCoV-19/India/GBRC81b/2020|EPI_ISL_447541|2020-05-05\"], [\"hCoV-19/India/GBRC82a/2020|EPI_ISL_447542|2020-05-05\"], [\"hCoV-19/India/GBRC82b/2020|EPI_ISL_447543|2020-05-05\"], [\"hCoV-19/India/GBRC83/2020|EPI_ISL_447544|2020-05-05\"], [\"hCoV-19/India/GBRC84/2020|EPI_ISL_447545|2020-05-05\"], [\"hCoV-19/India/GBRC85/2020|EPI_ISL_447546|2020-05-05\"], [\"hCoV-19/India/GBRC86/2020|EPI_ISL_447547|2020-04-28\"], [\"hCoV-19/India/GBRC87/2020|EPI_ISL_447548|2020-04-28\"], [\"hCoV-19/India/GBRC88a/2020|EPI_ISL_447549|2020-05-03\"], [\"hCoV-19/India/GBRC88b/2020|EPI_ISL_447550|2020-05-03\"], [\"hCoV-19/India/GBRC89/2020|EPI_ISL_447551|2020-04-25\"], [\"hCoV-19/India/GBRC90/2020|EPI_ISL_447552|2020-05-02\"], [\"hCoV-19/India/GBRC91/2020|EPI_ISL_447553|2020-04-27\"], [\"hCoV-19/India/GBRC92/2020|EPI_ISL_447554|2020-04-26\"], [\"hCoV-19/India/GBRC93/2020|EPI_ISL_447555|2020-04-28\"], [\"hCoV-19/India/GBRC94/2020|EPI_ISL_450781|2020-05-09\"], [\"hCoV-19/India/GBRC95a/2020|EPI_ISL_450782|2020-04-11\"], [\"hCoV-19/India/GBRC95b/2020|EPI_ISL_450783|2020-04-11\"], [\"hCoV-19/India/GBRC96/2020|EPI_ISL_450784|2020-05-09\"], [\"hCoV-19/India/GBRC97a/2020|EPI_ISL_450785|2020-05-10\"], [\"hCoV-19/India/GBRC97b/2020|EPI_ISL_450786|2020-05-10\"], [\"hCoV-19/India/GBRC98/2020|EPI_ISL_450787|2020-05-11\"], [\"hCoV-19/India/GBRC99/2020|EPI_ISL_450788|2020-05-06\"], [\"hCoV-19/India/GBRC100/2020|EPI_ISL_450789|2020-05-10\"], [\"hCoV-19/India/GBRC101/2020|EPI_ISL_450790|2020-04-28\"], [\"hCoV-19/India/GBRC102/2020|EPI_ISL_450791|2020-04-27\"], [\"hCoV-19/India/GBRC80/2020|EPI_ISL_455015|2020-04-28\"], [\"hCoV-19/India/GBRC119/2020|EPI_ISL_455016|2020-04-27\"], [\"hCoV-19/India/GBRC120/2020|EPI_ISL_455017|2020-05-02\"], [\"hCoV-19/India/GBRC121/2020|EPI_ISL_455018|2020-05-02\"], [\"hCoV-19/India/GBRC122/2020|EPI_ISL_455019|2020-05-02\"], [\"hCoV-19/India/GBRC123/2020|EPI_ISL_455020|2020-05-02\"], [\"hCoV-19/India/GBRC124/2020|EPI_ISL_455021|2020-05-02\"], [\"hCoV-19/India/GBRC125/2020|EPI_ISL_455022|2020-05-02\"], [\"hCoV-19/India/GBRC126/2020|EPI_ISL_455023|2020-05-02\"], [\"hCoV-19/India/GBRC127/2020|EPI_ISL_455024|2020-05-02\"], [\"hCoV-19/India/GBRC128/2020|EPI_ISL_455025|2020-05-02\"], [\"hCoV-19/India/GBRC129/2020|EPI_ISL_455026|2020-05-02\"], [\"hCoV-19/India/GBRC130/2020|EPI_ISL_455027|2020-05-02\"]], \"hovertemplate\": \"color=Gujarat<br>x=%{x}<br>y=%{y}<br>ID=%{customdata[0]}<extra></extra>\", \"legendgroup\": \"Gujarat\", \"marker\": {\"color\": \"magenta\", \"symbol\": \"circle\"}, \"mode\": \"markers\", \"name\": \"Gujarat\", \"orientation\": \"v\", \"showlegend\": true, \"type\": \"scatter\", \"x\": [-3.868599473736952, -4.074591568123676, -3.913573164785019, -3.977851902919583, -3.9462201153879004, -4.126446667168749, -3.5750256864371415, -3.8997892800524743, -3.587634187501556, -3.8459658884801815, -3.721238297517751, -3.8649097208751884, -3.9406503972257934, -3.4076221457072187, -3.6992450131191497, -4.00132332297674, -3.8888435865252324, -3.883611620716412, -3.9660851101666816, -3.9757220316068924, -3.983254507213869, -3.973435837388311, -3.9622404507310347, -3.7570959626883416, -3.981032217535278, -3.973435837388311, -3.951776532889337, -4.120790444783625, -3.8677077569030014, -4.008981450260342, -3.9154578968727374, -4.000020811572824, -3.9286205585516067, -4.072485761733023, -4.028167352336937, -3.9550411037256747, -3.9736377854104563, -3.944869533327977, -3.9776479877688136, -3.9854835538548503, -4.571968603386075, -4.556542619109911, -3.437213242174132, -3.548088749718677, -2.0175455182396678, -3.3340489925713723, -3.4031579913057177, -3.509188456587278, -2.613159956757343, -3.067426670294948, 13.5048483761764, -3.937090019035616, -0.9101654492865812, -1.5547836945488516, 19.38914135278117, -3.78828408257459, -4.1084015895922485, -4.052770917951261, -2.8339128271807636, -3.8936730578104655, -3.9186127056874382, -3.925668443960112, -3.916759996382622, -2.419605493484362, -3.873956883402797, -2.0897060419949374, -3.8939560708633416, -3.770426656709055, -3.746303187742307, -3.867884993119712, -3.91771617261321, -3.8167242073154313, -3.6619053708637748, -3.2115097685033285, -3.8392193048805536, -3.820136602864245, -3.8329338056864306, -3.9934764428644947, -3.8876833940888536, -4.047296718556436, -3.9918321066992224, -3.9362014350582357, -3.8282219950658045, -3.834529452222334, -3.8125280613545285, -3.3759769107539475, -3.703704088756473, -3.9406503972257934, -3.973435837388311, -3.9978765932280957, -4.036552142328975, -3.9299627586287915, -3.9338064367986885, -4.105308124022674, -3.9729000132358525, -4.067950764113314, -4.063527212904079, -4.030166062278199, -2.9421458851652043, -2.6849569502164927, -4.043408534635316, -4.011217267286823, -4.102018537565143, -3.9328145570415223, -3.9676299798764862, -3.874249565943268, -4.144170359629946, -4.076091565241471, -3.9868681327510638, -4.074249909806939, -3.9650897889918455, -4.184683301955347, -4.015074770298917, -3.9073296162084805, -3.9571577645509675, -4.011143364065877, -3.960334040991238, -4.057706730497693, -4.104358914132804, -3.2940494910959535, -3.3160851778007907, -3.290775255865984, -3.917747514563412, -3.5214182713285926, -3.595428507585315, -3.4150390453672523, -3.825068231676776, -3.9415321195934396, -4.194933597319181, -3.9810846505761366, -3.784228059297947, -3.8616812971523986, -3.9499622031460677, -4.224808000249129, -4.013507608145105, -3.980067000561438, -3.891103408048326, -3.766788223852471, -4.129873256617654, -3.9747839547011172, -3.9152237005513246, -3.83661480149698, -3.741885344458107, -3.749211700327472, -3.8713013658642113, -3.9056727070250483, -3.24989570270285, -3.834529452222334, -3.753855963447024, -3.94589553092584, -3.8604349321975837, -4.1403070232070736, -3.666172185047346, -2.9496426601930237, -3.908140820342133, -3.7061821458611255, -3.8782609095695704, -2.3588556819331576, -2.3023868147381052, -3.0124974436080154, -3.0578537266264902, -3.8206610963132905, -3.83493096485367, -3.8425797780414954, -3.828309909501116, -3.8856112741050977, -4.080881274164577, -3.824079699310244, -3.8188957065422127, -3.780855913985067, -3.874988457304786, -3.8745191099494667, -3.9673341516170963, -3.737865929282445, -3.9446274022791674, -3.8876833940888536, -3.9244929774159147, -3.757285544983377, -3.9353504554586616, -3.8323760398613933, -2.1748901411724106, -4.106151907317074, -4.12693459726004, -3.9505567027813773, -3.9954916857674694, -3.7311167374363556, -3.4034380591348894, -3.3435656728770207, -1.4624972575914628, -3.724525772500419, -3.852228114255457, -3.8548748312687318, -3.961277459492101, -4.007944305850532, -3.8763203689618924, -3.961277459492101, -3.9051759532533747, -3.9322008571983327, -3.8887447984335997, -3.983246182297929, -4.166070594618758], \"xaxis\": \"x\", \"y\": [-4.30390865379982, -4.057232234672356, -3.7861391537999536, -4.548842144034137, -4.386166009380781, -4.23790641711743, 0.5323840031309575, -3.8634442515539473, 0.5383621773769479, -3.855161356586246, -4.050562008471478, 0.5444186796176914, -4.341956275669377, 0.536211334602939, -4.696622064211607, -3.863173436762683, -4.320806686767376, -4.603567005644658, -4.426793408264446, -4.487369863950216, -4.368304165258262, -4.600240202219713, -4.533579295064618, -3.9040957317433724, -4.666479111050122, -4.600240202219713, -4.502614033094368, -3.6299570112801622, -4.63515855963229, -4.601094855527471, -4.038761889976423, -4.229738613907958, -4.038518190697829, -3.951784596648393, -3.9933496084087983, -4.5509571222797085, -4.044773292834297, -3.770212255029293, -3.766211363738262, -4.621773235024042, 21.994873061347228, 22.003214215149157, -3.9179474421824083, -4.042971045470865, -3.965010892032832, -3.918989297596963, -3.783721084095887, -4.586147481546459, -2.960936305496, 1.555276481947147, -1.7786808821125748, -3.645291064135716, -2.2010402693079483, -0.10201907890708886, -1.6655970324807838, -0.24228033520663145, -4.436695880910959, -4.4360531927546285, -3.5510508438204247, -3.8327339312953894, -4.018467708582602, -3.8124574540214393, -3.8248446790264508, -4.0064231863029, -4.636297472926277, -4.662977663895979, -4.578930263018986, -4.318932966591573, -4.347060417793588, -3.9087646588359175, -4.589668178340425, -4.478734488884796, -4.147746303130642, -4.524618705723881, -4.56530329820399, -4.554198698513502, -4.575432371532104, -4.601641682942542, -3.902509823778736, -4.603871131628681, -4.603272779326619, -4.602630091170289, -4.5793823841063785, -3.9287240173586704, -4.333398715860838, -0.2728383935535795, -4.204887975021127, -4.341956275669377, -4.600240202219713, -4.570630188604288, -4.356284150127311, -4.334808741716669, -4.478477830655379, -3.756505086356258, -3.852961066925249, -3.760132368137273, -3.7561721962559678, -3.7931197270981922, -3.865766395140777, -3.238578242290343, -4.156370148053731, -4.5696765697818, -4.523470274979098, -3.9300908302125714, -3.9376646490531035, -4.243967241322241, -3.564669681344897, -2.9006222531221417, -3.8504060540285936, -4.4048529512818355, -4.572764184092809, -3.5799426014991274, -4.50354702250596, -4.583016823729134, -4.565905727165485, -4.050547256410217, -4.346706840993352, -3.8581962955698286, -4.341531267533347, -3.9005836181563014, -3.541616827629792, -3.598052350722925, -4.187997416540248, -0.7654781498411074, -2.1198817443067846, -1.9962871405792997, -3.867356705491402, -4.509314826417027, -3.656074133278027, -4.583592296257942, -3.924329221020756, -3.8918634737257416, -4.555437340332857, -4.377742450880311, -4.514837347086466, -4.23423738186225, -3.8718079401092815, -4.408232016379909, -4.1873212355354505, -4.33316822335778, -4.5858954330761375, -3.9608318053579636, -4.3269442173402854, -3.91744806146008, -4.61812101626241, -3.8587111753136014, -3.9775386330167897, -3.9287240173586704, -4.323681814071271, -3.9168545929223115, -3.9216901066641237, -3.7179598581130304, -2.009963889879125, -4.395395012322336, -4.551306210745423, -4.345174810897567, -4.2674371065370345, -4.045550400012395, -4.422449270302721, -4.223372198943645, -4.579750808520025, -4.338970751511892, -3.916477071070531, -3.8998291651087595, -4.32232284555012, -3.916281442533959, -3.6735867271921956, -4.553652731072424, -3.9110330271267384, -4.582245971064016, -3.915874713199846, -3.9089704653720108, -3.921431430031824, -4.398078510894634, -4.468562804723648, -3.902509823778736, -4.337290734348939, -3.8920414813985915, -4.3651330721019646, -4.556053013856256, -0.2640959220311707, -3.4574176941485883, -3.5150172232084085, 1.5081696152410098, -3.6397602946562855, -4.216717568138843, -2.486620083140932, -2.2919355932194247, -2.4080918728785776, -2.4658278095217003, -4.3568779878912185, -3.920420042216022, -3.853014910366363, -3.899178754790178, -4.264840843101881, -3.853014910366363, -4.358011212224935, -3.9306800551186485, -3.8795167803408988, -3.9229824084208977, -3.9413414733696257], \"yaxis\": \"y\"}, {\"customdata\": [[\"hCoV-19/India/NIV-10380/2020|EPI_ISL_452192|2020-04-16\"], [\"hCoV-19/India/NIV-10419/2020|EPI_ISL_452193|2020-04-16\"], [\"hCoV-19/India/NIV-11677/2020|EPI_ISL_452194|2020-04-19\"], [\"hCoV-19/India/NIV-11681/2020|EPI_ISL_452195|2020-04-19\"], [\"hCoV-19/India/NIV-11683/2020|EPI_ISL_452196|2020-04-19\"], [\"hCoV-19/India/NIV-11687/2020|EPI_ISL_452197|2020-04-19\"], [\"hCoV-19/India/NIV-11855/2020|EPI_ISL_452198|2020-04-20\"], [\"hCoV-19/India/NIV-12019/2020|EPI_ISL_452199|2020-04-20\"], [\"hCoV-19/India/NIV-4438/2020|EPI_ISL_454533|2020-03-23\"], [\"hCoV-19/India/NIV-4622/2020|EPI_ISL_454534|2020-03-24\"], [\"hCoV-19/India/NIV-5097/2020|EPI_ISL_454535|2020-03-26\"], [\"hCoV-19/India/NIV-5102/2020|EPI_ISL_454536|2020-03-26\"], [\"hCoV-19/India/NIV-5104/2020|EPI_ISL_454537|2020-03-26\"], [\"hCoV-19/India/NIV-6216/2020|EPI_ISL_454540|2020-04-01\"], [\"hCoV-19/India/NIV-6285/2020|EPI_ISL_454541|2020-03-30\"], [\"hCoV-19/India/NIV-6315/2020|EPI_ISL_454542|2020-03-30\"], [\"hCoV-19/India/NIV-6423/2020|EPI_ISL_454543|2020-03-31\"], [\"hCoV-19/India/NIV-6614/2020|EPI_ISL_454544|2020-04-02\"], [\"hCoV-19/India/NIV-6964/2020|EPI_ISL_454546|2020-04-03\"], [\"hCoV-19/India/NIV-7044/2020|EPI_ISL_454547|2020-04-04\"], [\"hCoV-19/India/NIV-7098/2020|EPI_ISL_454548|2020-04-03\"], [\"hCoV-19/India/NIV-7558/2020|EPI_ISL_454549|2020-04-05\"], [\"hCoV-19/India/NIV-7832/2020|EPI_ISL_454550|2020-04-06\"], [\"hCoV-19/India/NIV-7893/2020|EPI_ISL_454551|2020-04-07\"], [\"hCoV-19/India/NIV-7966/2020|EPI_ISL_454552|2020-04-06\"], [\"hCoV-19/India/NIV-8404/2020|EPI_ISL_454555|2020-04-07\"], [\"hCoV-19/India/NIV-9154/2020|EPI_ISL_454557|2020-04-13\"], [\"hCoV-19/India/NIV-9314/2020|EPI_ISL_454558|2020-04-13\"], [\"hCoV-19/India/NIV-701_3/2020|EPI_ISL_454560|2020-04-06\"], [\"hCoV-19/India/NIV-729_3/2020|EPI_ISL_454561|2020-04-07\"], [\"hCoV-19/India/NIV-815_3/2020|EPI_ISL_454562|2020-04-07\"], [\"hCoV-19/India/NIV-QA-707/2020|EPI_ISL_454563|2020-04-10\"], [\"hCoV-19/India/NIV-QA-708/2020|EPI_ISL_454564|2020-04-04\"], [\"hCoV-19/India/NIV-QA-710/2020|EPI_ISL_454565|2020-03-31\"], [\"hCoV-19/India/NIV-QC-795/2020|EPI_ISL_454566|2020-04-21\"], [\"hCoV-19/India/NIV-QC-796/2020|EPI_ISL_454567|2020-04-22\"], [\"hCoV-19/India/NIV-QC-798/2020|EPI_ISL_454568|2020-04-25\"], [\"hCoV-19/India/NIV-QC-799/2020|EPI_ISL_454569|2020-04-26\"], [\"hCoV-19/India/NIV-QC-801/2020|EPI_ISL_454570|2020-04-26\"], [\"hCoV-19/India/NCDC-02330/2020|EPI_ISL_435077|2020-03-29\"], [\"hCoV-19/India/NCDC-02310/2020|EPI_ISL_435085|2020-03-29\"], [\"hCoV-19/India/NCDC-02315/2020|EPI_ISL_435086|2020-03-29\"], [\"hCoV-19/India/NCDC-3835/2020|EPI_ISL_436438|2020-04-07\"], [\"hCoV-19/India/NCDC-3950/2020|EPI_ISL_436442|2020-04-09\"], [\"hCoV-19/India/NCDC-3965/2020|EPI_ISL_436444|2020-04-09\"], [\"hCoV-19/India/NCDC-3985/2020|EPI_ISL_436446|2020-04-09\"], [\"hCoV-19/India/CCMB_NIV1/2020|EPI_ISL_450321|2020-04-04\"], [\"hCoV-19/India/CCMB_NIV2/2020|EPI_ISL_450322|2020-04-04\"], [\"hCoV-19/India/CCMB_NIV3/2020|EPI_ISL_450323|2020-03-27\"], [\"hCoV-19/India/CCMB_NIV4/2020|EPI_ISL_450324|2020-03-26\"], [\"hCoV-19/India/CCMB_NIV5/2020|EPI_ISL_450325|2020-03-17\"], [\"hCoV-19/India/NIV-12024/2020|EPI_ISL_452200|2020-04-20\"], [\"hCoV-19/India/NIV-12067/2020|EPI_ISL_452201|2020-04-20\"], [\"hCoV-19/India/NIV-2810/2020|EPI_ISL_452202|2020-03-16\"], [\"hCoV-19/India/NIV-4367/2020|EPI_ISL_452203|2020-03-22\"], [\"hCoV-19/India/NIV-5109/2020|EPI_ISL_452204|2020-03-26\"], [\"hCoV-19/India/NIV-5119/2020|EPI_ISL_452205|2020-03-26\"], [\"hCoV-19/India/NIV-6311/2020|EPI_ISL_452206|2020-03-30\"], [\"hCoV-19/India/NIV-7439/2020|EPI_ISL_452207|2020-04-05\"], [\"hCoV-19/India/NIV-7511/2020|EPI_ISL_452208|2020-04-05\"], [\"hCoV-19/India/NIV-7786/2020|EPI_ISL_452209|2020-04-06\"], [\"hCoV-19/India/NIV-7830/2020|EPI_ISL_452210|2020-04-06\"], [\"hCoV-19/India/NIV-9157/2020|EPI_ISL_452211|2020-04-13\"], [\"hCoV-19/India/NIV-9768/2020|EPI_ISL_452212|2020-04-15\"], [\"hCoV-19/India/NIV-981/2020|EPI_ISL_452213|2020-03-10\"], [\"hCoV-19/India/NIV-QA-709/2020|EPI_ISL_452214|2020-04-07\"], [\"hCoV-19/India/NIV-QC-797/2020|EPI_ISL_452215|2020-04-22\"], [\"hCoV-19/India/NIV-QC-802/2020|EPI_ISL_452216|2020-04-27\"], [\"hCoV-19/India/NIV-QC-800/2020|EPI_ISL_452217|2020-04-26\"], [\"hCoV-19/India/NIV-11182/2020|EPI_ISL_454521|2020-04-18\"], [\"hCoV-19/India/NIV-11676/2020|EPI_ISL_454522|2020-04-19\"], [\"hCoV-19/India/NIV-12058/2020|EPI_ISL_454524|2020-04-20\"], [\"hCoV-19/India/NIV-1738/2020|EPI_ISL_454525|2020-03-12\"], [\"hCoV-19/India/NIV-1804/2020|EPI_ISL_454526|2020-03-13\"], [\"hCoV-19/India/NIV-2387/2020|EPI_ISL_454527|2020-03-13\"], [\"hCoV-19/India/NIV-3472/2020|EPI_ISL_454528|2020-03-17\"], [\"hCoV-19/India/NIV-4130/2020|EPI_ISL_454529|2020-03-21\"], [\"hCoV-19/India/NIV-4271/2020|EPI_ISL_454530|2020-03-22\"], [\"hCoV-19/India/NIV-4369/2020|EPI_ISL_454531|2020-03-22\"], [\"hCoV-19/India/NIV-4379/2020|EPI_ISL_454532|2020-03-23\"]], \"hovertemplate\": \"color=Maharashtra<br>x=%{x}<br>y=%{y}<br>ID=%{customdata[0]}<extra></extra>\", \"legendgroup\": \"Maharashtra\", \"marker\": {\"color\": \"orange\", \"symbol\": \"circle\"}, \"mode\": \"markers\", \"name\": \"Maharashtra\", \"orientation\": \"v\", \"showlegend\": true, \"type\": \"scatter\", \"x\": [-3.648955887561058, -3.674834720983249, -3.513659123648525, -3.5732932183726462, -3.5265614065401554, -3.6504243464823833, -3.5638690646354916, -3.6856248347524834, -3.2041091771698977, -1.973903544194508, 38.673782839131114, -3.154061543246511, -2.8864244813392883, -3.2877863642790985, 13.429999661953373, -3.342779870904322, -2.9237474960629375, -1.627024633590836, -2.1494926854900576, -3.354582415904351, 14.99893952539971, -3.123087878348929, 4.537316219232773, -3.2681997863559085, -1.153406882149792, 13.095601637864503, -3.483342827759148, -1.3403554265867992, -3.321214164445928, 0.10416821243293325, 1.2021585922496496, -3.054584831365849, -3.2032934454793645, -3.5022844249631055, -3.523025421401274, -3.3798586260864854, -2.8123805041861387, -3.2944399792494607, -3.0745448274356306, 4.398827403642369, -2.4993725253039982, -2.5613883000991553, 8.687209968824163, 19.0120347899359, -0.76740788794107, 11.649201232235278, -3.6302750806391813, -3.6242948923135656, -3.9011262507025006, -3.5939299289105033, -3.8693303349970436, -3.585384141223007, -3.586318047755914, -3.273689018633057, -3.3797344315478806, -3.3023794971090306, -3.367446848105825, -2.8862261038945984, -3.641869288051812, -3.4311784649068993, -3.4779044302918685, -3.6086284150130563, -3.6724143175939283, -3.5474121425089646, -3.2438124062493245, -3.5638077133665447, -3.50804811953443, -3.662491733968849, -3.4698560188903453, 0.8484223213855513, 0.412017003172212, -2.7974919373484677, -1.9298955175143477, -3.030178355617795, -3.2048033371683653, -2.8755451617093364, -3.377049447108216, -2.946205622246192, -3.1822166676509305, -3.263701152546642], \"xaxis\": \"x\", \"y\": [-4.293608409894054, -4.302187670684518, -4.331461051153073, -4.258605398050487, -4.151621561906333, -4.254279399440364, -4.308735555661317, -4.331665960673795, -4.157516997228797, -3.077903901510302, -1.973872613397473, -2.886788542810412, -3.0403391058925804, -0.6916283734099435, -0.7567861728210701, -0.7123039112491641, 0.430709826346894, -0.5204859484055678, -0.6608930414815811, 0.2645624911449025, -0.6545690350539571, -2.2328142148138785, -3.8317940509971704, -0.7281999889147365, -0.6567239550872387, -0.6866131813327966, -4.327078035812752, -4.309521723598825, -4.208007843581704, 1.3185547711929784, -3.623620330740904, -4.269640221683689, -4.388966620722083, -4.240194170545085, -4.144045576703418, -4.381182860811196, -0.6183778277092774, -4.2320313819753155, -4.229887931034216, -0.8412525727834487, -0.45627075570917863, -0.22486142345492732, 0.05121097892812842, -0.7784141094327443, -0.359803559884193, 0.2004878055122803, -0.25315994216997806, -0.20600257017504037, -3.8071536887945188, -2.48215216631479, -3.3812440474531464, -4.33019442736705, -4.290884647616285, -2.748169578738664, -2.826982788970968, -2.876708764571835, -2.8495095907797015, -0.8505515880527899, -4.293709075268888, -0.6812611810722633, 0.27689041737680875, -4.307073170651121, -4.261026670114658, -4.286523166456678, -2.4425513298677255, -4.192575006821431, 1.2041046735868641, -4.185067791806845, -4.18980662434229, -4.0224889513188335, -3.9230936487912, -4.248729826692306, -2.488536979611196, -2.482431681728824, -4.113815833968553, -2.2455535420662405, -4.24093522052838, -4.176944986509678, -2.8988993043581055, -4.207242830025068], \"yaxis\": \"y\"}, {\"customdata\": [[\"hCoV-19/India/NIHSAD-2004-18/2020|EPI_ISL_452787|2020-04-19\"], [\"hCoV-19/India/NIHSAD-2104-06/2020|EPI_ISL_452788|2020-04-19\"], [\"hCoV-19/India/NIHSAD-2404-64/2020|EPI_ISL_452789|2020-04-23\"], [\"hCoV-19/India/NIHSAD-2604-22/2020|EPI_ISL_452790|2020-04-24\"], [\"hCoV-19/India/NIHSAD-2904-107/2020|EPI_ISL_452791|2020-04-27\"], [\"hCoV-19/India/NIHSAD-0105-77/2020|EPI_ISL_452792|2020-04-30\"], [\"hCoV-19/India/NIHSAD-0405-24/2020|EPI_ISL_452793|2020-05-03\"], [\"hCoV-19/India/NIHSAD-0905-216/2020|EPI_ISL_452794|2020-05-08\"], [\"hCoV-19/India/NCDC-3961/2020|EPI_ISL_436443|2020-04-09\"], [\"hCoV-19/India/NCDC-4444/2020|EPI_ISL_436453|2020-04-16\"], [\"hCoV-19/India/NCDC-4846/2020|EPI_ISL_436456|2020-04-20\"], [\"hCoV-19/India/NCDC-4859/2020|EPI_ISL_436457|2020-04-20\"], [\"hCoV-19/India/NCDC-4867/2020|EPI_ISL_436458|2020-04-16\"], [\"hCoV-19/India/NCDC-4874/2020|EPI_ISL_436459|2020-04-20\"], [\"hCoV-19/India/NCDC-4876/2020|EPI_ISL_436460|2020-04-20\"], [\"hCoV-19/India/NCDC-4877/2020|EPI_ISL_436461|2020-04-20\"], [\"hCoV-19/India/NCDC-4878/2020|EPI_ISL_436462|2020-04-16\"], [\"hCoV-19/India/NCDC-4879/2020|EPI_ISL_436463|2020-04-16\"], [\"hCoV-19/India/NIHSAD-1005-52/2020|EPI_ISL_452795|2020-05-09\"]], \"hovertemplate\": \"color=Madhya Pradesh<br>x=%{x}<br>y=%{y}<br>ID=%{customdata[0]}<extra></extra>\", \"legendgroup\": \"Madhya Pradesh\", \"marker\": {\"color\": \"brown\", \"symbol\": \"circle\"}, \"mode\": \"markers\", \"name\": \"Madhya Pradesh\", \"orientation\": \"v\", \"showlegend\": true, \"type\": \"scatter\", \"x\": [11.216609690747282, 8.413567081736215, 10.522905160879986, 3.7142215039260718, 0.8671966294768181, 3.55289507992763, 1.2601697886281686, -2.7410304847280735, 8.609660870035757, 1.0721374309319847, -4.261442046126153, -4.16225363477893, -2.577400558077666, -3.8458323514841615, -3.0666884482150714, -3.7999470343435617, -3.4806989906076153, 2.0234557490945755, -3.406781547407052], \"xaxis\": \"x\", \"y\": [-4.036586456892125, -3.9969561532586364, -4.3446764587597295, -3.9963040054310204, -3.95825751211591, -4.133795167637597, 0.6565427770362395, -4.064366016977196, -0.8498575106235415, -3.511878237602088, -3.4526575247745552, -3.557959742717404, -2.82790158795441, -3.944042454815139, -3.5734373402077475, -3.5573190834826733, -3.464878555012749, -2.6409387900785637, 0.8312727032586786], \"yaxis\": \"y\"}, {\"customdata\": [[\"hCoV-19/India/SMSCOV109/2020|EPI_ISL_454830|2020-04-23\"], [\"hCoV-19/India/SMSCOV141/2020|EPI_ISL_454831|2020-04-29\"], [\"hCoV-19/India/SMSCOV161/2020|EPI_ISL_454832|2020-04-21\"], [\"hCoV-19/India/SMSCOV175/2020|EPI_ISL_454833|2020-04-27\"], [\"hCoV-19/India/S25/2020|EPI_ISL_455655|2020-04-30\"], [\"hCoV-19/India/NCDC-2522/2020|EPI_ISL_436420|2020-03-31\"]], \"hovertemplate\": \"color=Rajasthan<br>x=%{x}<br>y=%{y}<br>ID=%{customdata[0]}<extra></extra>\", \"legendgroup\": \"Rajasthan\", \"marker\": {\"color\": \"#ab63fa\", \"symbol\": \"circle\"}, \"mode\": \"markers\", \"name\": \"Rajasthan\", \"orientation\": \"v\", \"showlegend\": true, \"type\": \"scatter\", \"x\": [-4.0415281201354, -3.667380600096556, -3.9488318869914556, -3.0913551101710555, -4.179413534471902, -3.332291169992264], \"xaxis\": \"x\", \"y\": [-0.014115873330277723, -2.52566054396345, -0.12465908586863712, -0.7021785498153098, -3.470647654928106, -0.005694348546213285], \"yaxis\": \"y\"}, {\"customdata\": [[\"hCoV-19/India/RMRC25/2020|EPI_ISL_455308|2020-04-04\"], [\"hCoV-19/India/RMRC26/2020|EPI_ISL_455309|2020-04-04\"], [\"hCoV-19/India/RMRC48/2020|EPI_ISL_455310|2020-04-08\"], [\"hCoV-19/India/RMRC123/2020|EPI_ISL_455311|2020-05-07\"], [\"hCoV-19/India/RMRC103/2020|EPI_ISL_455749|2020-05-06\"], [\"hCoV-19/India/RMRC104/2020|EPI_ISL_455750|2020-05-06\"], [\"hCoV-19/India/RMRC106/2020|EPI_ISL_455751|2020-05-06\"], [\"hCoV-19/India/RMRC108/2020|EPI_ISL_455752|2020-05-06\"], [\"hCoV-19/India/RMRC110/2020|EPI_ISL_455753|2020-05-06\"], [\"hCoV-19/India/RMRC112/2020|EPI_ISL_455754|2020-05-06\"], [\"hCoV-19/India/RMRC154/2020|EPI_ISL_455755|2020-05-07\"], [\"hCoV-19/India/RMRC155/2020|EPI_ISL_455756|2020-05-07\"], [\"hCoV-19/India/RMRC156/2020|EPI_ISL_455757|2020-05-07\"], [\"hCoV-19/India/RMRC157/2020|EPI_ISL_455758|2020-05-07\"], [\"hCoV-19/India/RMRC158/2020|EPI_ISL_455759|2020-05-07\"], [\"hCoV-19/India/RMRC159/2020|EPI_ISL_455760|2020-05-07\"], [\"hCoV-19/India/RMRC160/2020|EPI_ISL_455761|2020-05-07\"], [\"hCoV-19/India/RMRC162/2020|EPI_ISL_455762|2020-05-07\"], [\"hCoV-19/India/RMRC163/2020|EPI_ISL_455763|2020-05-07\"], [\"hCoV-19/India/RMRC164/2020|EPI_ISL_455764|2020-05-07\"], [\"hCoV-19/India/RMRC165/2020|EPI_ISL_455765|2020-05-07\"], [\"hCoV-19/India/RMRC166/2020|EPI_ISL_455766|2020-05-07\"], [\"hCoV-19/India/RMRC167/2020|EPI_ISL_455767|2020-05-07\"], [\"hCoV-19/India/RMRC169/2020|EPI_ISL_455768|2020-05-07\"], [\"hCoV-19/India/RMRC170/2020|EPI_ISL_455769|2020-05-07\"], [\"hCoV-19/India/RMRC171/2020|EPI_ISL_455770|2020-05-07\"], [\"hCoV-19/India/RMRC2/2020|EPI_ISL_455771|2020-03-19\"], [\"hCoV-19/India/RMRC20/2020|EPI_ISL_455772|2020-04-02\"], [\"hCoV-19/India/RMRC22/2020|EPI_ISL_455773|2020-04-04\"], [\"hCoV-19/India/RMRC23/2020|EPI_ISL_455774|2020-04-04\"], [\"hCoV-19/India/RMRC24/2020|EPI_ISL_455775|2020-04-04\"], [\"hCoV-19/India/RMRC27/2020|EPI_ISL_455776|2020-04-04\"], [\"hCoV-19/India/RMRC28/2020|EPI_ISL_455777|2020-04-04\"], [\"hCoV-19/India/RMRC30/2020|EPI_ISL_455778|2020-04-04\"], [\"hCoV-19/India/RMRC38/2020|EPI_ISL_455779|2020-04-04\"], [\"hCoV-19/India/RMRC46/2020|EPI_ISL_455780|2020-04-08\"], [\"hCoV-19/India/RMRC47/2020|EPI_ISL_455781|2020-04-08\"], [\"hCoV-19/India/RMRC5/2020|EPI_ISL_455782|2020-04-02\"], [\"hCoV-19/India/RMRC6/2020|EPI_ISL_455783|2020-04-02\"], [\"hCoV-19/India/RMRC7/2020|EPI_ISL_455784|2020-04-02\"], [\"hCoV-19/India/RMRC84/2020|EPI_ISL_455785|2020-05-04\"], [\"hCoV-19/India/RMRC90/2020|EPI_ISL_455786|2020-05-04\"], [\"hCoV-19/India/RMRC92/2020|EPI_ISL_455787|2020-05-04\"], [\"hCoV-19/India/RMRC94/2020|EPI_ISL_455788|2020-05-04\"], [\"hCoV-19/India/NCDC-02336/2020|EPI_ISL_435088|2020-03-29\"], [\"hCoV-19/India/RMRC49/2020|EPI_ISL_455478|2020-04-09\"]], \"hovertemplate\": \"color=Odisha<br>x=%{x}<br>y=%{y}<br>ID=%{customdata[0]}<extra></extra>\", \"legendgroup\": \"Odisha\", \"marker\": {\"color\": \"blue\", \"symbol\": \"circle\"}, \"mode\": \"markers\", \"name\": \"Odisha\", \"orientation\": \"v\", \"showlegend\": true, \"type\": \"scatter\", \"x\": [68.08048857133844, 48.70839123041322, 71.81425899995394, 46.23968261667367, -1.5851707181035497, 17.961536684877533, 8.4834663527494, -1.1057827656837453, 8.478298461528336, -1.8854480837692473, -1.8009991499563676, 37.344524070322834, -0.5702071582375862, 1.15284505538359, 12.11569223402763, -1.0828632542697771, -1.6887561214448235, 10.053569975555977, -3.7981448376280644, -2.010749205520693, -1.8479705550121182, -2.0062213928317245, -1.8028583242396952, -1.540477747481558, 12.886680048504195, -1.6440340030116674, -1.0882329610931454, 35.15392593631877, 19.079695768632227, 10.215116877970534, -3.66058492357961, -2.2149202762059494, -2.009847567839969, -3.944217356190845, -3.5444037023601296, -3.4857560384915, 67.979049458567, -0.14212238366830934, -1.946104201717314, -1.8209347959637585, 65.30394136430762, -1.909625040407447, -2.0241789808881396, 51.864160808747556, 1.0361885526688528, -4.137736393897569], \"xaxis\": \"x\", \"y\": [-4.380944017034702, -4.432531742613974, -2.573652163526212, -2.537567488348315, -3.1010780550865094, -3.0171664882510516, -3.817540316144556, -3.2195410178975967, -3.802144990808345, -4.465083868272551, -4.430899724773166, -6.111133456762373, -4.54398898993339, -3.2459966067991073, -4.017687888572242, -3.1376513353245743, -3.0895665600276265, -3.973446439556305, -2.530852313725154, -2.9932666176623237, -4.462769562948578, -2.9957232153411315, -3.127127812491542, -0.9880942074623077, -4.110971200598739, -3.1076346131402817, -4.630442524089284, -3.8912209107166813, -5.162829028692227, -5.75993403998746, -4.422624917422236, -4.706065468018847, -4.830590815588735, -4.171927194932761, -4.41986324355041, -4.534445335162951, -6.0917829944459285, -4.922153021792923, -4.636057530976153, -4.8262590961690215, -4.235927441525171, -4.408423929979833, -4.4007706698623625, -6.027178771213584, -0.17402398663238455, -0.2627188969817995], \"yaxis\": \"y\"}, {\"customdata\": [[\"hCoV-19/India/MaxCov0003_CSIR-IGIB/2020|EPI_ISL_459911|2020-05-09\"], [\"hCoV-19/India/MaxCov0008_CSIR-IGIB/2020|EPI_ISL_459912|2020-05-07\"], [\"hCoV-19/India/MaxCov0010_CSIR-IGIB/2020|EPI_ISL_459913|2020-05-03\"], [\"hCoV-19/India/MaxCov0012_CSIR-IGIB/2020|EPI_ISL_459914|2020-05-01\"], [\"hCoV-19/India/MaxCov0013_CSIR-IGIB/2020|EPI_ISL_459915|2020-05-12\"], [\"hCoV-19/India/MaxCov0014_CSIR-IGIB/2020|EPI_ISL_459916|2020-05-12\"], [\"hCoV-19/India/MaxCov0015_CSIR-IGIB/2020|EPI_ISL_459917|2020-05-08\"], [\"hCoV-19/India/MaxCov0016_CSIR-IGIB/2020|EPI_ISL_459918|2020-05-09\"], [\"hCoV-19/India/MaxCov0017_CSIR-IGIB/2020|EPI_ISL_459919|2020-05-21\"], [\"hCoV-19/India/MaxCov0018_CSIR-IGIB/2020|EPI_ISL_459920|2020-05-21\"], [\"hCoV-19/India/MaxCov0019_CSIR-IGIB/2020|EPI_ISL_459921|2020-05-08\"], [\"hCoV-19/India/MaxCov0020_CSIR-IGIB/2020|EPI_ISL_459922|2020-05-10\"], [\"hCoV-19/India/MaxCov0021_CSIR-IGIB/2020|EPI_ISL_459923|2020-05-08\"], [\"hCoV-19/India/MaxCov0022_CSIR-IGIB/2020|EPI_ISL_459924|2020-05-08\"], [\"hCoV-19/India/MaxCov0023_CSIR-IGIB/2020|EPI_ISL_459925|2020-05-08\"], [\"hCoV-19/India/MaxCov0029_CSIR-IGIB/2020|EPI_ISL_459931|2020-05-09\"], [\"hCoV-19/India/MaxCov0030_CSIR-IGIB/2020|EPI_ISL_459932|2020-05-13\"], [\"hCoV-19/India/MaxCov0031_CSIR-IGIB/2020|EPI_ISL_459933|2020-05-05\"], [\"hCoV-19/India/MaxCov0032_CSIR-IGIB/2020|EPI_ISL_459934|2020-05-05\"], [\"hCoV-19/India/MaxCov0033_CSIR-IGIB/2020|EPI_ISL_459935|2020-05-06\"], [\"hCoV-19/India/MaxCov0034_CSIR-IGIB/2020|EPI_ISL_459936|2020-05-10\"], [\"hCoV-19/India/MaxCov0035_CSIR-IGIB/2020|EPI_ISL_459937|2020-05-10\"], [\"hCoV-19/India/MaxCov0036_CSIR-IGIB/2020|EPI_ISL_459938|2020-05-11\"], [\"hCoV-19/India/MaxCov0037_CSIR-IGIB/2020|EPI_ISL_459939|2020-05-11\"], [\"hCoV-19/India/MaxCov0038_CSIR-IGIB/2020|EPI_ISL_459940|2020-05-10\"], [\"hCoV-19/India/MaxCov0039_CSIR-IGIB/2020|EPI_ISL_459941|2020-05-11\"], [\"hCoV-19/India/MaxCov0040_CSIR-IGIB/2020|EPI_ISL_459942|2020-04-27\"], [\"hCoV-19/India/MaxCov0041_CSIR-IGIB/2020|EPI_ISL_459943|2020-05-01\"], [\"hCoV-19/India/MaxCov0042_CSIR-IGIB/2020|EPI_ISL_459944|2020-05-01\"], [\"hCoV-19/India/NCDC-01710/2020|EPI_ISL_435070|2020-03-18\"], [\"hCoV-19/India/NCDC-02105/2020|EPI_ISL_435071|2020-03-25\"], [\"hCoV-19/India/NCDC-02155/2020|EPI_ISL_435072|2020-03-26\"], [\"hCoV-19/India/NCDC-02157/2020|EPI_ISL_435073|2020-03-26\"], [\"hCoV-19/India/NCDC-01457/2020|EPI_ISL_435108|2020-03-15\"], [\"hCoV-19/India/NCDC-01638/2020|EPI_ISL_435109|2020-03-17\"], [\"hCoV-19/India/NCDC-01501/2020|EPI_ISL_435110|2020-03-16\"], [\"hCoV-19/India/NCDC-02415/2020|EPI_ISL_435111|2020-03-30\"], [\"hCoV-19/India/NCDC-3982/2020|EPI_ISL_436445|2020-04-09\"], [\"hCoV-19/India/NCDC-4138/2020|EPI_ISL_436448|2020-04-12\"], [\"hCoV-19/India/NCDC-4189/2020|EPI_ISL_436450|2020-04-13\"], [\"hCoV-19/India/NCDC-4205/2020|EPI_ISL_436451|2020-04-13\"], [\"hCoV-19/India/NCDC-4208/2020|EPI_ISL_436452|2020-04-14\"], [\"hCoV-19/India/NCDC-4475/2020|EPI_ISL_436454|2020-04-13\"], [\"hCoV-19/India/NCDC-4476/2020|EPI_ISL_436455|2020-04-13\"], [\"hCoV-19/India/NCDC-01537/2020|EPI_ISL_435061|2020-03-16\"], [\"hCoV-19/India/NCDC-01326/2020|EPI_ISL_435063|2020-03-13\"], [\"hCoV-19/India/NCDC-01705/2020|EPI_ISL_435064|2020-03-18\"], [\"hCoV-19/India/NCDC-01475/2020|EPI_ISL_435065|2020-03-15\"], [\"hCoV-19/India/NCDC-01711/2020|EPI_ISL_435066|2020-03-18\"], [\"hCoV-19/India/NCDC-01712/2020|EPI_ISL_435067|2020-03-18\"], [\"hCoV-19/India/NCDC-01757/2020|EPI_ISL_435068|2020-03-18\"], [\"hCoV-19/India/NCDC-01744/2020|EPI_ISL_435069|2020-03-18\"], [\"hCoV-19/India/NCDC-2507/2020|EPI_ISL_436415|2020-03-31\"], [\"hCoV-19/India/NCDC-3162/2020|EPI_ISL_436423|2020-04-05\"], [\"hCoV-19/India/NCDC-3163/2020|EPI_ISL_436424|2020-04-05\"], [\"hCoV-19/India/NCDC-3170/2020|EPI_ISL_436425|2020-04-05\"], [\"hCoV-19/India/NCDC-3175/2020|EPI_ISL_436426|2020-04-05\"], [\"hCoV-19/India/NCDC-3176/2020|EPI_ISL_436427|2020-04-05\"], [\"hCoV-19/India/NCDC-3181/2020|EPI_ISL_436428|2020-04-05\"], [\"hCoV-19/India/NCDC-3190/2020|EPI_ISL_436429|2020-04-05\"], [\"hCoV-19/India/NCDC-3195/2020|EPI_ISL_436430|2020-04-05\"], [\"hCoV-19/India/NCDC-3230/2020|EPI_ISL_436431|2020-04-05\"], [\"hCoV-19/India/NCDC-3264/2020|EPI_ISL_436432|2020-04-05\"], [\"hCoV-19/India/NCDC-3271/2020|EPI_ISL_436433|2020-04-05\"], [\"hCoV-19/India/NCDC-3279/2020|EPI_ISL_436434|2020-04-05\"], [\"hCoV-19/India/NCDC-3394/2020|EPI_ISL_436435|2020-04-09\"], [\"hCoV-19/India/NCDC-3400/2020|EPI_ISL_436436|2020-04-06\"], [\"hCoV-19/India/NCDC-3831/2020|EPI_ISL_436437|2020-04-08\"], [\"hCoV-19/India/MaxCov0043_CSIR-IGIB/2020|EPI_ISL_459945|2020-04-29\"], [\"hCoV-19/India/MaxCov0044_CSIR-IGIB/2020|EPI_ISL_459946|2020-04-27\"], [\"hCoV-19/India/MaxCov0045_CSIR-IGIB/2020|EPI_ISL_459947|2020-04-28\"], [\"hCoV-19/India/MaxCov0046_CSIR-IGIB/2020|EPI_ISL_459948|2020-05-06\"], [\"hCoV-19/India/MaxCov0047_CSIR-IGIB/2020|EPI_ISL_459949|2020-04-27\"], [\"hCoV-19/India/MaxCov0048_CSIR-IGIB/2020|EPI_ISL_459950|2020-05-01\"], [\"hCoV-19/India/MaxCov0049_CSIR-IGIB/2020|EPI_ISL_459951|2020-05-01\"], [\"hCoV-19/India/MaxCov0050_CSIR-IGIB/2020|EPI_ISL_459952|2020-05-18\"]], \"hovertemplate\": \"color=Delhi<br>x=%{x}<br>y=%{y}<br>ID=%{customdata[0]}<extra></extra>\", \"legendgroup\": \"Delhi\", \"marker\": {\"color\": \"purple\", \"symbol\": \"circle\"}, \"mode\": \"markers\", \"name\": \"Delhi\", \"orientation\": \"v\", \"showlegend\": true, \"type\": \"scatter\", \"x\": [-2.993590992005479, 28.01122094455742, -1.9570730649881662, -1.0514507735226755, -3.9065097315832786, -3.06872642663984, -2.869410919628827, -3.5381161824010943, -3.8662527211065165, -3.526619166162501, -3.8941800428794435, -3.401333794550271, -3.055443854800836, -3.361674874537172, 1.6339094443899693, 2.3742949485429996, -1.5350303223365867, -3.1661853794844057, -2.9037906299563874, -2.789069586714618, 2.016151572873718, -1.3668016083157688, 0.3770217184478102, -0.5564236841757313, -2.682890061177925, -3.0826884109130033, -3.3267766747859926, -3.307396610802649, 2.9212913961382143, -1.3268772678229488, -3.935994096093617, 0.2546150485683072, 20.217824070618317, -2.6688657674022553, -0.2806895654902696, 1.7496456118522319, -3.2972327246008386, -2.502566771692143, -3.8056356152796105, -3.9075108503960103, -3.382369579053534, -3.740587193978155, -3.6414957132024677, -3.817634883751636, -3.733286989949883, -3.509465389306768, -3.953042763110037, -2.3348428665298635, -3.594224400567246, -3.3629136039726184, -3.9056900244348594, -3.584916962515744, -1.3602274356662034, 19.66871729279524, -2.593434473178733, -3.5950270525667793, -3.1338689590753783, 12.93397409467479, -2.825162044509388, -1.893699515035062, -2.756070916866633, -3.0333337462330547, 0.9548060246220691, -3.022934144896311, 4.414386029651172, -2.13348356681895, 1.9259146574623298, -0.13907022493685228, 1.7770969917108135, 7.654151331227906, 3.884526015601416, 8.592252030610595, 9.157461935801654, 10.659942583010116, 12.07291929120908, 5.800194201154941], \"xaxis\": \"x\", \"y\": [-0.3907841442130256, 1.15788808642326, -3.047877080861849, -2.9488792504977837, 25.410284044069385, -1.1126804504325922, 25.47105382174023, 25.443752568569856, 25.457174466757692, 25.501340687237658, 25.331073502353405, 25.382519704901533, 25.340532659956317, 23.880724968937617, 25.781084394860663, 0.32064842806049143, 25.36110079053519, 25.46590911945319, 25.539245574104218, 25.454422060758986, 0.4137651957565256, 0.09903988275752748, 13.43836781532392, 0.23368436078100224, 25.362068843358713, 25.43310443165402, 25.387588663385266, 25.454883819794798, 0.13525865409479382, -3.4547630883431, -3.6241534756995772, -3.621776223233576, -3.581350478456993, -1.5668489188124777, -2.511410518265592, -2.364762951460357, -2.1427671717742114, -0.4022748528207816, 0.9736640011161684, 12.109594866792813, 1.7247851707527675, -0.10800397619169592, -3.514491146861154, -3.54091488197024, -3.515056222904415, -3.775667572478935, -3.6728027403120573, -4.136782492780327, -4.143423337708122, -4.192823919751404, -4.1619612282737695, -4.094054191844926, -0.2563845038816904, -1.4718273833034827, 0.6957130660339429, 0.8956262896911206, 0.7983171068352892, -1.3606045357918932, -0.19083210153881885, -0.6292917859294077, 1.0034760773560394, 0.029249680610017356, 0.18973368463087376, 1.7393564330722395, -1.6909413036833658, -0.03870767706513108, -0.9105828702669936, -0.37487974404381336, 0.17898106074073483, 0.2231862729672465, 0.33581851402061985, 0.3738694190791422, 0.3545010640354015, 0.4144847427011782, 0.3866095817693016, 0.40037932728969644], \"yaxis\": \"y\"}, {\"customdata\": [[\"hCoV-19/India/nimh-0113/2020|EPI_ISL_428479|2020-04-06\"], [\"hCoV-19/India/nimh-0116/2020|EPI_ISL_428480|2020-04-06\"], [\"hCoV-19/India/nimh-0130/2020|EPI_ISL_428481|2020-04-06\"], [\"hCoV-19/India/nimh-0182/2020|EPI_ISL_428482|2020-04-08\"], [\"hCoV-19/India/nimh-0318/2020|EPI_ISL_428483|2020-04-10\"], [\"hCoV-19/India/nimh-0351/2020|EPI_ISL_428484|2020-04-10\"], [\"hCoV-19/India/nimh-0834/2020|EPI_ISL_428485|2020-04-12\"], [\"hCoV-19/India/nimh-0996/2020|EPI_ISL_428486|2020-04-14\"], [\"hCoV-19/India/nimh-1071/2020|EPI_ISL_428487|2020-04-14\"], [\"hCoV-19/India/nimh-4376/2020|EPI_ISL_436140|2020-04-24\"], [\"hCoV-19/India/nimh-4378/2020|EPI_ISL_436141|2020-04-24\"], [\"hCoV-19/India/NCDC-4055/2020|EPI_ISL_436447|2020-04-10\"], [\"hCoV-19/India/nimh-2873/2020|EPI_ISL_436137|2020-04-21\"], [\"hCoV-19/India/nimh-3952/2020|EPI_ISL_436138|2020-04-23\"], [\"hCoV-19/India/nimh-3970/2020|EPI_ISL_436139|2020-04-23\"], [\"hCoV-19/India/nimh-1596/2020|EPI_ISL_436156|2020-04-17\"], [\"hCoV-19/India/nimh-1598/2020|EPI_ISL_436157|2020-04-17\"]], \"hovertemplate\": \"color=Karnataka<br>x=%{x}<br>y=%{y}<br>ID=%{customdata[0]}<extra></extra>\", \"legendgroup\": \"Karnataka\", \"marker\": {\"color\": \"black\", \"symbol\": \"circle\"}, \"mode\": \"markers\", \"name\": \"Karnataka\", \"orientation\": \"v\", \"showlegend\": true, \"type\": \"scatter\", \"x\": [2.441618260845631, 32.56161264640638, -0.9151935353718706, -2.042684096913144, 3.0080902319610394, 3.563531257040024, 43.42160714927992, 1.7583939918470453, 3.1973536534691114, 2.853333417319527, 2.99001513668552, -2.965368677836328, 2.890978170748177, 3.015582353960449, 2.972239253666713, 2.885960747389677, -0.09544932555427371], \"xaxis\": \"x\", \"y\": [-3.9450418287152926, -3.7467374408284218, -3.8691424657867612, -3.8865599584056145, -0.4337544929840387, -1.0597438563355224, -4.115898785373999, -0.7929827759157371, -0.8461660730137233, -3.84796829996299, -3.8470939333860583, 0.1447491340567727, -1.1400754090781184, -4.094645590843379, -4.0879994143192455, -0.9214139541206651, -0.902487386041472], \"yaxis\": \"y\"}, {\"customdata\": [[\"hCoV-19/India/NCDC-02329/2020|EPI_ISL_435076|2020-03-29\"], [\"hCoV-19/India/THSTI-BAL_39/2020|EPI_ISL_454858|2020-04-07\"], [\"hCoV-19/India/THSTI-BAL_41/2020|EPI_ISL_454859|2020-04-07\"], [\"hCoV-19/India/THSTI-BAL_42/2020|EPI_ISL_454860|2020-04-07\"], [\"hCoV-19/India/THSTI-BAL_47/2020|EPI_ISL_454861|2020-04-07\"], [\"hCoV-19/India/THSTI-BAL_231/2020|EPI_ISL_454862|2020-04-11\"], [\"hCoV-19/India/THSTI-BAL_360/2020|EPI_ISL_454863|2020-04-13\"], [\"hCoV-19/India/THSTI-BAL_912/2020|EPI_ISL_454864|2020-04-16\"], [\"hCoV-19/India/THSTI-BAL_913/2020|EPI_ISL_454865|2020-04-16\"], [\"hCoV-19/India/THSTI-BAL_914/2020|EPI_ISL_454866|2020-04-16\"], [\"hCoV-19/India/THSTI-BAL_918/2020|EPI_ISL_454867|2020-04-16\"]], \"hovertemplate\": \"color=Haryana<br>x=%{x}<br>y=%{y}<br>ID=%{customdata[0]}<extra></extra>\", \"legendgroup\": \"Haryana\", \"marker\": {\"color\": \"pink\", \"symbol\": \"circle\"}, \"mode\": \"markers\", \"name\": \"Haryana\", \"orientation\": \"v\", \"showlegend\": true, \"type\": \"scatter\", \"x\": [3.7201599118926922, -1.5325437289441262, 7.40970091475739, 11.954507591509426, 3.7785105680701028, -3.114418739320636, 20.107095215971736, 16.832897424487033, 3.0182581476545067, -3.0518430509601333, -3.110228372052853], \"xaxis\": \"x\", \"y\": [-0.936077544767827, -0.4268279402059189, -0.7938058734118735, -0.5262834211698003, -0.5081954881720948, -0.4032416975717463, 0.9528324462918506, -0.7310193817832024, -0.6602544143494632, -0.43773165313708334, -0.45993433639559445], \"yaxis\": \"y\"}, {\"customdata\": [[\"hCoV-19/India/NCDC-02323/2020|EPI_ISL_435089|2020-03-29\"], [\"hCoV-19/India/NCDC-3936/2020|EPI_ISL_436440|2020-04-09\"]], \"hovertemplate\": \"color=Andhra Pradesh<br>x=%{x}<br>y=%{y}<br>ID=%{customdata[0]}<extra></extra>\", \"legendgroup\": \"Andhra Pradesh\", \"marker\": {\"color\": \"#FFA15A\", \"symbol\": \"circle\"}, \"mode\": \"markers\", \"name\": \"Andhra Pradesh\", \"orientation\": \"v\", \"showlegend\": true, \"type\": \"scatter\", \"x\": [18.62678642725503, -3.5351220560353154], \"xaxis\": \"x\", \"y\": [0.8152553981900353, -0.062341424765711265], \"yaxis\": \"y\"}, {\"customdata\": [[\"hCoV-19/India/NCDC-02370/2020|EPI_ISL_435107|2020-03-29\"]], \"hovertemplate\": \"color=Kargil<br>x=%{x}<br>y=%{y}<br>ID=%{customdata[0]}<extra></extra>\", \"legendgroup\": \"Kargil\", \"marker\": {\"color\": \"#19d3f3\", \"symbol\": \"circle\"}, \"mode\": \"markers\", \"name\": \"Kargil\", \"orientation\": \"v\", \"showlegend\": true, \"type\": \"scatter\", \"x\": [3.8197712643193347], \"xaxis\": \"x\", \"y\": [-1.4249431561139665], \"yaxis\": \"y\"}, {\"customdata\": [[\"hCoV-19/India/NCDC-02251/2020|EPI_ISL_435112|2020-03-28\"], [\"hCoV-19/India/NCDC-3934/2020|EPI_ISL_436439|2020-04-09\"], [\"hCoV-19/India/NCDC-3941/2020|EPI_ISL_436441|2020-04-09\"], [\"hCoV-19/India/NCDC-4155/2020|EPI_ISL_436449|2020-04-12\"], [\"hCoV-19/India/NCDC-2515/2020|EPI_ISL_436417|2020-03-31\"], [\"hCoV-19/India/NCDC-2519/2020|EPI_ISL_436419|2020-03-31\"]], \"hovertemplate\": \"color=Bihar<br>x=%{x}<br>y=%{y}<br>ID=%{customdata[0]}<extra></extra>\", \"legendgroup\": \"Bihar\", \"marker\": {\"color\": \"#FF6692\", \"symbol\": \"circle\"}, \"mode\": \"markers\", \"name\": \"Bihar\", \"orientation\": \"v\", \"showlegend\": true, \"type\": \"scatter\", \"x\": [-2.914786363806349, 9.092576825798304, 3.8319971835249986, -3.497881952171058, -0.10372701382122322, -0.9869659837919968], \"xaxis\": \"x\", \"y\": [-0.054032670964647186, -0.6979054158809728, -0.13671389992166902, 0.8844264635978267, 0.13925911819509257, 0.03695042176945534], \"yaxis\": \"y\"}, {\"customdata\": [[\"hCoV-19/India/1-27/2020|EPI_ISL_413522|2020-01-27\"], [\"hCoV-19/India/1-31/2020|EPI_ISL_413523|2020-01-31\"]], \"hovertemplate\": \"color=Kerala<br>x=%{x}<br>y=%{y}<br>ID=%{customdata[0]}<extra></extra>\", \"legendgroup\": \"Kerala\", \"marker\": {\"color\": \"#B6E880\", \"symbol\": \"circle\"}, \"mode\": \"markers\", \"name\": \"Kerala\", \"orientation\": \"v\", \"showlegend\": true, \"type\": \"scatter\", \"x\": [-3.7645142166648338, -3.721695480628626], \"xaxis\": \"x\", \"y\": [-1.9644647175467649, -2.217608109583901], \"yaxis\": \"y\"}, {\"customdata\": [[\"hCoV-19/India/NCDC-01538/2020|EPI_ISL_435062|2020-03-16\"]], \"hovertemplate\": \"color=Punjab<br>x=%{x}<br>y=%{y}<br>ID=%{customdata[0]}<extra></extra>\", \"legendgroup\": \"Punjab\", \"marker\": {\"color\": \"#FF97FF\", \"symbol\": \"circle\"}, \"mode\": \"markers\", \"name\": \"Punjab\", \"orientation\": \"v\", \"showlegend\": true, \"type\": \"scatter\", \"x\": [-3.016849415880965], \"xaxis\": \"x\", \"y\": [-3.601904072595545], \"yaxis\": \"y\"}, {\"customdata\": [[\"hCoV-19/India/NCDC-01441/2020|EPI_ISL_435101|2020-03-15\"], [\"hCoV-19/India/NCDC-01444/2020|EPI_ISL_435102|2020-03-15\"], [\"hCoV-19/India/NCDC-01604/2020|EPI_ISL_435103|2020-03-17\"], [\"hCoV-19/India/NCDC-01614/2020|EPI_ISL_435104|2020-03-17\"], [\"hCoV-19/India/NCDC-01616/2020|EPI_ISL_435105|2020-03-17\"], [\"hCoV-19/India/NCDC-01760/2020|EPI_ISL_435106|2020-03-18\"]], \"hovertemplate\": \"color=Ladakh<br>x=%{x}<br>y=%{y}<br>ID=%{customdata[0]}<extra></extra>\", \"legendgroup\": \"Ladakh\", \"marker\": {\"color\": \"#FECB52\", \"symbol\": \"circle\"}, \"mode\": \"markers\", \"name\": \"Ladakh\", \"orientation\": \"v\", \"showlegend\": true, \"type\": \"scatter\", \"x\": [-3.5948441427725304, -2.259562948011077, -3.252096497732134, -2.861904008434309, -3.590305557442792, 2.190052796107864], \"xaxis\": \"x\", \"y\": [-1.7200886337941885, -1.762948252282606, -1.7353058261869188, -1.7450354938400003, -1.7569010394446236, -1.9202051931533004], \"yaxis\": \"y\"}, {\"customdata\": [[\"hCoV-19/India/NCDC-2525/2020|EPI_ISL_436421|2020-03-31\"], [\"hCoV-19/India/NCDC-2535/2020|EPI_ISL_436422|2020-03-31\"]], \"hovertemplate\": \"color=Assam<br>x=%{x}<br>y=%{y}<br>ID=%{customdata[0]}<extra></extra>\", \"legendgroup\": \"Assam\", \"marker\": {\"color\": \"#636efa\", \"symbol\": \"circle\"}, \"mode\": \"markers\", \"name\": \"Assam\", \"orientation\": \"v\", \"showlegend\": true, \"type\": \"scatter\", \"x\": [-2.740152222308385, -2.891552035866547], \"xaxis\": \"x\", \"y\": [-0.39842637074223347, 1.0084332372217437], \"yaxis\": \"y\"}],\n",
       "                        {\"legend\": {\"title\": {\"text\": \"color\"}, \"tracegroupgap\": 0}, \"template\": {\"data\": {\"bar\": [{\"error_x\": {\"color\": \"#2a3f5f\"}, \"error_y\": {\"color\": \"#2a3f5f\"}, \"marker\": {\"line\": {\"color\": \"#E5ECF6\", \"width\": 0.5}}, \"type\": \"bar\"}], \"barpolar\": [{\"marker\": {\"line\": {\"color\": \"#E5ECF6\", \"width\": 0.5}}, \"type\": \"barpolar\"}], \"carpet\": [{\"aaxis\": {\"endlinecolor\": \"#2a3f5f\", \"gridcolor\": \"white\", \"linecolor\": \"white\", \"minorgridcolor\": \"white\", \"startlinecolor\": \"#2a3f5f\"}, \"baxis\": {\"endlinecolor\": \"#2a3f5f\", \"gridcolor\": \"white\", \"linecolor\": \"white\", \"minorgridcolor\": \"white\", \"startlinecolor\": \"#2a3f5f\"}, \"type\": \"carpet\"}], \"choropleth\": [{\"colorbar\": {\"outlinewidth\": 0, \"ticks\": \"\"}, \"type\": \"choropleth\"}], \"contour\": [{\"colorbar\": {\"outlinewidth\": 0, \"ticks\": \"\"}, \"colorscale\": [[0.0, \"#0d0887\"], [0.1111111111111111, \"#46039f\"], [0.2222222222222222, \"#7201a8\"], [0.3333333333333333, \"#9c179e\"], [0.4444444444444444, \"#bd3786\"], [0.5555555555555556, \"#d8576b\"], [0.6666666666666666, \"#ed7953\"], [0.7777777777777778, \"#fb9f3a\"], [0.8888888888888888, \"#fdca26\"], [1.0, \"#f0f921\"]], \"type\": \"contour\"}], \"contourcarpet\": [{\"colorbar\": {\"outlinewidth\": 0, \"ticks\": \"\"}, \"type\": \"contourcarpet\"}], \"heatmap\": [{\"colorbar\": {\"outlinewidth\": 0, \"ticks\": \"\"}, \"colorscale\": [[0.0, \"#0d0887\"], [0.1111111111111111, \"#46039f\"], [0.2222222222222222, \"#7201a8\"], [0.3333333333333333, \"#9c179e\"], [0.4444444444444444, \"#bd3786\"], [0.5555555555555556, \"#d8576b\"], [0.6666666666666666, \"#ed7953\"], [0.7777777777777778, \"#fb9f3a\"], [0.8888888888888888, \"#fdca26\"], [1.0, \"#f0f921\"]], \"type\": \"heatmap\"}], \"heatmapgl\": [{\"colorbar\": {\"outlinewidth\": 0, \"ticks\": \"\"}, \"colorscale\": [[0.0, \"#0d0887\"], [0.1111111111111111, \"#46039f\"], [0.2222222222222222, \"#7201a8\"], [0.3333333333333333, \"#9c179e\"], [0.4444444444444444, \"#bd3786\"], [0.5555555555555556, \"#d8576b\"], [0.6666666666666666, \"#ed7953\"], [0.7777777777777778, \"#fb9f3a\"], [0.8888888888888888, \"#fdca26\"], [1.0, \"#f0f921\"]], \"type\": \"heatmapgl\"}], \"histogram\": [{\"marker\": {\"colorbar\": {\"outlinewidth\": 0, \"ticks\": \"\"}}, \"type\": \"histogram\"}], \"histogram2d\": [{\"colorbar\": {\"outlinewidth\": 0, \"ticks\": \"\"}, \"colorscale\": [[0.0, \"#0d0887\"], [0.1111111111111111, \"#46039f\"], [0.2222222222222222, \"#7201a8\"], [0.3333333333333333, \"#9c179e\"], [0.4444444444444444, \"#bd3786\"], [0.5555555555555556, \"#d8576b\"], [0.6666666666666666, \"#ed7953\"], [0.7777777777777778, \"#fb9f3a\"], [0.8888888888888888, \"#fdca26\"], [1.0, \"#f0f921\"]], \"type\": \"histogram2d\"}], \"histogram2dcontour\": [{\"colorbar\": {\"outlinewidth\": 0, \"ticks\": \"\"}, \"colorscale\": [[0.0, \"#0d0887\"], [0.1111111111111111, \"#46039f\"], [0.2222222222222222, \"#7201a8\"], [0.3333333333333333, \"#9c179e\"], [0.4444444444444444, \"#bd3786\"], [0.5555555555555556, \"#d8576b\"], [0.6666666666666666, \"#ed7953\"], [0.7777777777777778, \"#fb9f3a\"], [0.8888888888888888, \"#fdca26\"], [1.0, \"#f0f921\"]], \"type\": \"histogram2dcontour\"}], \"mesh3d\": [{\"colorbar\": {\"outlinewidth\": 0, \"ticks\": \"\"}, \"type\": \"mesh3d\"}], \"parcoords\": [{\"line\": {\"colorbar\": {\"outlinewidth\": 0, \"ticks\": \"\"}}, \"type\": \"parcoords\"}], \"pie\": [{\"automargin\": true, \"type\": \"pie\"}], \"scatter\": [{\"marker\": {\"colorbar\": {\"outlinewidth\": 0, \"ticks\": \"\"}}, \"type\": \"scatter\"}], \"scatter3d\": [{\"line\": {\"colorbar\": {\"outlinewidth\": 0, \"ticks\": \"\"}}, \"marker\": {\"colorbar\": {\"outlinewidth\": 0, \"ticks\": \"\"}}, \"type\": \"scatter3d\"}], \"scattercarpet\": [{\"marker\": {\"colorbar\": {\"outlinewidth\": 0, \"ticks\": \"\"}}, \"type\": \"scattercarpet\"}], \"scattergeo\": [{\"marker\": {\"colorbar\": {\"outlinewidth\": 0, \"ticks\": \"\"}}, \"type\": \"scattergeo\"}], \"scattergl\": [{\"marker\": {\"colorbar\": {\"outlinewidth\": 0, \"ticks\": \"\"}}, \"type\": \"scattergl\"}], \"scattermapbox\": [{\"marker\": {\"colorbar\": {\"outlinewidth\": 0, \"ticks\": \"\"}}, \"type\": \"scattermapbox\"}], \"scatterpolar\": [{\"marker\": {\"colorbar\": {\"outlinewidth\": 0, \"ticks\": \"\"}}, \"type\": \"scatterpolar\"}], \"scatterpolargl\": [{\"marker\": {\"colorbar\": {\"outlinewidth\": 0, \"ticks\": \"\"}}, \"type\": \"scatterpolargl\"}], \"scatterternary\": [{\"marker\": {\"colorbar\": {\"outlinewidth\": 0, \"ticks\": \"\"}}, \"type\": \"scatterternary\"}], \"surface\": [{\"colorbar\": {\"outlinewidth\": 0, \"ticks\": \"\"}, \"colorscale\": [[0.0, \"#0d0887\"], [0.1111111111111111, \"#46039f\"], [0.2222222222222222, \"#7201a8\"], [0.3333333333333333, \"#9c179e\"], [0.4444444444444444, \"#bd3786\"], [0.5555555555555556, \"#d8576b\"], [0.6666666666666666, \"#ed7953\"], [0.7777777777777778, \"#fb9f3a\"], [0.8888888888888888, \"#fdca26\"], [1.0, \"#f0f921\"]], \"type\": \"surface\"}], \"table\": [{\"cells\": {\"fill\": {\"color\": \"#EBF0F8\"}, \"line\": {\"color\": \"white\"}}, \"header\": {\"fill\": {\"color\": \"#C8D4E3\"}, \"line\": {\"color\": \"white\"}}, \"type\": \"table\"}]}, \"layout\": {\"annotationdefaults\": {\"arrowcolor\": \"#2a3f5f\", \"arrowhead\": 0, \"arrowwidth\": 1}, \"coloraxis\": {\"colorbar\": {\"outlinewidth\": 0, \"ticks\": \"\"}}, \"colorscale\": {\"diverging\": [[0, \"#8e0152\"], [0.1, \"#c51b7d\"], [0.2, \"#de77ae\"], [0.3, \"#f1b6da\"], [0.4, \"#fde0ef\"], [0.5, \"#f7f7f7\"], [0.6, \"#e6f5d0\"], [0.7, \"#b8e186\"], [0.8, \"#7fbc41\"], [0.9, \"#4d9221\"], [1, \"#276419\"]], \"sequential\": [[0.0, \"#0d0887\"], [0.1111111111111111, \"#46039f\"], [0.2222222222222222, \"#7201a8\"], [0.3333333333333333, \"#9c179e\"], [0.4444444444444444, \"#bd3786\"], [0.5555555555555556, \"#d8576b\"], [0.6666666666666666, \"#ed7953\"], [0.7777777777777778, \"#fb9f3a\"], [0.8888888888888888, \"#fdca26\"], [1.0, \"#f0f921\"]], \"sequentialminus\": [[0.0, \"#0d0887\"], [0.1111111111111111, \"#46039f\"], [0.2222222222222222, \"#7201a8\"], [0.3333333333333333, \"#9c179e\"], [0.4444444444444444, \"#bd3786\"], [0.5555555555555556, \"#d8576b\"], [0.6666666666666666, \"#ed7953\"], [0.7777777777777778, \"#fb9f3a\"], [0.8888888888888888, \"#fdca26\"], [1.0, \"#f0f921\"]]}, \"colorway\": [\"#636efa\", \"#EF553B\", \"#00cc96\", \"#ab63fa\", \"#FFA15A\", \"#19d3f3\", \"#FF6692\", \"#B6E880\", \"#FF97FF\", \"#FECB52\"], \"font\": {\"color\": \"#2a3f5f\"}, \"geo\": {\"bgcolor\": \"white\", \"lakecolor\": \"white\", \"landcolor\": \"#E5ECF6\", \"showlakes\": true, \"showland\": true, \"subunitcolor\": \"white\"}, \"hoverlabel\": {\"align\": \"left\"}, \"hovermode\": \"closest\", \"mapbox\": {\"style\": \"light\"}, \"paper_bgcolor\": \"white\", \"plot_bgcolor\": \"#E5ECF6\", \"polar\": {\"angularaxis\": {\"gridcolor\": \"white\", \"linecolor\": \"white\", \"ticks\": \"\"}, \"bgcolor\": \"#E5ECF6\", \"radialaxis\": {\"gridcolor\": \"white\", \"linecolor\": \"white\", \"ticks\": \"\"}}, \"scene\": {\"xaxis\": {\"backgroundcolor\": \"#E5ECF6\", \"gridcolor\": \"white\", \"gridwidth\": 2, \"linecolor\": \"white\", \"showbackground\": true, \"ticks\": \"\", \"zerolinecolor\": \"white\"}, \"yaxis\": {\"backgroundcolor\": \"#E5ECF6\", \"gridcolor\": \"white\", \"gridwidth\": 2, \"linecolor\": \"white\", \"showbackground\": true, \"ticks\": \"\", \"zerolinecolor\": \"white\"}, \"zaxis\": {\"backgroundcolor\": \"#E5ECF6\", \"gridcolor\": \"white\", \"gridwidth\": 2, \"linecolor\": \"white\", \"showbackground\": true, \"ticks\": \"\", \"zerolinecolor\": \"white\"}}, \"shapedefaults\": {\"line\": {\"color\": \"#2a3f5f\"}}, \"ternary\": {\"aaxis\": {\"gridcolor\": \"white\", \"linecolor\": \"white\", \"ticks\": \"\"}, \"baxis\": {\"gridcolor\": \"white\", \"linecolor\": \"white\", \"ticks\": \"\"}, \"bgcolor\": \"#E5ECF6\", \"caxis\": {\"gridcolor\": \"white\", \"linecolor\": \"white\", \"ticks\": \"\"}}, \"title\": {\"x\": 0.05}, \"xaxis\": {\"automargin\": true, \"gridcolor\": \"white\", \"linecolor\": \"white\", \"ticks\": \"\", \"title\": {\"standoff\": 15}, \"zerolinecolor\": \"white\", \"zerolinewidth\": 2}, \"yaxis\": {\"automargin\": true, \"gridcolor\": \"white\", \"linecolor\": \"white\", \"ticks\": \"\", \"title\": {\"standoff\": 15}, \"zerolinecolor\": \"white\", \"zerolinewidth\": 2}}}, \"title\": {\"text\": \"Principal Component Axis\"}, \"xaxis\": {\"anchor\": \"y\", \"domain\": [0.0, 1.0], \"title\": {\"text\": \"x\"}}, \"yaxis\": {\"anchor\": \"x\", \"domain\": [0.0, 1.0], \"title\": {\"text\": \"y\"}}},\n",
       "                        {\"responsive\": true}\n",
       "                    ).then(function(){\n",
       "                            \n",
       "var gd = document.getElementById('77951b5b-8d06-4b74-9662-6f8109ec82b3');\n",
       "var x = new MutationObserver(function (mutations, observer) {{\n",
       "        var display = window.getComputedStyle(gd).display;\n",
       "        if (!display || display === 'none') {{\n",
       "            console.log([gd, 'removed!']);\n",
       "            Plotly.purge(gd);\n",
       "            observer.disconnect();\n",
       "        }}\n",
       "}});\n",
       "\n",
       "// Listen for the removal of the full notebook cells\n",
       "var notebookContainer = gd.closest('#notebook-container');\n",
       "if (notebookContainer) {{\n",
       "    x.observe(notebookContainer, {childList: true});\n",
       "}}\n",
       "\n",
       "// Listen for the clearing of the current output cell\n",
       "var outputEl = gd.closest('.output');\n",
       "if (outputEl) {{\n",
       "    x.observe(outputEl, {childList: true});\n",
       "}}\n",
       "\n",
       "                        })\n",
       "                };\n",
       "                });\n",
       "            </script>\n",
       "        </div>"
      ]
     },
     "metadata": {},
     "output_type": "display_data"
    }
   ],
   "source": [
    "import plotly.express as px\n",
    "\n",
    "for_x = final_df.PC1.tolist()\n",
    "for_y = final_df.PC2.tolist()\n",
    "for_states = final_df.State.tolist()\n",
    "for_hover = final_df.StrainID.tolist()\n",
    "\n",
    "fig = px.scatter(x=for_x, y=for_y, color=for_states, hover_data= {\"ID\" :for_hover}, \n",
    "                 title=\"Principal Component Axis\",\n",
    "                color_discrete_map={\n",
    "                \"Stateless\": \"grey\",\n",
    "                \"Tamil Nadu\": \"green\",\n",
    "                \"Telangana\": \"red\",\n",
    "                \"Maharashtra\": \"orange\",\n",
    "                \"Gujarat\": \"magenta\",\n",
    "                \"Delhi\": \"purple\",\n",
    "                \"West Bengal\": \"aqua\",\n",
    "                \"Haryana\": \"pink\",\n",
    "                \"Odisha\": \"blue\",\n",
    "                \"Madhya Pradesh\": \"brown\",\n",
    "                \"Karnataka\": \"black\"})\n",
    "fig.show()\n"
   ]
  },
  {
   "attachments": {
    "image-2.png": {
     "image/png": "[encoded data removed]"
    },
    "image-3.png": {
     "image/png": "[encoded data removed]"
    },
    "image.png": {
     "image/png": "[encoded data removed]"
    }
   },
   "cell_type": "markdown",
   "metadata": {},
   "source": [
    "Even though the plot looks densely clustered, there are still a lot of obvious observations that you should be able to make.\n",
    "\n",
    "### The first one, is that for some reason the Blue dots (Odisha) are scattered away from the big main cluster.\n",
    "\n",
    "![image.png](attachment:image.png)\n",
    "\n",
    "### Also, we can observe a secondary cluster away from the primary cluster. On inspecting, we can see that the sequences forming this cluster are primarily from Telangana (red), Delhi (magenta), and Tamil Nadu (green).\n",
    "\n",
    "![image-2.png](attachment:image-2.png)\n",
    "\n",
    "### The third less obvious observation is that within the main cluster, there is a dense cluster of sequences from Gujarat.\n",
    "\n",
    "![image-3.png](attachment:image-3.png)"
   ]
  },
  {
   "cell_type": "markdown",
   "metadata": {},
   "source": [
    "## t-SNE"
   ]
  },
  {
   "cell_type": "code",
   "execution_count": 14,
   "metadata": {},
   "outputs": [],
   "source": [
    "from sklearn.manifold import TSNE\n",
    "\n",
    "# Use these parameters\n",
    "random_state = 0\n",
    "n_components = 2\n",
    "perplexity = 30\n",
    "n_iter = 10000\n",
    "\n",
    "####### Enter code below ####### \n",
    "\n",
    "# model = TSNE(n_components=2, random_state=random_state, perplexity=perplexity, n_iter=n_iter)\n",
    "# tsne_data = model.fit_transform(big_matrix)\n",
    "\n",
    "################################"
   ]
  },
  {
   "cell_type": "code",
   "execution_count": 18,
   "metadata": {},
   "outputs": [],
   "source": [
    "final_df = pd.DataFrame(columns=[\"StrainID\", \"X\", \"Y\", \"State\"])\n",
    "pca_df = pd.DataFrame(pca_data, index=[*sequences_name], columns = labels_all)\n",
    "\n",
    "i = 0\n",
    "for sample in pca_df.index:\n",
    "    \n",
    "    dicti = dict()\n",
    "    \n",
    "    dicti[\"StrainID\"] = sample\n",
    "    dicti[\"X\"] = tsne_data[i][0]\n",
    "    dicti[\"Y\"] = tsne_data[i][1]\n",
    "    dicti[\"State\"] = data[data[\"StrainID\"]==sample][\"State\"].tolist()[0]\n",
    "    \n",
    "    final_df = final_df.append(dicti, ignore_index = True)\n",
    "    i+=1\n",
    "\n",
    "final_df.tail()"
   ]
  },
  {
   "cell_type": "code",
   "execution_count": 17,
   "metadata": {},
   "outputs": [],
   "source": [
    "for_x = final_df.X.tolist()\n",
    "for_y = final_df.Y.tolist()\n",
    "for_states = final_df.State.tolist()\n",
    "for_hover = final_df.StrainID.tolist()\n",
    "\n",
    "fig = px.scatter(x=for_x, y=for_y, color=for_states, hover_data= {\"ID\" :for_hover}, \n",
    "                 title=\"Principal Component Axis\",\n",
    "                color_discrete_map={\n",
    "                \"Stateless\": \"grey\",\n",
    "                \"Tamil Nadu\": \"green\",\n",
    "                \"Telangana\": \"red\",\n",
    "                \"Maharashtra\": \"orange\",\n",
    "                \"Gujarat\": \"magenta\",\n",
    "                \"Delhi\": \"purple\",\n",
    "                \"West Bengal\": \"aqua\",\n",
    "                \"Haryana\": \"pink\",\n",
    "                \"Odisha\": \"blue\",\n",
    "                \"Madhya Pradesh\": \"brown\",\n",
    "                \"Karnataka\": \"black\"})\n",
    "fig.show()"
   ]
  },
  {
   "attachments": {
    "image.png": {
     "image/png": "[encoded data removed]"
    }
   },
   "cell_type": "markdown",
   "metadata": {},
   "source": [
    "You should get a plot similar to this:\n",
    "\n",
    "![image.png](attachment:image.png)\n",
    "\n",
    "**Does making the 3 observations become easier in this plot? \n",
    "Can you make any other new observations from this plot?**\n",
    "\n",
    "Make sure you tweak the parameters to find out if a certain different setting is allowing you to get a more interpretable plot."
   ]
  },
  {
   "cell_type": "markdown",
   "metadata": {},
   "source": [
    "# Mutation Profile based methods\n",
    "\n",
    "If you would have noticed, there is a column called Nuc_muts (Nucleotide mutations) in the INDIA_685.csv file. These are the specific mutations for each sequence which I have precomputed for you using the first SARS-CoV-2 sequence from Wuhan, China (https://www.ncbi.nlm.nih.gov/nuccore/NC_045512.2?report=fasta) as the reference.\n",
    "\n",
    "A mutation C453T in a sequence means that the original reference sequence from Wuhan had a C at position 453 whereas the sequence has a T at that position. \n",
    "\n",
    "Now instead of using kmers for sequences, this time we will use the **presence/absence of all mutations** found in our dataset to represent the genomes."
   ]
  },
  {
   "cell_type": "code",
   "execution_count": 19,
   "metadata": {},
   "outputs": [
    {
     "name": "stdout",
     "output_type": "stream",
     "text": [
      "1279\n"
     ]
    }
   ],
   "source": [
    "## First we need to get the list of all unique mutations observed in our dataset.\n",
    "\n",
    "mutations = []\n",
    "for i in range(len(data)):\n",
    "\n",
    "    sample_muts = data[\"Nuc_muts\"][i][1:][:-1].split(\",\")\n",
    "\n",
    "    for j in sample_muts:\n",
    "        mut = j.strip()[1:][:-1]\n",
    "        if(len(mut)>=2):\n",
    "            if(mut not in mutations):\n",
    "                mutations.append(mut)\n",
    "\n",
    "print(len(mutations))"
   ]
  },
  {
   "cell_type": "markdown",
   "metadata": {},
   "source": [
    "So there are 1279 unique mutations in our sequences. We can now represent each genome as a ```vector of size 1279 where each position indicates the presence (1) or absence (0) of a specific mutation```."
   ]
  },
  {
   "cell_type": "code",
   "execution_count": 20,
   "metadata": {},
   "outputs": [
    {
     "data": {
      "text/html": [
       "<div>\n",
       "<style scoped>\n",
       "    .dataframe tbody tr th:only-of-type {\n",
       "        vertical-align: middle;\n",
       "    }\n",
       "\n",
       "    .dataframe tbody tr th {\n",
       "        vertical-align: top;\n",
       "    }\n",
       "\n",
       "    .dataframe thead th {\n",
       "        text-align: right;\n",
       "    }\n",
       "</style>\n",
       "<table border=\"1\" class=\"dataframe\">\n",
       "  <thead>\n",
       "    <tr style=\"text-align: right;\">\n",
       "      <th></th>\n",
       "      <th>0</th>\n",
       "      <th>1</th>\n",
       "      <th>2</th>\n",
       "      <th>3</th>\n",
       "      <th>4</th>\n",
       "      <th>5</th>\n",
       "      <th>6</th>\n",
       "      <th>7</th>\n",
       "      <th>8</th>\n",
       "      <th>9</th>\n",
       "      <th>...</th>\n",
       "      <th>1269</th>\n",
       "      <th>1270</th>\n",
       "      <th>1271</th>\n",
       "      <th>1272</th>\n",
       "      <th>1273</th>\n",
       "      <th>1274</th>\n",
       "      <th>1275</th>\n",
       "      <th>1276</th>\n",
       "      <th>1277</th>\n",
       "      <th>1278</th>\n",
       "    </tr>\n",
       "  </thead>\n",
       "  <tbody>\n",
       "    <tr>\n",
       "      <th>hCoV-19/India/nimh-2873/2020|EPI_ISL_436137|2020-04-21</th>\n",
       "      <td>0</td>\n",
       "      <td>0</td>\n",
       "      <td>0</td>\n",
       "      <td>0</td>\n",
       "      <td>0</td>\n",
       "      <td>0</td>\n",
       "      <td>0</td>\n",
       "      <td>0</td>\n",
       "      <td>0</td>\n",
       "      <td>0</td>\n",
       "      <td>...</td>\n",
       "      <td>0</td>\n",
       "      <td>0</td>\n",
       "      <td>0</td>\n",
       "      <td>0</td>\n",
       "      <td>0</td>\n",
       "      <td>1</td>\n",
       "      <td>0</td>\n",
       "      <td>0</td>\n",
       "      <td>0</td>\n",
       "      <td>0</td>\n",
       "    </tr>\n",
       "    <tr>\n",
       "      <th>hCoV-19/India/nimh-3952/2020|EPI_ISL_436138|2020-04-23</th>\n",
       "      <td>0</td>\n",
       "      <td>0</td>\n",
       "      <td>0</td>\n",
       "      <td>0</td>\n",
       "      <td>0</td>\n",
       "      <td>0</td>\n",
       "      <td>0</td>\n",
       "      <td>0</td>\n",
       "      <td>0</td>\n",
       "      <td>0</td>\n",
       "      <td>...</td>\n",
       "      <td>0</td>\n",
       "      <td>0</td>\n",
       "      <td>0</td>\n",
       "      <td>0</td>\n",
       "      <td>0</td>\n",
       "      <td>0</td>\n",
       "      <td>1</td>\n",
       "      <td>1</td>\n",
       "      <td>1</td>\n",
       "      <td>0</td>\n",
       "    </tr>\n",
       "    <tr>\n",
       "      <th>hCoV-19/India/nimh-3970/2020|EPI_ISL_436139|2020-04-23</th>\n",
       "      <td>0</td>\n",
       "      <td>0</td>\n",
       "      <td>0</td>\n",
       "      <td>0</td>\n",
       "      <td>0</td>\n",
       "      <td>0</td>\n",
       "      <td>0</td>\n",
       "      <td>0</td>\n",
       "      <td>0</td>\n",
       "      <td>0</td>\n",
       "      <td>...</td>\n",
       "      <td>0</td>\n",
       "      <td>0</td>\n",
       "      <td>0</td>\n",
       "      <td>0</td>\n",
       "      <td>0</td>\n",
       "      <td>0</td>\n",
       "      <td>1</td>\n",
       "      <td>1</td>\n",
       "      <td>0</td>\n",
       "      <td>1</td>\n",
       "    </tr>\n",
       "    <tr>\n",
       "      <th>hCoV-19/India/nimh-4376/2020|EPI_ISL_436140|2020-04-24</th>\n",
       "      <td>0</td>\n",
       "      <td>0</td>\n",
       "      <td>0</td>\n",
       "      <td>0</td>\n",
       "      <td>0</td>\n",
       "      <td>0</td>\n",
       "      <td>0</td>\n",
       "      <td>0</td>\n",
       "      <td>0</td>\n",
       "      <td>0</td>\n",
       "      <td>...</td>\n",
       "      <td>0</td>\n",
       "      <td>0</td>\n",
       "      <td>0</td>\n",
       "      <td>0</td>\n",
       "      <td>0</td>\n",
       "      <td>0</td>\n",
       "      <td>1</td>\n",
       "      <td>1</td>\n",
       "      <td>0</td>\n",
       "      <td>0</td>\n",
       "    </tr>\n",
       "    <tr>\n",
       "      <th>hCoV-19/India/nimh-4378/2020|EPI_ISL_436141|2020-04-24</th>\n",
       "      <td>0</td>\n",
       "      <td>0</td>\n",
       "      <td>0</td>\n",
       "      <td>0</td>\n",
       "      <td>0</td>\n",
       "      <td>0</td>\n",
       "      <td>0</td>\n",
       "      <td>0</td>\n",
       "      <td>0</td>\n",
       "      <td>0</td>\n",
       "      <td>...</td>\n",
       "      <td>0</td>\n",
       "      <td>0</td>\n",
       "      <td>0</td>\n",
       "      <td>0</td>\n",
       "      <td>0</td>\n",
       "      <td>0</td>\n",
       "      <td>1</td>\n",
       "      <td>1</td>\n",
       "      <td>0</td>\n",
       "      <td>0</td>\n",
       "    </tr>\n",
       "  </tbody>\n",
       "</table>\n",
       "<p>5 rows × 1279 columns</p>\n",
       "</div>"
      ],
      "text/plain": [
       "                                                   0    1    2    3    4     \\\n",
       "hCoV-19/India/nimh-2873/2020|EPI_ISL_436137|202...    0    0    0    0    0   \n",
       "hCoV-19/India/nimh-3952/2020|EPI_ISL_436138|202...    0    0    0    0    0   \n",
       "hCoV-19/India/nimh-3970/2020|EPI_ISL_436139|202...    0    0    0    0    0   \n",
       "hCoV-19/India/nimh-4376/2020|EPI_ISL_436140|202...    0    0    0    0    0   \n",
       "hCoV-19/India/nimh-4378/2020|EPI_ISL_436141|202...    0    0    0    0    0   \n",
       "\n",
       "                                                   5    6    7    8    9     \\\n",
       "hCoV-19/India/nimh-2873/2020|EPI_ISL_436137|202...    0    0    0    0    0   \n",
       "hCoV-19/India/nimh-3952/2020|EPI_ISL_436138|202...    0    0    0    0    0   \n",
       "hCoV-19/India/nimh-3970/2020|EPI_ISL_436139|202...    0    0    0    0    0   \n",
       "hCoV-19/India/nimh-4376/2020|EPI_ISL_436140|202...    0    0    0    0    0   \n",
       "hCoV-19/India/nimh-4378/2020|EPI_ISL_436141|202...    0    0    0    0    0   \n",
       "\n",
       "                                                    ... 1269 1270 1271 1272  \\\n",
       "hCoV-19/India/nimh-2873/2020|EPI_ISL_436137|202...  ...    0    0    0    0   \n",
       "hCoV-19/India/nimh-3952/2020|EPI_ISL_436138|202...  ...    0    0    0    0   \n",
       "hCoV-19/India/nimh-3970/2020|EPI_ISL_436139|202...  ...    0    0    0    0   \n",
       "hCoV-19/India/nimh-4376/2020|EPI_ISL_436140|202...  ...    0    0    0    0   \n",
       "hCoV-19/India/nimh-4378/2020|EPI_ISL_436141|202...  ...    0    0    0    0   \n",
       "\n",
       "                                                   1273 1274 1275 1276 1277  \\\n",
       "hCoV-19/India/nimh-2873/2020|EPI_ISL_436137|202...    0    1    0    0    0   \n",
       "hCoV-19/India/nimh-3952/2020|EPI_ISL_436138|202...    0    0    1    1    1   \n",
       "hCoV-19/India/nimh-3970/2020|EPI_ISL_436139|202...    0    0    1    1    0   \n",
       "hCoV-19/India/nimh-4376/2020|EPI_ISL_436140|202...    0    0    1    1    0   \n",
       "hCoV-19/India/nimh-4378/2020|EPI_ISL_436141|202...    0    0    1    1    0   \n",
       "\n",
       "                                                   1278  \n",
       "hCoV-19/India/nimh-2873/2020|EPI_ISL_436137|202...    0  \n",
       "hCoV-19/India/nimh-3952/2020|EPI_ISL_436138|202...    0  \n",
       "hCoV-19/India/nimh-3970/2020|EPI_ISL_436139|202...    1  \n",
       "hCoV-19/India/nimh-4376/2020|EPI_ISL_436140|202...    0  \n",
       "hCoV-19/India/nimh-4378/2020|EPI_ISL_436141|202...    0  \n",
       "\n",
       "[5 rows x 1279 columns]"
      ]
     },
     "execution_count": 20,
     "metadata": {},
     "output_type": "execute_result"
    }
   ],
   "source": [
    "samplelist = data[\"StrainID\"].tolist()\n",
    "df = pd.DataFrame(columns = [*samplelist])\n",
    "df = df.replace(np.nan,0)\n",
    "\n",
    "for mutation in mutations:\n",
    "\n",
    "    dicti = dict(zip(samplelist, np.zeros(len(samplelist), dtype=int)))\n",
    "\n",
    "    for i in range(len(data)):\n",
    "        flag=0\n",
    "        strainid = data[\"StrainID\"][i]\n",
    "        sample_muts = data[\"Nuc_muts\"][i][1:][:-1].split(\",\")\n",
    "\n",
    "        for j in sample_muts:\n",
    "            mut = j.strip()[1:][:-1]\n",
    "            if(len(mut)>=2):\n",
    "                if(mut == mutation):\n",
    "                    flag = 1\n",
    "                    break\n",
    "\n",
    "        dicti[strainid]=flag  \n",
    "\n",
    "    df = df.append(dicti, ignore_index = True)\n",
    "    \n",
    "df = df.T\n",
    "\n",
    "df.tail()"
   ]
  },
  {
   "cell_type": "markdown",
   "metadata": {},
   "source": [
    "## PCA\n",
    "\n",
    "Performing PCA on this dataframe, we want to reduce the dimensionality of our genome sequences from 1279 to 2."
   ]
  },
  {
   "cell_type": "code",
   "execution_count": 26,
   "metadata": {},
   "outputs": [],
   "source": [
    "# pca = PCA()\n",
    "# pca.fit(df)\n",
    "# pca_data = pca.transform(df)"
   ]
  },
  {
   "cell_type": "code",
   "execution_count": 27,
   "metadata": {},
   "outputs": [],
   "source": [
    "per_var = np.round(pca.explained_variance_ratio_* 100, decimals=1)\n",
    "labels_all = ['PC'+str(x) for x in range(1, len(per_var)+1)]\n",
    "per_var=per_var[:10]\n",
    "labels = [str(x) for x in range(1, len(per_var)+1)]\n",
    "\n",
    "with plt.style.context('dark_background'):\n",
    "    plt.figure(figsize = (15, 9))\n",
    "    plt.xlabel(\"Number of Principal Components\")\n",
    "    plt.ylabel(\"Percentage of variance explained\")\n",
    "    plt.bar(range(1,len(per_var)+1), per_var, tick_label=labels, color = \"aqua\")\n",
    "    plt.plot(range(1,len(per_var)+1), np.cumsum(per_var), color = \"red\")\n",
    "    plt.scatter(range(1,len(per_var)+1), np.cumsum(per_var), color = \"yellow\")"
   ]
  },
  {
   "cell_type": "markdown",
   "metadata": {},
   "source": [
    "The first principal component should be able to capture close to 30% of the variance in the dataset."
   ]
  },
  {
   "cell_type": "code",
   "execution_count": 28,
   "metadata": {},
   "outputs": [],
   "source": [
    "final_df = pd.DataFrame(columns=[\"StrainID\", \"PC1\", \"PC2\", \"State\"])\n",
    "pca_df = pd.DataFrame(pca_data, index=[*samplelist], columns = labels_all)\n",
    "\n",
    "for sample in pca_df.index:\n",
    "    \n",
    "    dicti = dict()\n",
    "    \n",
    "    dicti[\"StrainID\"] = sample\n",
    "    dicti[\"PC1\"] = pca_df.PC1.loc[sample]\n",
    "    dicti[\"PC2\"] = pca_df.PC2.loc[sample]\n",
    "    dicti[\"State\"] = data[data[\"StrainID\"]==sample][\"State\"].tolist()[0]\n",
    "    \n",
    "    final_df = final_df.append(dicti, ignore_index = True)\n",
    "\n",
    "final_df.tail()"
   ]
  },
  {
   "cell_type": "code",
   "execution_count": 29,
   "metadata": {},
   "outputs": [],
   "source": [
    "for_x = final_df.PC1.tolist()\n",
    "for_y = final_df.PC2.tolist()\n",
    "for_states = final_df.State.tolist()\n",
    "for_hover = final_df.StrainID.tolist()\n",
    "\n",
    "fig = px.scatter(x=for_x, y=for_y, color=for_states, hover_data= {\"ID\" :for_hover}, \n",
    "                 title=\"Principal Component Axis\",\n",
    "                color_discrete_map={\n",
    "                \"Stateless\": \"grey\",\n",
    "                \"Tamil Nadu\": \"green\",\n",
    "                \"Telangana\": \"red\",\n",
    "                \"Maharashtra\": \"orange\",\n",
    "                \"Gujarat\": \"magenta\",\n",
    "                \"Delhi\": \"purple\",\n",
    "                \"West Bengal\": \"aqua\",\n",
    "                \"Haryana\": \"pink\",\n",
    "                \"Odisha\": \"blue\",\n",
    "                \"Madhya Pradesh\": \"brown\",\n",
    "                \"Karnataka\": \"black\"})\n",
    "fig.show()"
   ]
  },
  {
   "attachments": {
    "image.png": {
     "image/png": "[encoded data removed]"
    }
   },
   "cell_type": "markdown",
   "metadata": {},
   "source": [
    "You should get a plot like this:\n",
    "\n",
    "![image.png](attachment:image.png)\n",
    "\n",
    "**This makes the above observations so much easier. Can you list them with respect to this plot?**"
   ]
  },
  {
   "cell_type": "markdown",
   "metadata": {},
   "source": [
    "# t-SNE\n",
    "\n",
    "Now this time you will be expected to write more than just 3 lines of the code to get the t-SNE plot for this data. Make sure you play with the **perplexity** values enough to appreciate the algorithm. I hope you are able to retrieve the 3 observations and make some new ones from the plot.\n",
    "\n",
    "---\n",
    "\n",
    "You are encouraged to also implement **ISOMAP (from Lab-4)** and try to get more insights from the plots."
   ]
  },
  {
   "cell_type": "markdown",
   "metadata": {},
   "source": [
    "# Conclusion\n",
    "\n",
    "You might be wondering how these 3 observations help in understanding the demographic spread of the virus in the country. \n",
    "\n",
    "### This is not a Bioinformatics course, so you may choose to ignore the details mentioned below\n",
    "But the idea was to motivate you to understand the importance of visualization techniques even with no domain knowlege.\n",
    "\n",
    "---\n",
    "---\n",
    "\n",
    "On performing genetic analysis on the sequences to understand why exactly these observations could have been happening I found the following:\n",
    "\n",
    "#### Observation 1: \n",
    "Samples from Odisha are different than the rest of the country, hence they were scattered away from the clusters in the plots.\n",
    "\n",
    "#### Reason: \n",
    "Genomic sequences of isolates from Odisha were shorter in length with missing bases (deletions); 1 - 29 bases in 5' UTR (38 isolates), 23842 - 24400 bases in S gene, 26306-26524 bases in E gene, 27527 – 28033 bases in ORF7b and ORF8 (8 samples), 28462 - 28680 bases in the N gene (10 samples), 29000 – 29685 in ORF10 gene (15 samples), and 29686 - 29903 bases in 3' UTR (39 isolates). These deletions were unique to the state and werent observed in samples from the rest of the country. \n",
    "\n",
    "#### Observation 2: \n",
    "A secondary cluster away from the primary cluster with sequences from Telangana, Delhi, and Tamil Nadu.\n",
    "\n",
    "#### Reason: \n",
    "About one-third of the Indian isolates (219/685) are part of a subclade I/A3i defined by the co-occurring mutations C6312A, C13730T, C23929T, and C28311T. The subclade's predominance is observed in Telangana (69/97, 71%), Delhi (52/76, 68%), and Tamil Nadu (16/34). Analysis of this subclade is important both scientifically and epidemiologically as the mutations defining it are found in 32% of the Indian samples sequenced, while outside India its distribution is very low (3.5%). This clearly hints at early community transmission due to some super spreader event during March-April, as it is highly unlikely that around one-third of the samples sharing the same set of mutations could have arisen by multiple independent entries with international travel history, especially when its presence globally is negligibly small.\n",
    "\n",
    "#### Observation 3:\n",
    "A dense cluster of sequences from Gujarat.\n",
    "\n",
    "#### Reason:\n",
    "Isolates from Gujarat are a part of a subclade, I/GJ-20A defined by a shared set of mutations C18877T, G25563T (ORF3a: Q57H), and C26735T. This set of mutations are not well represented in the rest of the country. Mutations present in Gujarat have also been found in samples from Europe and that could have been the possible route of transmission into India. Also, Gujarat has the highest COVID-19 death rate (5.12%) in the country (Avg: 2.67%), and this death rate in Gujarat is comparable to that in Europe. This high fatality could be due to these characteristic mutations increasing the deleteriousness of the virus.\n",
    "\n",
    "---\n",
    "\n",
    "**So I hope you appreciate the valuable insights visualization techniques provide us with.** \n",
    "\n",
    "Best of luck for the next Module......\n",
    "---"
   ]
  }
 ],
 "metadata": {
  "kernelspec": {
   "display_name": "Python 3",
   "language": "python",
   "name": "python3"
  },
  "language_info": {
   "codemirror_mode": {
    "name": "ipython",
    "version": 3
   },
   "file_extension": ".py",
   "mimetype": "text/x-python",
   "name": "python",
   "nbconvert_exporter": "python",
   "pygments_lexer": "ipython3",
   "version": "3.8.10"
  }
 },
 "nbformat": 4,
 "nbformat_minor": 4
}
